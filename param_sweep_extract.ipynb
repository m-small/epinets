{
 "cells": [
  {
   "cell_type": "code",
   "execution_count": 19,
   "metadata": {},
   "outputs": [
    {
     "name": "stderr",
     "output_type": "stream",
     "text": [
      "WARNING: using Plots.Formatted in module Main conflicts with an existing identifier.\n"
     ]
    }
   ],
   "source": [
    "using LightGraphs\n",
    "using GraphPlot\n",
    "using ProgressBars\n",
    "using Statistics\n",
    "using LinearAlgebra"
   ]
  },
  {
   "cell_type": "code",
   "execution_count": 15,
   "metadata": {},
   "outputs": [],
   "source": [
    "using JLD2, FileIO"
   ]
  },
  {
   "cell_type": "code",
   "execution_count": 4,
   "metadata": {},
   "outputs": [],
   "source": [
    "cd(\"/Users/michael/work/julia\")"
   ]
  },
  {
   "cell_type": "code",
   "execution_count": 22,
   "metadata": {},
   "outputs": [
    {
     "name": "stderr",
     "output_type": "stream",
     "text": [
      "┌ Warning: type Main.#episim does not exist in workspace; reconstructing\n",
      "└ @ JLD2 /Users/michael/.julia/packages/JLD2/hB4ya/src/data.jl:1098\n",
      "┌ Warning: type Main.#meanmaxinfected does not exist in workspace; reconstructing\n",
      "└ @ JLD2 /Users/michael/.julia/packages/JLD2/hB4ya/src/data.jl:1098\n",
      "┌ Warning: type Main.#meantotalinfected does not exist in workspace; reconstructing\n",
      "└ @ JLD2 /Users/michael/.julia/packages/JLD2/hB4ya/src/data.jl:1098\n",
      "┌ Warning: type Main.#parametersweep does not exist in workspace; reconstructing\n",
      "└ @ JLD2 /Users/michael/.julia/packages/JLD2/hB4ya/src/data.jl:1098\n",
      "┌ Warning: type Main.#plotquantiles does not exist in workspace; reconstructing\n",
      "└ @ JLD2 /Users/michael/.julia/packages/JLD2/hB4ya/src/data.jl:1098\n",
      "┌ Warning: type Main.#recover50 does not exist in workspace; reconstructing\n",
      "└ @ JLD2 /Users/michael/.julia/packages/JLD2/hB4ya/src/data.jl:1098\n"
     ]
    },
    {
     "data": {
      "text/plain": [
       "Dict{String,Any} with 42 entries:\n",
       "  \"swp\"                => 0.01\n",
       "  \"r50\"                => [57 64 … 153 168; 54 64 … 151 185; … ; 55 67 … -1 -1;…\n",
       "  \"#5#13\"              => UnknownType{String}(\"Main.#5#13\", #undef)\n",
       "  \"#6#14\"              => UnknownType{String}(\"Main.#6#14\", #undef)\n",
       "  \"C\"                  => [1.0, 0.99, 0.95, 0.9, 0.8, 0.7, 0.6, 0.5]\n",
       "  \"pop\"                => 2102500\n",
       "  \"nseeds\"             => 5\n",
       "  \"p0\"                 => 0.2\n",
       "  \"gridsize\"           => 1450\n",
       "  \"#9#17\"              => UnknownType{String}(\"Main.#9#17\", #undef)\n",
       "  \"bamodel\"            => {2102500, 4204994} undirected simple Int64 graph\n",
       "  \"meanmaxinfected\"    => var\"##Main.#meanmaxinfected#266\"()\n",
       "  \"#episim\"            => UnknownType{String}(\"Main.#episim\", #undef)\n",
       "  \"recover50\"          => var\"##Main.#recover50#270\"()\n",
       "  \"q\"                  => 0.5\n",
       "  \"#meantotalinfected\" => UnknownType{String}(\"Main.#meantotalinfected\", #undef)\n",
       "  \"#recover50\"         => UnknownType{String}(\"Main.#recover50\", #undef)\n",
       "  \"swaps\"              => [0.0, 0.00250943, 0.0127415, 0.0259963, 0.0542584, 0.…\n",
       "  \"#20#22\"             => UnknownType{UnknownType{String}}(UnknownType{String}(…\n",
       "  \"parametersweep\"     => var\"##Main.#parametersweep#268\"()\n",
       "  \"p2s\"                => [0.02, 0.04, 0.06, 0.08, 0.1, 0.12, 0.14, 0.16, 0.18,…\n",
       "  \"#meanmaxinfected\"   => UnknownType{String}(\"Main.#meanmaxinfected\", #undef)\n",
       "  \"#19#21\"             => UnknownType{String}(\"Main.#19#21\", #undef)\n",
       "  \"#8#16\"              => UnknownType{String}(\"Main.#8#16\", #undef)\n",
       "  \"#3#11\"              => UnknownType{String}(\"Main.#3#11\", #undef)\n",
       "  ⋮                    => ⋮"
      ]
     },
     "execution_count": 22,
     "metadata": {},
     "output_type": "execute_result"
    }
   ],
   "source": [
    "loaded=load(\"parameters_swept2020_th100\")"
   ]
  },
  {
   "cell_type": "code",
   "execution_count": 31,
   "metadata": {},
   "outputs": [
    {
     "data": {
      "text/plain": [
       "8×10×7 Array{Int64,3}:\n",
       "[:, :, 1] =\n",
       " 57  64  73   83   88  109  118  137  153  168\n",
       " 54  64  77   81  100  121  120  138  151  185\n",
       " 60  64  76   89  101  114  139  164  214  274\n",
       " 53  61  81   84  105  119  154  224   -1   -1\n",
       " 55  69  82  101  115  156  283   -1   -1   -1\n",
       " 54  65  94  115  152  275   -1   -1   -1   -1\n",
       " 55  67  98  122  208   -1   -1   -1   -1   -1\n",
       " 57  72  95  140  264   -1   -1   -1   -1  274\n",
       "\n",
       "[:, :, 2] =\n",
       " 47  51  57  71   75   84   92  105  113  128\n",
       " 43  51  61  65   74   85   98  108  123  139\n",
       " 46  54  62  70   73   87  102  111  141  168\n",
       " 45  50  60  67   85   97  115  131  156  224\n",
       " 46  55  61  74   89  114  149  193   -1   -1\n",
       " 46  53  64  85  103  144  204   -1   -1   -1\n",
       " 46  55  72  87  101  164   -1   -1   -1   -1\n",
       " 45  56  73  94  140  210   -1   -1   -1   -1\n",
       "\n",
       "[:, :, 3] =\n",
       " 39  46  50  57  59   65   70   84   94  110\n",
       " 38  44  50  53  63   70   74   84   96  107\n",
       " 38  42  53  58  63   73   85   91   99  130\n",
       " 37  45  53  58  65   72   82  104  119  160\n",
       " 39  48  52  62  74   88   99  132  180  239\n",
       " 37  44  55  67  77   90  115  166   -1   -1\n",
       " 40  52  53  72  85  104  151  264   -1   -1\n",
       " 37  45  54  71  85  136  214   -1   -1   -1\n",
       "\n",
       "[:, :, 4] =\n",
       " 34  38  44  49  54  53   61   76   80   87\n",
       " 33  40  44  49  55  64   70   70   83   91\n",
       " 34  39  44  49  56  62   70   75   81   95\n",
       " 35  40  46  48  58  63   69   79   96  124\n",
       " 33  42  47  53  58  68   81  101  118  152\n",
       " 35  38  44  54  64  69   95  113  161  244\n",
       " 35  37  46  52  65  82  111  157  288   -1\n",
       " 34  40  47  56  68  87  128  210   -1   -1\n",
       "\n",
       "[:, :, 5] =\n",
       " 33  36  41  44  46  50   58   60   67   81\n",
       " 30  36  40  46  49  52   54   69   67   73\n",
       " 34  36  41  43  48  56   60   69   72   78\n",
       " 32  36  37  43  47  55   61   73   80   94\n",
       " 30  38  39  46  52  57   67   78   97  118\n",
       " 32  36  41  45  54  63   74   86  114  146\n",
       " 32  39  39  48  55  70   81  103  140  223\n",
       " 31  35  46  49  63  73  101  125  202   -1\n",
       "\n",
       "[:, :, 6] =\n",
       " 27  33  38  38  46  48  50  58   59   69\n",
       " 32  35  37  41  43  45  49  56   64   70\n",
       " 29  35  37  42  44  47  51  64   69   70\n",
       " 32  35  34  39  45  52  57  58   70   74\n",
       " 29  35  37  40  45  55  56  65   73   95\n",
       " 28  34  34  44  52  52  65  79   82  120\n",
       " 28  33  39  42  48  59  71  85   96  154\n",
       " 28  32  38  47  57  58  72  92  122  200\n",
       "\n",
       "[:, :, 7] =\n",
       " 28  30  31  38  41  42  44  52   56   62\n",
       " 27  31  33  39  41  46  49  50   55   64\n",
       " 27  31  33  38  40  42  48  54   53   60\n",
       " 28  32  37  39  40  43  52  54   62   64\n",
       " 26  28  34  39  42  46  47  61   66   73\n",
       " 30  32  35  41  40  47  59  59   71   93\n",
       " 26  31  37  40  48  49  60  75   86  109\n",
       " 27  33  37  39  48  50  61  79  101  129"
      ]
     },
     "execution_count": 31,
     "metadata": {},
     "output_type": "execute_result"
    }
   ],
   "source": [
    "loaded[\"r50\"]"
   ]
  },
  {
   "cell_type": "code",
   "execution_count": 32,
   "metadata": {},
   "outputs": [
    {
     "data": {
      "text/plain": [
       "8×10×7 Array{Int64,3}:\n",
       "[:, :, 1] =\n",
       " 57  64  73   83   88  109  118  137  153  168\n",
       " 54  64  77   81  100  121  120  138  151  185\n",
       " 60  64  76   89  101  114  139  164  214  274\n",
       " 53  61  81   84  105  119  154  224   -1   -1\n",
       " 55  69  82  101  115  156  283   -1   -1   -1\n",
       " 54  65  94  115  152  275   -1   -1   -1   -1\n",
       " 55  67  98  122  208   -1   -1   -1   -1   -1\n",
       " 57  72  95  140  264   -1   -1   -1   -1  274\n",
       "\n",
       "[:, :, 2] =\n",
       " 47  51  57  71   75   84   92  105  113  128\n",
       " 43  51  61  65   74   85   98  108  123  139\n",
       " 46  54  62  70   73   87  102  111  141  168\n",
       " 45  50  60  67   85   97  115  131  156  224\n",
       " 46  55  61  74   89  114  149  193   -1   -1\n",
       " 46  53  64  85  103  144  204   -1   -1   -1\n",
       " 46  55  72  87  101  164   -1   -1   -1   -1\n",
       " 45  56  73  94  140  210   -1   -1   -1   -1\n",
       "\n",
       "[:, :, 3] =\n",
       " 39  46  50  57  59   65   70   84   94  110\n",
       " 38  44  50  53  63   70   74   84   96  107\n",
       " 38  42  53  58  63   73   85   91   99  130\n",
       " 37  45  53  58  65   72   82  104  119  160\n",
       " 39  48  52  62  74   88   99  132  180  239\n",
       " 37  44  55  67  77   90  115  166   -1   -1\n",
       " 40  52  53  72  85  104  151  264   -1   -1\n",
       " 37  45  54  71  85  136  214   -1   -1   -1\n",
       "\n",
       "[:, :, 4] =\n",
       " 34  38  44  49  54  53   61   76   80   87\n",
       " 33  40  44  49  55  64   70   70   83   91\n",
       " 34  39  44  49  56  62   70   75   81   95\n",
       " 35  40  46  48  58  63   69   79   96  124\n",
       " 33  42  47  53  58  68   81  101  118  152\n",
       " 35  38  44  54  64  69   95  113  161  244\n",
       " 35  37  46  52  65  82  111  157  288   -1\n",
       " 34  40  47  56  68  87  128  210   -1   -1\n",
       "\n",
       "[:, :, 5] =\n",
       " 33  36  41  44  46  50   58   60   67   81\n",
       " 30  36  40  46  49  52   54   69   67   73\n",
       " 34  36  41  43  48  56   60   69   72   78\n",
       " 32  36  37  43  47  55   61   73   80   94\n",
       " 30  38  39  46  52  57   67   78   97  118\n",
       " 32  36  41  45  54  63   74   86  114  146\n",
       " 32  39  39  48  55  70   81  103  140  223\n",
       " 31  35  46  49  63  73  101  125  202   -1\n",
       "\n",
       "[:, :, 6] =\n",
       " 27  33  38  38  46  48  50  58   59   69\n",
       " 32  35  37  41  43  45  49  56   64   70\n",
       " 29  35  37  42  44  47  51  64   69   70\n",
       " 32  35  34  39  45  52  57  58   70   74\n",
       " 29  35  37  40  45  55  56  65   73   95\n",
       " 28  34  34  44  52  52  65  79   82  120\n",
       " 28  33  39  42  48  59  71  85   96  154\n",
       " 28  32  38  47  57  58  72  92  122  200\n",
       "\n",
       "[:, :, 7] =\n",
       " 28  30  31  38  41  42  44  52   56   62\n",
       " 27  31  33  39  41  46  49  50   55   64\n",
       " 27  31  33  38  40  42  48  54   53   60\n",
       " 28  32  37  39  40  43  52  54   62   64\n",
       " 26  28  34  39  42  46  47  61   66   73\n",
       " 30  32  35  41  40  47  59  59   71   93\n",
       " 26  31  37  40  48  49  60  75   86  109\n",
       " 27  33  37  39  48  50  61  79  101  129"
      ]
     },
     "execution_count": 32,
     "metadata": {},
     "output_type": "execute_result"
    }
   ],
   "source": [
    "C=loaded[\"C\"]\n",
    "swaps=loaded[\"swaps\"]\n",
    "p2s=loaded[\"p2s\"]\n",
    "r2s=loaded[\"r2s\"]\n",
    "mti=loaded[\"mti\"]\n",
    "mmi=loaded[\"mmi\"]\n",
    "r50=loaded[\"r50\"]"
   ]
  },
  {
   "cell_type": "code",
   "execution_count": 35,
   "metadata": {},
   "outputs": [],
   "source": [
    "@save \"parameters_th100\" C swaps p2s r2s mti mmi r50"
   ]
  },
  {
   "cell_type": "code",
   "execution_count": null,
   "metadata": {},
   "outputs": [],
   "source": []
  }
 ],
 "metadata": {
  "kernelspec": {
   "display_name": "Julia 1.4.0",
   "language": "julia",
   "name": "julia-1.4"
  },
  "language_info": {
   "file_extension": ".jl",
   "mimetype": "application/julia",
   "name": "julia",
   "version": "1.4.0"
  }
 },
 "nbformat": 4,
 "nbformat_minor": 4
}
