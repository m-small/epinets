{
 "cells": [
  {
   "cell_type": "raw",
   "metadata": {},
   "source": [
    "The script simulates spread of an epidemic in a large population centre (N=gridsize^2). The assumptions of the model are that prior to 300 infections, there is no control and person to person contact follows a scalefree distribution. After infection control, person-to-person contact is a latttice with swp smallworld connections. \n",
    "\n",
    "Conclusions: The small-wordl network has the expected effect - exponenital growth becomes geometric diffusion. The disease wil still continue to spread without the additional introduction of infection control to (effectively) decrease R0.The effectiveness of decreasing R0 determines the length of the tail, leaky/imperfect physical distancing seems to work almost as well as full distancing - certainly the error bars are large."
   ]
  },
  {
   "cell_type": "code",
   "execution_count": 1,
   "metadata": {},
   "outputs": [],
   "source": [
    "using LightGraphs\n",
    "using GraphPlot\n",
    "using Plots\n",
    "using ProgressBars\n",
    "using Statistics\n",
    "using LinearAlgebra"
   ]
  },
  {
   "cell_type": "code",
   "execution_count": 2,
   "metadata": {},
   "outputs": [
    {
     "data": {
      "text/plain": [
       "episim (generic function with 3 methods)"
      ]
     },
     "execution_count": 2,
     "metadata": {},
     "output_type": "execute_result"
    }
   ],
   "source": [
    "#'reasonable' parameters\n",
    "gridsize=1450\n",
    "pop=gridsize^2\n",
    "p0=0.2 #a guess - tuned to match observed data \n",
    "p2=1/12 #revised infection rate with distancing measures\n",
    "q=1/7 #\"up to\" two weeks\n",
    "r0=1/14 #about two weeks for mild, 3-6 for severe\n",
    "r2=1/4 #revised removal rate (now due to testing and isolation)\n",
    " #   ndays=120 #120 prediction (from patient(s) zere\n",
    " #   nsims=50 #50 runs\n",
    "nseeds=5 #probably too many, consider dropping.\n",
    "\n",
    "\n",
    "\n",
    "#got that working ... put it all together\n",
    "function episim(net1, net2, ndays::Int64=120, nsims::Int64=50)\n",
    "    \n",
    "    state=Array{Int8,2}(undef,1,pop) #this is a bit wasteful, there must be a better categorical way to do this...\n",
    "    state[1:pop].=1;\n",
    "    state[rand((1:pop),(1,nseeds))].=2; #seeds should be exposed cases\n",
    "    \n",
    "    st=Array{UInt64,2}(undef,ndays,nsims)\n",
    "    ex=Array{UInt64,2}(undef,ndays,nsims)\n",
    "    fe=Array{UInt64,2}(undef,ndays,nsims)\n",
    "    rm=Array{UInt64,2}(undef,ndays,nsims)\n",
    "    st[1,1:nsims] .= count(x->x==1,state)\n",
    "    ex[1,1:nsims] .= count(x->x==2,state)\n",
    "    fe[1,1:nsims] .= count(x->x==3,state)\n",
    "    rm[1,1:nsims] .= count(x->x==4,state)\n",
    "    \n",
    "    iter = ProgressBar(1:nsims)\n",
    "    for j in iter\n",
    "        net=net1\n",
    "        #reinitialise the state vector\n",
    "        state=Array{Int8,2}(undef,1,pop) #this is a bit wasteful, there must be a better categorical way to do this...\n",
    "        state[1:pop].=1;\n",
    "        state[rand((1:pop),(1,nseeds))].=2; #seeds should be exposed cases\n",
    "        r=r0\n",
    "        p=p0\n",
    "        \n",
    "        for i in 1:ndays\n",
    "\n",
    "            for v in vertices(net)\n",
    "                if state[v]==1\n",
    "                    for n in all_neighbors(net, v)\n",
    "                        if state[n]==3 && rand(Float64).<p\n",
    "                            state[v]=2   #susceptible becomes exposed\n",
    "                        elseif state[n]==14 && rand(Float64).<p\n",
    "                            state[v]=2   #susceptible becomes exposed\n",
    "                        end\n",
    "                    end\n",
    "                elseif state[v]==2 && rand(Float64).<q\n",
    "                    state[v]=13 #exposed becomes infectious\n",
    "                elseif state[v]==3 && rand(Float64).<r\n",
    "                    state[v]=14 #infectious becomes removed\n",
    "                end\n",
    "            end\n",
    "            state[state.>10]= state[state.>10] .- 10\n",
    "            st[i,j] = count(x->x==1,state)\n",
    "            ex[i,j] = count(x->x==2,state)\n",
    "            fe[i,j] = count(x->x==3,state)\n",
    "            rm[i,j] = count(x->x==4,state)\n",
    "            \n",
    "            #########################################\n",
    "            #switch network after 300 infections\n",
    "            if fe[i,j]>100\n",
    "                net=net2 #change network structure\n",
    "                r=r2     #change the removal rate\n",
    "                p=p2     #and the infection rate\n",
    "            end\n",
    "            #########################################\n",
    "            \n",
    "        end\n",
    "    end\n",
    "    \n",
    "    return st, ex, fe, rm\n",
    "\n",
    "end"
   ]
  },
  {
   "cell_type": "code",
   "execution_count": 3,
   "metadata": {},
   "outputs": [
    {
     "data": {
      "text/plain": [
       "{2102500, 4205000} undirected simple Int64 graph"
      ]
     },
     "execution_count": 3,
     "metadata": {},
     "output_type": "execute_result"
    }
   ],
   "source": [
    "bamodel=barabasi_albert(gridsize^2, 3, 2)\n",
    "lattice=LightGraphs.grid((gridsize,gridsize),periodic=true)\n",
    "wattstrog=watts_strogatz(gridsize^2, 4, 0.1) "
   ]
  },
  {
   "cell_type": "code",
   "execution_count": null,
   "metadata": {},
   "outputs": [
    {
     "name": "stdout",
     "output_type": "stream",
     "text": [
      "24.0%┣██████████▎                                ┫ 12/50 [01:51<06:23, 0.1 it/s]"
     ]
    }
   ],
   "source": [
    "St,Et,It,Rt=episim(bamodel,wattstrog) #switch between scale free and lattice (i.e. mixing to diffusion)"
   ]
  },
  {
   "cell_type": "code",
   "execution_count": null,
   "metadata": {},
   "outputs": [],
   "source": [
    "meany=mean(It,dims=2)\n",
    "stdy=std(It,dims=2)\n",
    "plot(1:120,[meany, meany-stdy, meany+stdy])"
   ]
  },
  {
   "cell_type": "code",
   "execution_count": null,
   "metadata": {},
   "outputs": [],
   "source": [
    "function plotquantiles(y,col,labl,qnt::Float64=0.3)\n",
    "    nt,ny=size(y)\n",
    "    low=Array{Float64,1}(undef,nt)\n",
    "    mid=Array{Float64,1}(undef,nt)\n",
    "    hig=Array{Float64,1}(undef,nt)\n",
    "    for i in 1:nt\n",
    "        low[i],mid[i],hig[i] = quantile(y[i,:],[0.5-qnt, 0.5, 0.5+qnt])\n",
    "    end\n",
    "    plot!(1:nt,mid,grid=false,ribbon=(mid-low,hig-mid),fillalpha=.25,lw=3, seriescolor=col, label=labl)\n",
    "end"
   ]
  },
  {
   "cell_type": "code",
   "execution_count": null,
   "metadata": {},
   "outputs": [],
   "source": [
    "plot()\n",
    "plotquantiles(It,:red,\"symptomatic\")\n",
    "plotquantiles(Rt,:black,\"removed\")\n",
    "plotquantiles(Et,:yellow,\"exposed\")"
   ]
  },
  {
   "cell_type": "code",
   "execution_count": null,
   "metadata": {},
   "outputs": [],
   "source": [
    "plot()\n",
    "plotquantiles(It,:blue,\"active\")"
   ]
  },
  {
   "cell_type": "code",
   "execution_count": null,
   "metadata": {},
   "outputs": [],
   "source": [
    "It"
   ]
  },
  {
   "cell_type": "code",
   "execution_count": null,
   "metadata": {},
   "outputs": [],
   "source": [
    "gridsize=1450\n",
    "bamodel=barabasi_albert(gridsize^2, 3, 2)\n",
    "ndays=150 #120 prediction (from patient(s) zere\n",
    "nsims=100 #50 runs\n",
    "i=1\n",
    "cols=[:black, :blue, :cyan, :purple, :magenta, :green, :orange, :yellow, :pink, :red, :brown]\n",
    "swswaps=[0, 0.001, 0.01, 0.02, 0.05, 0.075, 0.1, 0.125, 0.15, 0.2, 0.25];\n",
    "for swp in swswaps \n",
    "    wattstrog=watts_strogatz(gridsize^2, 4, swp)\n",
    "    St,Et,It,Rt=episim(bamodel,wattstrog,ndays,nsims) #switch between scale free and lattice (i.e. mixing to diffusion)\n",
    "    plotquantiles(It,cols[i],\"p=$(swswaps[i])\")\n",
    "    i += 1\n",
    "end"
   ]
  },
  {
   "cell_type": "code",
   "execution_count": null,
   "metadata": {},
   "outputs": [],
   "source": [
    "gridsize=1450\n",
    "bamodel=barabasi_albert(gridsize^2, 3, 2)\n",
    "ndays=150 #120 prediction (from patient(s) zere\n",
    "nsims=100 #50 runs\n",
    "swswaps=[0, 0.001, 0.01, 0.02, 0.05, 0.075, 0.1, 0.125, 0.15, 0.2, 0.25];\n",
    "Sti=Array{Any,1}(undef,length(swswaps))\n",
    "Eti=Array{Any,1}(undef,length(swswaps))\n",
    "Iti=Array{Any,1}(undef,length(swswaps))\n",
    "Rti=Array{Any,1}(undef,length(swswaps))\n",
    "i=1\n",
    "for swp in swswaps\n",
    "    wattstrog=watts_strogatz(gridsize^2, 4, swp)\n",
    "    St,Et,It,Rt = episim(bamodel,wattstrog,ndays,nsims) #switch between scale free and lattice (i.e. mixing to diffusion)\n",
    "    Sti[i]=St[:,:]\n",
    "    Eti[i]=Et[:,:]\n",
    "    Iti[i]=It[:,:]\n",
    "    Rti[i]=Rt[:,:]\n",
    "    i += 1\n",
    "end"
   ]
  },
  {
   "cell_type": "code",
   "execution_count": null,
   "metadata": {},
   "outputs": [],
   "source": [
    "plot()\n",
    "cols=[:black, :blue, :purple, :green, :orange, :yellow, :red]\n",
    "for i=1:6\n",
    "    print(i)\n",
    "    plotquantiles(Sti[i],cols[i],\"p=$(swswaps[i])\")\n",
    "end"
   ]
  },
  {
   "cell_type": "code",
   "execution_count": null,
   "metadata": {},
   "outputs": [],
   "source": [
    "i=7\n",
    "plotquantiles(Sti[i],cols[i],\"p=$(swswaps[i])\")"
   ]
  },
  {
   "cell_type": "code",
   "execution_count": null,
   "metadata": {},
   "outputs": [],
   "source": [
    "swswaps=[0, 0.001, 0.01, 0.02, 0.05, 0.075, 0.1, 0.125, 0.15, 0.2, 0.25];\n",
    "cols=[:black, :blue, :cyan, :purple, :magenta, :green, :orange, :yellow, :pink, :red, :brown]\n",
    "\n"
   ]
  },
  {
   "cell_type": "code",
   "execution_count": null,
   "metadata": {},
   "outputs": [],
   "source": [
    "plot()\n",
    "for i=[1 2 3 4 5 7 8 9 10]\n",
    "    print(i)\n",
    "    plotquantiles(Sti[i],cols[i],\"p=$(swswaps[i])\")\n",
    "end"
   ]
  },
  {
   "cell_type": "code",
   "execution_count": null,
   "metadata": {},
   "outputs": [],
   "source": [
    " i=11\n",
    "plotquantiles(Sti[i],cols[i],\"p=$(swswaps[i])\")\n",
    "\n"
   ]
  },
  {
   "cell_type": "code",
   "execution_count": null,
   "metadata": {},
   "outputs": [],
   "source": [
    "plot()\n",
    "for i=[1 2 3 4 5 7 8 9 10]\n",
    "    print(i)\n",
    "    plotquantiles(Iti[i],cols[i],\"p=$(swswaps[i])\")\n",
    "end"
   ]
  },
  {
   "cell_type": "code",
   "execution_count": null,
   "metadata": {},
   "outputs": [],
   "source": [
    "i=11\n",
    "plotquantiles(Iti[i],cols[i],\"p=$(swswaps[i])\")\n",
    "\n"
   ]
  },
  {
   "cell_type": "code",
   "execution_count": null,
   "metadata": {},
   "outputs": [],
   "source": [
    "NSt,NEt,NIt,NRt = episim(bamodel,bamodel,ndays,nsims)"
   ]
  },
  {
   "cell_type": "code",
   "execution_count": null,
   "metadata": {},
   "outputs": [],
   "source": [
    "function diffmat(A)\n",
    "    A[2:end,:]-A[1:end-1,:]\n",
    "end"
   ]
  },
  {
   "cell_type": "code",
   "execution_count": null,
   "metadata": {},
   "outputs": [],
   "source": [
    "p1=plot(title=\"Daily Infections\", ylims=(0,300),xlabel=\"Day\")\n",
    "dothese=[1 3 5 7 9]\n",
    "for i=dothese\n",
    "    plotquantiles(diffmat(Rti[i]),cols[i+1],\"p=$(swswaps[i])\")\n",
    "end\n",
    "plotquantiles(diffmat(NRt),:black,\"no distancing\")\n",
    "\n",
    "\n",
    "p2=plot(title=\"Total Infections\", ylims=(0,10000),xlabel=\"Day\")\n",
    "for i=dothese\n",
    "    plotquantiles(Rti[i],cols[i+1],\"p=$(swswaps[i])\")\n",
    "end\n",
    "plotquantiles(NRt,:black,\"no distancing\")\n",
    "\n",
    "plot(p1,p2,layout=(2,1),size=(800, 800))"
   ]
  },
  {
   "cell_type": "code",
   "execution_count": null,
   "metadata": {},
   "outputs": [],
   "source": [
    "savefig(\"distancing-error\")"
   ]
  },
  {
   "cell_type": "code",
   "execution_count": null,
   "metadata": {},
   "outputs": [],
   "source": []
  },
  {
   "cell_type": "code",
   "execution_count": null,
   "metadata": {},
   "outputs": [],
   "source": []
  }
 ],
 "metadata": {
  "kernelspec": {
   "display_name": "Julia 1.4.0",
   "language": "julia",
   "name": "julia-1.4"
  },
  "language_info": {
   "file_extension": ".jl",
   "mimetype": "application/julia",
   "name": "julia",
   "version": "1.4.0"
  }
 },
 "nbformat": 4,
 "nbformat_minor": 4
}
