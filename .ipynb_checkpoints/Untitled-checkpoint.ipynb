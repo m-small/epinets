{
 "cells": [
  {
   "cell_type": "code",
   "execution_count": 6,
   "metadata": {},
   "outputs": [
    {
     "name": "stderr",
     "output_type": "stream",
     "text": [
      "\u001b[32m\u001b[1m   Updating\u001b[22m\u001b[39m registry at `~/.julia/registries/General`\n"
     ]
    },
    {
     "name": "stdout",
     "output_type": "stream",
     "text": [
      "\u001b[?25l    "
     ]
    },
    {
     "name": "stderr",
     "output_type": "stream",
     "text": [
      "\u001b[32m\u001b[1m   Updating\u001b[22m\u001b[39m git-repo `https://github.com/JuliaRegistries/General.git`\n"
     ]
    },
    {
     "name": "stdout",
     "output_type": "stream",
     "text": [
      "\u001b[2K\u001b[?25h[1mFetching:\u001b[22m\u001b[39m [========================================>]  100.0 %[36m\u001b[1mFetching:\u001b[22m\u001b[39m [===========>                             ]  27.3 %                   ]  51.2 % %   ]  91.4 %\u001b[36m\u001b[1mFetching:\u001b[22m\u001b[39m [=====================================>   ]  91.6 %"
     ]
    },
    {
     "name": "stderr",
     "output_type": "stream",
     "text": [
      "\u001b[32m\u001b[1m  Resolving\u001b[22m\u001b[39m package versions...\n",
      "\u001b[32m\u001b[1m  Installed\u001b[22m\u001b[39m Xorg_libXrender_jll ─ v0.9.10+2\n",
      "\u001b[32m\u001b[1m  Installed\u001b[22m\u001b[39m Xorg_libX11_jll ───── v1.6.9+2\n",
      "\u001b[32m\u001b[1m  Installed\u001b[22m\u001b[39m Xorg_libxcb_jll ───── v1.13.0+2\n",
      "\u001b[32m\u001b[1m  Installed\u001b[22m\u001b[39m Xorg_libXext_jll ──── v1.3.4+2\n",
      "\u001b[32m\u001b[1m  Installed\u001b[22m\u001b[39m CSV ───────────────── v0.6.1\n",
      "\u001b[32m\u001b[1m   Updating\u001b[22m\u001b[39m `~/.julia/environments/v1.4/Project.toml`\n",
      " \u001b[90m [336ed68f]\u001b[39m\u001b[92m + CSV v0.6.1\u001b[39m\n",
      "\u001b[32m\u001b[1m   Updating\u001b[22m\u001b[39m `~/.julia/environments/v1.4/Manifest.toml`\n",
      " \u001b[90m [336ed68f]\u001b[39m\u001b[93m ↑ CSV v0.6.0 ⇒ v0.6.1\u001b[39m\n",
      " \u001b[90m [4f6342f7]\u001b[39m\u001b[93m ↑ Xorg_libX11_jll v1.6.9+1 ⇒ v1.6.9+2\u001b[39m\n",
      " \u001b[90m [1082639a]\u001b[39m\u001b[93m ↑ Xorg_libXext_jll v1.3.4+1 ⇒ v1.3.4+2\u001b[39m\n",
      " \u001b[90m [ea2f1a96]\u001b[39m\u001b[93m ↑ Xorg_libXrender_jll v0.9.10+1 ⇒ v0.9.10+2\u001b[39m\n",
      " \u001b[90m [c7cfdc94]\u001b[39m\u001b[93m ↑ Xorg_libxcb_jll v1.13.0+1 ⇒ v1.13.0+2\u001b[39m\n"
     ]
    }
   ],
   "source": [
    "import Pkg; Pkg.add(\"CSV\")"
   ]
  },
  {
   "cell_type": "code",
   "execution_count": 3,
   "metadata": {},
   "outputs": [],
   "source": [
    "cd(\"/Users/michael/work/data/COVID-19\")"
   ]
  },
  {
   "cell_type": "code",
   "execution_count": 7,
   "metadata": {
    "scrolled": true
   },
   "outputs": [
    {
     "name": "stderr",
     "output_type": "stream",
     "text": [
      "┌ Info: Precompiling CSV [336ed68f-0bac-5ca0-87d4-7b16caf5d00b]\n",
      "└ @ Base loading.jl:1260\n"
     ]
    }
   ],
   "source": [
    "using CSV"
   ]
  },
  {
   "cell_type": "code",
   "execution_count": 63,
   "metadata": {},
   "outputs": [
    {
     "data": {
      "text/plain": [
       "getdata (generic function with 4 methods)"
      ]
     },
     "execution_count": 63,
     "metadata": {},
     "output_type": "execute_result"
    }
   ],
   "source": [
    "function getdata(country::String=\"Australia\", state::String=\"Western Australia\", file::String=\"time_series_covid19_confirmed_global.csv\")\n",
    "\n",
    "x=[]\n",
    "for row in CSV.File(file)\n",
    "    if row[2]==country\n",
    "        if length(state)==0 || row[1]==state\n",
    "            println(\"found\")\n",
    "            x=row\n",
    "        end\n",
    "    end\n",
    "end\n",
    "    \n",
    "z=Array{UInt64,1}(undef,length(x)-4)\n",
    "    \n",
    "for (index, value) in enumerate(x)\n",
    "     #   println(\"$zi\")\n",
    "    if index>4\n",
    "        z[index-4]=value\n",
    "    end    \n",
    "end\n",
    "\n",
    "z\n",
    "end\n",
    "    "
   ]
  },
  {
   "cell_type": "code",
   "execution_count": 71,
   "metadata": {},
   "outputs": [],
   "source": [
    "using Plots"
   ]
  },
  {
   "cell_type": "code",
   "execution_count": null,
   "metadata": {},
   "outputs": [],
   "source": [
    "plot(z)"
   ]
  },
  {
   "cell_type": "code",
   "execution_count": 62,
   "metadata": {},
   "outputs": [
    {
     "data": {
      "text/plain": [
       "0x00000001291e2350"
      ]
     },
     "execution_count": 62,
     "metadata": {},
     "output_type": "execute_result"
    }
   ],
   "source": [
    "z[4]"
   ]
  },
  {
   "cell_type": "code",
   "execution_count": 15,
   "metadata": {},
   "outputs": [
    {
     "ename": "UndefVarError",
     "evalue": "UndefVarError: row not defined",
     "output_type": "error",
     "traceback": [
      "UndefVarError: row not defined",
      "",
      "Stacktrace:",
      " [1] top-level scope at In[15]:1"
     ]
    }
   ],
   "source": [
    "row in CSV.File(file)"
   ]
  },
  {
   "cell_type": "code",
   "execution_count": null,
   "metadata": {},
   "outputs": [],
   "source": []
  },
  {
   "cell_type": "code",
   "execution_count": 18,
   "metadata": {},
   "outputs": [
    {
     "data": {
      "text/plain": [
       "CSV.Row{false}:\n",
       " Symbol(\"Province/State\")     \"Western Australia\"\n",
       " Symbol(\"Country/Region\")     \"Australia\"\n",
       " :Lat                      -31.9505\n",
       " :Long                     115.8605\n",
       " Symbol(\"1/22/20\")           0\n",
       " Symbol(\"1/23/20\")           0\n",
       " Symbol(\"1/24/20\")           0\n",
       " Symbol(\"1/25/20\")           0\n",
       " Symbol(\"1/26/20\")           0\n",
       " Symbol(\"1/27/20\")           0\n",
       " Symbol(\"1/28/20\")           0\n",
       " Symbol(\"1/29/20\")           0\n",
       " Symbol(\"1/30/20\")           0\n",
       " ⋮                         \n",
       " Symbol(\"4/5/20\")          453\n",
       " Symbol(\"4/6/20\")          460\n",
       " Symbol(\"4/7/20\")          460\n",
       " Symbol(\"4/8/20\")          481\n",
       " Symbol(\"4/9/20\")          495\n",
       " Symbol(\"4/10/20\")         506\n",
       " Symbol(\"4/11/20\")         514\n",
       " Symbol(\"4/12/20\")         514\n",
       " Symbol(\"4/13/20\")         517\n",
       " Symbol(\"4/14/20\")         527\n",
       " Symbol(\"4/15/20\")         527\n",
       " Symbol(\"4/16/20\")         532"
      ]
     },
     "execution_count": 18,
     "metadata": {},
     "output_type": "execute_result"
    }
   ],
   "source": [
    "row=CSV.File(file)[16]"
   ]
  },
  {
   "cell_type": "code",
   "execution_count": 20,
   "metadata": {},
   "outputs": [
    {
     "data": {
      "text/plain": [
       "true"
      ]
     },
     "execution_count": 20,
     "metadata": {},
     "output_type": "execute_result"
    }
   ],
   "source": [
    "row[1]==state"
   ]
  },
  {
   "cell_type": "code",
   "execution_count": 24,
   "metadata": {},
   "outputs": [
    {
     "data": {
      "text/plain": [
       "17"
      ]
     },
     "execution_count": 24,
     "metadata": {},
     "output_type": "execute_result"
    }
   ],
   "source": [
    "length(state)"
   ]
  },
  {
   "cell_type": "code",
   "execution_count": 33,
   "metadata": {},
   "outputs": [
    {
     "data": {
      "text/plain": [
       "CSV.Row{false}:\n",
       " Symbol(\"Province/State\")     \"Western Australia\"\n",
       " Symbol(\"Country/Region\")     \"Australia\"\n",
       " :Lat                      -31.9505\n",
       " :Long                     115.8605\n",
       " Symbol(\"1/22/20\")           0\n",
       " Symbol(\"1/23/20\")           0\n",
       " Symbol(\"1/24/20\")           0\n",
       " Symbol(\"1/25/20\")           0\n",
       " Symbol(\"1/26/20\")           0\n",
       " Symbol(\"1/27/20\")           0\n",
       " Symbol(\"1/28/20\")           0\n",
       " Symbol(\"1/29/20\")           0\n",
       " Symbol(\"1/30/20\")           0\n",
       " ⋮                         \n",
       " Symbol(\"4/5/20\")          453\n",
       " Symbol(\"4/6/20\")          460\n",
       " Symbol(\"4/7/20\")          460\n",
       " Symbol(\"4/8/20\")          481\n",
       " Symbol(\"4/9/20\")          495\n",
       " Symbol(\"4/10/20\")         506\n",
       " Symbol(\"4/11/20\")         514\n",
       " Symbol(\"4/12/20\")         514\n",
       " Symbol(\"4/13/20\")         517\n",
       " Symbol(\"4/14/20\")         527\n",
       " Symbol(\"4/15/20\")         527\n",
       " Symbol(\"4/16/20\")         532"
      ]
     },
     "execution_count": 33,
     "metadata": {},
     "output_type": "execute_result"
    }
   ],
   "source": [
    "x\n"
   ]
  },
  {
   "cell_type": "code",
   "execution_count": 36,
   "metadata": {},
   "outputs": [
    {
     "data": {
      "text/plain": [
       "Base.Generator{CSV.Row{false},Type{Int64}}(Int64, CSV.Row{false}:\n",
       " Symbol(\"Province/State\")     \"Western Australia\"\n",
       " Symbol(\"Country/Region\")     \"Australia\"\n",
       " :Lat                      -31.9505\n",
       " :Long                     115.8605\n",
       " Symbol(\"1/22/20\")           0\n",
       " Symbol(\"1/23/20\")           0\n",
       " Symbol(\"1/24/20\")           0\n",
       " Symbol(\"1/25/20\")           0\n",
       " Symbol(\"1/26/20\")           0\n",
       " Symbol(\"1/27/20\")           0\n",
       " Symbol(\"1/28/20\")           0\n",
       " Symbol(\"1/29/20\")           0\n",
       " Symbol(\"1/30/20\")           0\n",
       " ⋮                         \n",
       " Symbol(\"4/5/20\")          453\n",
       " Symbol(\"4/6/20\")          460\n",
       " Symbol(\"4/7/20\")          460\n",
       " Symbol(\"4/8/20\")          481\n",
       " Symbol(\"4/9/20\")          495\n",
       " Symbol(\"4/10/20\")         506\n",
       " Symbol(\"4/11/20\")         514\n",
       " Symbol(\"4/12/20\")         514\n",
       " Symbol(\"4/13/20\")         517\n",
       " Symbol(\"4/14/20\")         527\n",
       " Symbol(\"4/15/20\")         527\n",
       " Symbol(\"4/16/20\")         532)"
      ]
     },
     "execution_count": 36,
     "metadata": {},
     "output_type": "execute_result"
    }
   ],
   "source": [
    "z=(Int(zx) for zx in x)"
   ]
  },
  {
   "cell_type": "code",
   "execution_count": 39,
   "metadata": {},
   "outputs": [
    {
     "ename": "MethodError",
     "evalue": "MethodError: no method matching getindex(::Base.Generator{CSV.Row{false},Type{Int64}}, ::Int64)",
     "output_type": "error",
     "traceback": [
      "MethodError: no method matching getindex(::Base.Generator{CSV.Row{false},Type{Int64}}, ::Int64)",
      "",
      "Stacktrace:",
      " [1] top-level scope at In[39]:1"
     ]
    }
   ],
   "source": [
    "z[1]"
   ]
  },
  {
   "cell_type": "code",
   "execution_count": null,
   "metadata": {},
   "outputs": [],
   "source": []
  }
 ],
 "metadata": {
  "kernelspec": {
   "display_name": "Julia 1.4.0",
   "language": "julia",
   "name": "julia-1.4"
  },
  "language_info": {
   "file_extension": ".jl",
   "mimetype": "application/julia",
   "name": "julia",
   "version": "1.4.0"
  }
 },
 "nbformat": 4,
 "nbformat_minor": 4
}
