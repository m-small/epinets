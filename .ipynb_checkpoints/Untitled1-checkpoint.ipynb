{
 "cells": [
  {
   "cell_type": "code",
   "execution_count": 28,
   "metadata": {},
   "outputs": [],
   "source": [
    "cd(\"/Users/michael/work/GitHub/epinets\")"
   ]
  },
  {
   "cell_type": "code",
   "execution_count": 33,
   "metadata": {},
   "outputs": [
    {
     "data": {
      "text/plain": [
       "Main.EpiSim"
      ]
     },
     "execution_count": 33,
     "metadata": {},
     "output_type": "execute_result"
    }
   ],
   "source": [
    "EpiSim"
   ]
  },
  {
   "cell_type": "code",
   "execution_count": null,
   "metadata": {},
   "outputs": [],
   "source": []
  },
  {
   "cell_type": "code",
   "execution_count": 37,
   "metadata": {},
   "outputs": [],
   "source": [
    "cd(\"/Users/michael/work/GitHub/COVID-19/csse_covid_19_data/csse_covid_19_time_series\")"
   ]
  },
  {
   "cell_type": "code",
   "execution_count": 23,
   "metadata": {},
   "outputs": [
    {
     "data": {
      "text/plain": [
       "1×8 Array{String,2}:\n",
       " \"Australian Capital Territory\"  …  \"Victoria\"  \"Western Australia\""
      ]
     },
     "execution_count": 23,
     "metadata": {},
     "output_type": "execute_result"
    }
   ],
   "source": [
    "file=\"time_series_covid19_confirmed_global.csv\"\n",
    "allstates=[\"Australian Capital Territory\" \"New South Wales\"  \"Northern Territory\" \"Queensland\" \"South Australia\" \"Tasmania\" \"Victoria\" \"Western Australia\"]"
   ]
  },
  {
   "cell_type": "code",
   "execution_count": 38,
   "metadata": {},
   "outputs": [],
   "source": [
    "z=[]\n",
    "for state in allstates\n",
    "    z=push!(z,EpiSim.getdata(\"Australia\",state))\n",
    "end"
   ]
  },
  {
   "cell_type": "code",
   "execution_count": 50,
   "metadata": {},
   "outputs": [
    {
     "ename": "UndefVarError",
     "evalue": "UndefVarError: CSV not defined",
     "output_type": "error",
     "traceback": [
      "UndefVarError: CSV not defined",
      "",
      "Stacktrace:",
      " [1] top-level scope at In[50]:1"
     ]
    }
   ],
   "source": [
    "ddays=CSV.File(file)[1]\n",
    "ddays=propertynames(ddays,4)[5:end]\n",
    "ddays=String.(ddays)\n",
    "ndays=length(ddays)"
   ]
  },
  {
   "cell_type": "code",
   "execution_count": 42,
   "metadata": {},
   "outputs": [
    {
     "data": {
      "text/plain": [
       "1×8 Array{Int64,2}:\n",
       " 426709  8089526  245869  5095100  1751693  534281  6594804  2621680"
      ]
     },
     "execution_count": 42,
     "metadata": {},
     "output_type": "execute_result"
    }
   ],
   "source": [
    "pops=[426709 8089526 245869 5095100 1751693 534281 6594804 2621680]"
   ]
  },
  {
   "cell_type": "code",
   "execution_count": 43,
   "metadata": {},
   "outputs": [
    {
     "data": {
      "text/plain": [
       "5"
      ]
     },
     "execution_count": 43,
     "metadata": {},
     "output_type": "execute_result"
    }
   ],
   "source": [
    "#'reasonable' parameters\n",
    "#gridsize=1450\n",
    "#pop=gridsize^2\n",
    "p0=0.2 #a guess - tuned to match observed data \n",
    "p2=1/12 #revised infection rate with distancing measures\n",
    "q=1/7 #\"up to\" two weeks\n",
    "r0=1/14 #about two weeks for mild, 3-6 for severe\n",
    "r2=1/4 #revised removal rate (now due to testing and isolation)\n",
    " #   ndays=120 #120 prediction (from patient(s) zere\n",
    " #   nsims=50 #50 runs\n",
    "nseeds=5 #probably too many, consider dropping."
   ]
  },
  {
   "cell_type": "code",
   "execution_count": 44,
   "metadata": {},
   "outputs": [
    {
     "data": {
      "text/plain": [
       "1"
      ]
     },
     "execution_count": 44,
     "metadata": {},
     "output_type": "execute_result"
    }
   ],
   "source": [
    "i=1"
   ]
  },
  {
   "cell_type": "code",
   "execution_count": 48,
   "metadata": {},
   "outputs": [
    {
     "data": {
      "text/plain": [
       "653"
      ]
     },
     "execution_count": 48,
     "metadata": {},
     "output_type": "execute_result"
    }
   ],
   "source": [
    "pop=pops[i]\n",
    "gridsize=Int(floor(sqrt(pop)))"
   ]
  },
  {
   "cell_type": "code",
   "execution_count": 49,
   "metadata": {},
   "outputs": [
    {
     "ename": "UndefVarError",
     "evalue": "UndefVarError: ndays not defined",
     "output_type": "error",
     "traceback": [
      "UndefVarError: ndays not defined",
      "",
      "Stacktrace:",
      " [1] top-level scope at In[49]:2"
     ]
    }
   ],
   "source": [
    "ddt(z,zt)=count(z->z>0, z[1:zt])+ count(z->z<0, z[zt+1:end])\n",
    "~,tpday=findmax([ddt(diff(diff(y)),nx) for nx in 1:(ndays-2)])\n",
    "#this is the turning point between exponential growth and decay. totItp total infections at day tpday\n",
    "totItp=y[tpday+1]\n",
    "plot(1:tpday+1,y[1:tpday+1],lw=4,label=\"growth phase\")\n",
    "plot!(tpday+1:ndays,y[tpday+1:ndays],lw=4,label=\"plateau\")"
   ]
  },
  {
   "cell_type": "code",
   "execution_count": null,
   "metadata": {},
   "outputs": [],
   "source": []
  }
 ],
 "metadata": {
  "kernelspec": {
   "display_name": "Julia 1.4.0",
   "language": "julia",
   "name": "julia-1.4"
  },
  "language_info": {
   "file_extension": ".jl",
   "mimetype": "application/julia",
   "name": "julia",
   "version": "1.4.0"
  }
 },
 "nbformat": 4,
 "nbformat_minor": 4
}
