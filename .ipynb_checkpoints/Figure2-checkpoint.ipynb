{
 "cells": [
  {
   "cell_type": "code",
   "execution_count": 19,
   "metadata": {},
   "outputs": [
    {
     "name": "stderr",
     "output_type": "stream",
     "text": [
      "WARNING: using Plots.Formatted in module Main conflicts with an existing identifier.\n"
     ]
    }
   ],
   "source": [
    "using LightGraphs\n",
    "using GraphPlot\n",
    "using Plots\n",
    "using ProgressBars\n",
    "using Statistics\n",
    "using LinearAlgebra"
   ]
  },
  {
   "cell_type": "code",
   "execution_count": 15,
   "metadata": {},
   "outputs": [],
   "source": [
    "using JLD2, FileIO"
   ]
  },
  {
   "cell_type": "code",
   "execution_count": 4,
   "metadata": {},
   "outputs": [],
   "source": [
    "cd(\"/Users/michael/work/julia\")"
   ]
  },
  {
   "cell_type": "code",
   "execution_count": 22,
   "metadata": {},
   "outputs": [
    {
     "name": "stderr",
     "output_type": "stream",
     "text": [
      "┌ Warning: type Main.#episim does not exist in workspace; reconstructing\n",
      "└ @ JLD2 /Users/michael/.julia/packages/JLD2/hB4ya/src/data.jl:1098\n",
      "┌ Warning: type Main.#meanmaxinfected does not exist in workspace; reconstructing\n",
      "└ @ JLD2 /Users/michael/.julia/packages/JLD2/hB4ya/src/data.jl:1098\n",
      "┌ Warning: type Main.#meantotalinfected does not exist in workspace; reconstructing\n",
      "└ @ JLD2 /Users/michael/.julia/packages/JLD2/hB4ya/src/data.jl:1098\n",
      "┌ Warning: type Main.#parametersweep does not exist in workspace; reconstructing\n",
      "└ @ JLD2 /Users/michael/.julia/packages/JLD2/hB4ya/src/data.jl:1098\n",
      "┌ Warning: type Main.#plotquantiles does not exist in workspace; reconstructing\n",
      "└ @ JLD2 /Users/michael/.julia/packages/JLD2/hB4ya/src/data.jl:1098\n",
      "┌ Warning: type Main.#recover50 does not exist in workspace; reconstructing\n",
      "└ @ JLD2 /Users/michael/.julia/packages/JLD2/hB4ya/src/data.jl:1098\n"
     ]
    },
    {
     "data": {
      "text/plain": [
       "Dict{String,Any} with 42 entries:\n",
       "  \"swp\"                => 0.01\n",
       "  \"r50\"                => [57 64 … 153 168; 54 64 … 151 185; … ; 55 67 … -1 -1;…\n",
       "  \"#5#13\"              => UnknownType{String}(\"Main.#5#13\", #undef)\n",
       "  \"#6#14\"              => UnknownType{String}(\"Main.#6#14\", #undef)\n",
       "  \"C\"                  => [1.0, 0.99, 0.95, 0.9, 0.8, 0.7, 0.6, 0.5]\n",
       "  \"pop\"                => 2102500\n",
       "  \"nseeds\"             => 5\n",
       "  \"p0\"                 => 0.2\n",
       "  \"gridsize\"           => 1450\n",
       "  \"#9#17\"              => UnknownType{String}(\"Main.#9#17\", #undef)\n",
       "  \"bamodel\"            => {2102500, 4204994} undirected simple Int64 graph\n",
       "  \"meanmaxinfected\"    => var\"##Main.#meanmaxinfected#266\"()\n",
       "  \"#episim\"            => UnknownType{String}(\"Main.#episim\", #undef)\n",
       "  \"recover50\"          => var\"##Main.#recover50#270\"()\n",
       "  \"q\"                  => 0.5\n",
       "  \"#meantotalinfected\" => UnknownType{String}(\"Main.#meantotalinfected\", #undef)\n",
       "  \"#recover50\"         => UnknownType{String}(\"Main.#recover50\", #undef)\n",
       "  \"swaps\"              => [0.0, 0.00250943, 0.0127415, 0.0259963, 0.0542584, 0.…\n",
       "  \"#20#22\"             => UnknownType{UnknownType{String}}(UnknownType{String}(…\n",
       "  \"parametersweep\"     => var\"##Main.#parametersweep#268\"()\n",
       "  \"p2s\"                => [0.02, 0.04, 0.06, 0.08, 0.1, 0.12, 0.14, 0.16, 0.18,…\n",
       "  \"#meanmaxinfected\"   => UnknownType{String}(\"Main.#meanmaxinfected\", #undef)\n",
       "  \"#19#21\"             => UnknownType{String}(\"Main.#19#21\", #undef)\n",
       "  \"#8#16\"              => UnknownType{String}(\"Main.#8#16\", #undef)\n",
       "  \"#3#11\"              => UnknownType{String}(\"Main.#3#11\", #undef)\n",
       "  ⋮                    => ⋮"
      ]
     },
     "execution_count": 22,
     "metadata": {},
     "output_type": "execute_result"
    }
   ],
   "source": [
    "loaded=load(\"parameters_swept2020_th100\")"
   ]
  },
  {
   "cell_type": "code",
   "execution_count": 26,
   "metadata": {},
   "outputs": [
    {
     "data": {
      "text/plain": [
       "8-element Array{Float64,1}:\n",
       " 1.0\n",
       " 0.99\n",
       " 0.95\n",
       " 0.9\n",
       " 0.8\n",
       " 0.7\n",
       " 0.6\n",
       " 0.5"
      ]
     },
     "execution_count": 26,
     "metadata": {},
     "output_type": "execute_result"
    }
   ],
   "source": [
    "loaded[\"C\"]"
   ]
  },
  {
   "cell_type": "code",
   "execution_count": null,
   "metadata": {},
   "outputs": [],
   "source": []
  }
 ],
 "metadata": {
  "kernelspec": {
   "display_name": "Julia 1.4.0",
   "language": "julia",
   "name": "julia-1.4"
  },
  "language_info": {
   "file_extension": ".jl",
   "mimetype": "application/julia",
   "name": "julia",
   "version": "1.4.0"
  }
 },
 "nbformat": 4,
 "nbformat_minor": 4
}
