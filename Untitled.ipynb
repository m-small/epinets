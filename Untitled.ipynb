{
 "cells": [
  {
   "cell_type": "code",
   "execution_count": 6,
   "metadata": {},
   "outputs": [
    {
     "name": "stderr",
     "output_type": "stream",
     "text": [
      "\u001b[32m\u001b[1m   Updating\u001b[22m\u001b[39m registry at `~/.julia/registries/General`\n"
     ]
    },
    {
     "name": "stdout",
     "output_type": "stream",
     "text": [
      "\u001b[?25l    "
     ]
    },
    {
     "name": "stderr",
     "output_type": "stream",
     "text": [
      "\u001b[32m\u001b[1m   Updating\u001b[22m\u001b[39m git-repo `https://github.com/JuliaRegistries/General.git`\n"
     ]
    },
    {
     "name": "stdout",
     "output_type": "stream",
     "text": [
      "\u001b[2K\u001b[?25h[1mFetching:\u001b[22m\u001b[39m [========================================>]  100.0 %[36m\u001b[1mFetching:\u001b[22m\u001b[39m [===========>                             ]  27.3 %                   ]  51.2 % %   ]  91.4 %\u001b[36m\u001b[1mFetching:\u001b[22m\u001b[39m [=====================================>   ]  91.6 %"
     ]
    },
    {
     "name": "stderr",
     "output_type": "stream",
     "text": [
      "\u001b[32m\u001b[1m  Resolving\u001b[22m\u001b[39m package versions...\n",
      "\u001b[32m\u001b[1m  Installed\u001b[22m\u001b[39m Xorg_libXrender_jll ─ v0.9.10+2\n",
      "\u001b[32m\u001b[1m  Installed\u001b[22m\u001b[39m Xorg_libX11_jll ───── v1.6.9+2\n",
      "\u001b[32m\u001b[1m  Installed\u001b[22m\u001b[39m Xorg_libxcb_jll ───── v1.13.0+2\n",
      "\u001b[32m\u001b[1m  Installed\u001b[22m\u001b[39m Xorg_libXext_jll ──── v1.3.4+2\n",
      "\u001b[32m\u001b[1m  Installed\u001b[22m\u001b[39m CSV ───────────────── v0.6.1\n",
      "\u001b[32m\u001b[1m   Updating\u001b[22m\u001b[39m `~/.julia/environments/v1.4/Project.toml`\n",
      " \u001b[90m [336ed68f]\u001b[39m\u001b[92m + CSV v0.6.1\u001b[39m\n",
      "\u001b[32m\u001b[1m   Updating\u001b[22m\u001b[39m `~/.julia/environments/v1.4/Manifest.toml`\n",
      " \u001b[90m [336ed68f]\u001b[39m\u001b[93m ↑ CSV v0.6.0 ⇒ v0.6.1\u001b[39m\n",
      " \u001b[90m [4f6342f7]\u001b[39m\u001b[93m ↑ Xorg_libX11_jll v1.6.9+1 ⇒ v1.6.9+2\u001b[39m\n",
      " \u001b[90m [1082639a]\u001b[39m\u001b[93m ↑ Xorg_libXext_jll v1.3.4+1 ⇒ v1.3.4+2\u001b[39m\n",
      " \u001b[90m [ea2f1a96]\u001b[39m\u001b[93m ↑ Xorg_libXrender_jll v0.9.10+1 ⇒ v0.9.10+2\u001b[39m\n",
      " \u001b[90m [c7cfdc94]\u001b[39m\u001b[93m ↑ Xorg_libxcb_jll v1.13.0+1 ⇒ v1.13.0+2\u001b[39m\n"
     ]
    }
   ],
   "source": [
    "import Pkg; Pkg.add(\"CSV\")"
   ]
  },
  {
   "cell_type": "code",
   "execution_count": 3,
   "metadata": {},
   "outputs": [],
   "source": [
    "cd(\"/Users/michael/work/data/COVID-19\")"
   ]
  },
  {
   "cell_type": "code",
   "execution_count": 74,
   "metadata": {
    "scrolled": true
   },
   "outputs": [],
   "source": [
    "using CSV\n",
    "using Plots"
   ]
  },
  {
   "cell_type": "code",
   "execution_count": 82,
   "metadata": {},
   "outputs": [
    {
     "data": {
      "text/plain": [
       "getdata (generic function with 4 methods)"
      ]
     },
     "execution_count": 82,
     "metadata": {},
     "output_type": "execute_result"
    }
   ],
   "source": [
    "function getdata(country::String=\"Australia\", state::String=\"Western Australia\", file::String=\"time_series_covid19_confirmed_global.csv\")\n",
    "\n",
    "x=[]\n",
    "for row in CSV.File(file)\n",
    "    if row[2]==country\n",
    "        if length(state)==0 || row[1]==state\n",
    "            println(\"found\")\n",
    "            x=row\n",
    "        end\n",
    "    end\n",
    "end\n",
    "    \n",
    "z=Array{Int64,1}(undef,length(x)-4)\n",
    "    \n",
    "for (index, value) in enumerate(x)\n",
    "     #   println(\"$zi\")\n",
    "    if index>4\n",
    "        z[index-4]=value\n",
    "    end    \n",
    "end\n",
    "\n",
    "z\n",
    "end\n",
    "    "
   ]
  },
  {
   "cell_type": "code",
   "execution_count": 83,
   "metadata": {},
   "outputs": [
    {
     "name": "stdout",
     "output_type": "stream",
     "text": [
      "found\n"
     ]
    },
    {
     "data": {
      "text/plain": [
       "86-element Array{Int64,1}:\n",
       "   0\n",
       "   0\n",
       "   0\n",
       "   0\n",
       "   0\n",
       "   0\n",
       "   0\n",
       "   0\n",
       "   0\n",
       "   0\n",
       "   0\n",
       "   0\n",
       "   0\n",
       "   ⋮\n",
       " 453\n",
       " 460\n",
       " 460\n",
       " 481\n",
       " 495\n",
       " 506\n",
       " 514\n",
       " 514\n",
       " 517\n",
       " 527\n",
       " 527\n",
       " 532"
      ]
     },
     "execution_count": 83,
     "metadata": {},
     "output_type": "execute_result"
    }
   ],
   "source": [
    "z=getdata()"
   ]
  },
  {
   "cell_type": "code",
   "execution_count": 72,
   "metadata": {},
   "outputs": [
    {
     "data": {
      "image/svg+xml": [
       "<?xml version=\"1.0\" encoding=\"utf-8\"?>\n",
       "<svg xmlns=\"http://www.w3.org/2000/svg\" xmlns:xlink=\"http://www.w3.org/1999/xlink\" width=\"600\" height=\"400\" viewBox=\"0 0 2400 1600\">\n",
       "<defs>\n",
       "  <clipPath id=\"clip4900\">\n",
       "    <rect x=\"0\" y=\"0\" width=\"2400\" height=\"1600\"/>\n",
       "  </clipPath>\n",
       "</defs>\n",
       "<path clip-path=\"url(#clip4900)\" d=\"\n",
       "M0 1600 L2400 1600 L2400 0 L0 0  Z\n",
       "  \" fill=\"#ffffff\" fill-rule=\"evenodd\" fill-opacity=\"1\"/>\n",
       "<defs>\n",
       "  <clipPath id=\"clip4901\">\n",
       "    <rect x=\"480\" y=\"0\" width=\"1681\" height=\"1600\"/>\n",
       "  </clipPath>\n",
       "</defs>\n",
       "<path clip-path=\"url(#clip4900)\" d=\"\n",
       "M167.279 1487.47 L2352.76 1487.47 L2352.76 47.2441 L167.279 47.2441  Z\n",
       "  \" fill=\"#ffffff\" fill-rule=\"evenodd\" fill-opacity=\"1\"/>\n",
       "<defs>\n",
       "  <clipPath id=\"clip4902\">\n",
       "    <rect x=\"167\" y=\"47\" width=\"2186\" height=\"1441\"/>\n",
       "  </clipPath>\n",
       "</defs>\n",
       "<polyline clip-path=\"url(#clip4902)\" style=\"stroke:#000000; stroke-width:2; stroke-opacity:0.1; fill:none\" points=\"\n",
       "  204.876,1487.47 204.876,47.2441 \n",
       "  \"/>\n",
       "<polyline clip-path=\"url(#clip4902)\" style=\"stroke:#000000; stroke-width:2; stroke-opacity:0.1; fill:none\" points=\"\n",
       "  689.999,1487.47 689.999,47.2441 \n",
       "  \"/>\n",
       "<polyline clip-path=\"url(#clip4902)\" style=\"stroke:#000000; stroke-width:2; stroke-opacity:0.1; fill:none\" points=\"\n",
       "  1175.12,1487.47 1175.12,47.2441 \n",
       "  \"/>\n",
       "<polyline clip-path=\"url(#clip4902)\" style=\"stroke:#000000; stroke-width:2; stroke-opacity:0.1; fill:none\" points=\"\n",
       "  1660.24,1487.47 1660.24,47.2441 \n",
       "  \"/>\n",
       "<polyline clip-path=\"url(#clip4902)\" style=\"stroke:#000000; stroke-width:2; stroke-opacity:0.1; fill:none\" points=\"\n",
       "  2145.37,1487.47 2145.37,47.2441 \n",
       "  \"/>\n",
       "<polyline clip-path=\"url(#clip4902)\" style=\"stroke:#000000; stroke-width:2; stroke-opacity:0.1; fill:none\" points=\"\n",
       "  167.279,1446.71 2352.76,1446.71 \n",
       "  \"/>\n",
       "<polyline clip-path=\"url(#clip4902)\" style=\"stroke:#000000; stroke-width:2; stroke-opacity:0.1; fill:none\" points=\"\n",
       "  167.279,1191.32 2352.76,1191.32 \n",
       "  \"/>\n",
       "<polyline clip-path=\"url(#clip4902)\" style=\"stroke:#000000; stroke-width:2; stroke-opacity:0.1; fill:none\" points=\"\n",
       "  167.279,935.921 2352.76,935.921 \n",
       "  \"/>\n",
       "<polyline clip-path=\"url(#clip4902)\" style=\"stroke:#000000; stroke-width:2; stroke-opacity:0.1; fill:none\" points=\"\n",
       "  167.279,680.525 2352.76,680.525 \n",
       "  \"/>\n",
       "<polyline clip-path=\"url(#clip4902)\" style=\"stroke:#000000; stroke-width:2; stroke-opacity:0.1; fill:none\" points=\"\n",
       "  167.279,425.128 2352.76,425.128 \n",
       "  \"/>\n",
       "<polyline clip-path=\"url(#clip4902)\" style=\"stroke:#000000; stroke-width:2; stroke-opacity:0.1; fill:none\" points=\"\n",
       "  167.279,169.732 2352.76,169.732 \n",
       "  \"/>\n",
       "<polyline clip-path=\"url(#clip4900)\" style=\"stroke:#000000; stroke-width:4; stroke-opacity:1; fill:none\" points=\"\n",
       "  167.279,1487.47 2352.76,1487.47 \n",
       "  \"/>\n",
       "<polyline clip-path=\"url(#clip4900)\" style=\"stroke:#000000; stroke-width:4; stroke-opacity:1; fill:none\" points=\"\n",
       "  167.279,1487.47 167.279,47.2441 \n",
       "  \"/>\n",
       "<polyline clip-path=\"url(#clip4900)\" style=\"stroke:#000000; stroke-width:4; stroke-opacity:1; fill:none\" points=\"\n",
       "  204.876,1487.47 204.876,1470.19 \n",
       "  \"/>\n",
       "<polyline clip-path=\"url(#clip4900)\" style=\"stroke:#000000; stroke-width:4; stroke-opacity:1; fill:none\" points=\"\n",
       "  689.999,1487.47 689.999,1470.19 \n",
       "  \"/>\n",
       "<polyline clip-path=\"url(#clip4900)\" style=\"stroke:#000000; stroke-width:4; stroke-opacity:1; fill:none\" points=\"\n",
       "  1175.12,1487.47 1175.12,1470.19 \n",
       "  \"/>\n",
       "<polyline clip-path=\"url(#clip4900)\" style=\"stroke:#000000; stroke-width:4; stroke-opacity:1; fill:none\" points=\"\n",
       "  1660.24,1487.47 1660.24,1470.19 \n",
       "  \"/>\n",
       "<polyline clip-path=\"url(#clip4900)\" style=\"stroke:#000000; stroke-width:4; stroke-opacity:1; fill:none\" points=\"\n",
       "  2145.37,1487.47 2145.37,1470.19 \n",
       "  \"/>\n",
       "<polyline clip-path=\"url(#clip4900)\" style=\"stroke:#000000; stroke-width:4; stroke-opacity:1; fill:none\" points=\"\n",
       "  167.279,1446.71 193.505,1446.71 \n",
       "  \"/>\n",
       "<polyline clip-path=\"url(#clip4900)\" style=\"stroke:#000000; stroke-width:4; stroke-opacity:1; fill:none\" points=\"\n",
       "  167.279,1191.32 193.505,1191.32 \n",
       "  \"/>\n",
       "<polyline clip-path=\"url(#clip4900)\" style=\"stroke:#000000; stroke-width:4; stroke-opacity:1; fill:none\" points=\"\n",
       "  167.279,935.921 193.505,935.921 \n",
       "  \"/>\n",
       "<polyline clip-path=\"url(#clip4900)\" style=\"stroke:#000000; stroke-width:4; stroke-opacity:1; fill:none\" points=\"\n",
       "  167.279,680.525 193.505,680.525 \n",
       "  \"/>\n",
       "<polyline clip-path=\"url(#clip4900)\" style=\"stroke:#000000; stroke-width:4; stroke-opacity:1; fill:none\" points=\"\n",
       "  167.279,425.128 193.505,425.128 \n",
       "  \"/>\n",
       "<polyline clip-path=\"url(#clip4900)\" style=\"stroke:#000000; stroke-width:4; stroke-opacity:1; fill:none\" points=\"\n",
       "  167.279,169.732 193.505,169.732 \n",
       "  \"/>\n",
       "<g clip-path=\"url(#clip4900)\">\n",
       "<text style=\"fill:#000000; fill-opacity:1; font-family:Arial,Helvetica Neue,Helvetica,sans-serif; font-size:48px; text-anchor:middle;\" transform=\"rotate(0, 204.876, 1541.47)\" x=\"204.876\" y=\"1541.47\">0</text>\n",
       "</g>\n",
       "<g clip-path=\"url(#clip4900)\">\n",
       "<text style=\"fill:#000000; fill-opacity:1; font-family:Arial,Helvetica Neue,Helvetica,sans-serif; font-size:48px; text-anchor:middle;\" transform=\"rotate(0, 689.999, 1541.47)\" x=\"689.999\" y=\"1541.47\">20</text>\n",
       "</g>\n",
       "<g clip-path=\"url(#clip4900)\">\n",
       "<text style=\"fill:#000000; fill-opacity:1; font-family:Arial,Helvetica Neue,Helvetica,sans-serif; font-size:48px; text-anchor:middle;\" transform=\"rotate(0, 1175.12, 1541.47)\" x=\"1175.12\" y=\"1541.47\">40</text>\n",
       "</g>\n",
       "<g clip-path=\"url(#clip4900)\">\n",
       "<text style=\"fill:#000000; fill-opacity:1; font-family:Arial,Helvetica Neue,Helvetica,sans-serif; font-size:48px; text-anchor:middle;\" transform=\"rotate(0, 1660.24, 1541.47)\" x=\"1660.24\" y=\"1541.47\">60</text>\n",
       "</g>\n",
       "<g clip-path=\"url(#clip4900)\">\n",
       "<text style=\"fill:#000000; fill-opacity:1; font-family:Arial,Helvetica Neue,Helvetica,sans-serif; font-size:48px; text-anchor:middle;\" transform=\"rotate(0, 2145.37, 1541.47)\" x=\"2145.37\" y=\"1541.47\">80</text>\n",
       "</g>\n",
       "<g clip-path=\"url(#clip4900)\">\n",
       "<text style=\"fill:#000000; fill-opacity:1; font-family:Arial,Helvetica Neue,Helvetica,sans-serif; font-size:48px; text-anchor:end;\" transform=\"rotate(0, 143.279, 1464.21)\" x=\"143.279\" y=\"1464.21\">0</text>\n",
       "</g>\n",
       "<g clip-path=\"url(#clip4900)\">\n",
       "<text style=\"fill:#000000; fill-opacity:1; font-family:Arial,Helvetica Neue,Helvetica,sans-serif; font-size:48px; text-anchor:end;\" transform=\"rotate(0, 143.279, 1208.82)\" x=\"143.279\" y=\"1208.82\">100</text>\n",
       "</g>\n",
       "<g clip-path=\"url(#clip4900)\">\n",
       "<text style=\"fill:#000000; fill-opacity:1; font-family:Arial,Helvetica Neue,Helvetica,sans-serif; font-size:48px; text-anchor:end;\" transform=\"rotate(0, 143.279, 953.421)\" x=\"143.279\" y=\"953.421\">200</text>\n",
       "</g>\n",
       "<g clip-path=\"url(#clip4900)\">\n",
       "<text style=\"fill:#000000; fill-opacity:1; font-family:Arial,Helvetica Neue,Helvetica,sans-serif; font-size:48px; text-anchor:end;\" transform=\"rotate(0, 143.279, 698.025)\" x=\"143.279\" y=\"698.025\">300</text>\n",
       "</g>\n",
       "<g clip-path=\"url(#clip4900)\">\n",
       "<text style=\"fill:#000000; fill-opacity:1; font-family:Arial,Helvetica Neue,Helvetica,sans-serif; font-size:48px; text-anchor:end;\" transform=\"rotate(0, 143.279, 442.628)\" x=\"143.279\" y=\"442.628\">400</text>\n",
       "</g>\n",
       "<g clip-path=\"url(#clip4900)\">\n",
       "<text style=\"fill:#000000; fill-opacity:1; font-family:Arial,Helvetica Neue,Helvetica,sans-serif; font-size:48px; text-anchor:end;\" transform=\"rotate(0, 143.279, 187.232)\" x=\"143.279\" y=\"187.232\">500</text>\n",
       "</g>\n",
       "<polyline clip-path=\"url(#clip4902)\" style=\"stroke:#009af9; stroke-width:4; stroke-opacity:1; fill:none\" points=\"\n",
       "  229.132,1446.71 253.388,1446.71 277.645,1446.71 301.901,1446.71 326.157,1446.71 350.413,1446.71 374.669,1446.71 398.925,1446.71 423.181,1446.71 447.437,1446.71 \n",
       "  471.693,1446.71 495.95,1446.71 520.206,1446.71 544.462,1446.71 568.718,1446.71 592.974,1446.71 617.23,1446.71 641.486,1446.71 665.742,1446.71 689.999,1446.71 \n",
       "  714.255,1446.71 738.511,1446.71 762.767,1446.71 787.023,1446.71 811.279,1446.71 835.535,1446.71 859.791,1446.71 884.048,1446.71 908.304,1446.71 932.56,1446.71 \n",
       "  956.816,1446.71 981.072,1446.71 1005.33,1446.71 1029.58,1446.71 1053.84,1446.71 1078.1,1446.71 1102.35,1446.71 1126.61,1446.71 1150.86,1441.61 1175.12,1441.61 \n",
       "  1199.38,1441.61 1223.63,1441.61 1247.89,1441.61 1272.15,1439.05 1296.4,1439.05 1320.66,1439.05 1344.91,1439.05 1369.17,1436.5 1393.43,1431.39 1417.68,1423.73 \n",
       "  1441.94,1423.73 1466.19,1410.96 1490.45,1403.3 1514.71,1403.3 1538.96,1375.2 1563.22,1367.54 1587.48,1357.32 1611.73,1313.91 1635.99,1283.26 1660.24,1216.86 \n",
       "  1684.5,1140.24 1708.76,1089.16 1733.01,999.77 1757.27,999.77 1781.52,856.748 1805.78,856.748 1830.04,736.712 1854.29,652.431 1878.55,540.057 1902.8,517.071 \n",
       "  1927.06,445.56 1951.32,425.128 1975.57,425.128 1999.83,333.186 2024.09,289.768 2048.34,271.891 2072.6,271.891 2096.85,218.257 2121.11,182.502 2145.37,154.408 \n",
       "  2169.62,133.977 2193.88,133.977 2218.13,126.315 2242.39,100.775 2266.65,100.775 2290.9,88.0053 \n",
       "  \"/>\n",
       "<path clip-path=\"url(#clip4900)\" d=\"\n",
       "M1989.93 251.724 L2280.76 251.724 L2280.76 130.764 L1989.93 130.764  Z\n",
       "  \" fill=\"#ffffff\" fill-rule=\"evenodd\" fill-opacity=\"1\"/>\n",
       "<polyline clip-path=\"url(#clip4900)\" style=\"stroke:#000000; stroke-width:4; stroke-opacity:1; fill:none\" points=\"\n",
       "  1989.93,251.724 2280.76,251.724 2280.76,130.764 1989.93,130.764 1989.93,251.724 \n",
       "  \"/>\n",
       "<polyline clip-path=\"url(#clip4900)\" style=\"stroke:#009af9; stroke-width:4; stroke-opacity:1; fill:none\" points=\"\n",
       "  2013.93,191.244 2157.93,191.244 \n",
       "  \"/>\n",
       "<g clip-path=\"url(#clip4900)\">\n",
       "<text style=\"fill:#000000; fill-opacity:1; font-family:Arial,Helvetica Neue,Helvetica,sans-serif; font-size:48px; text-anchor:start;\" transform=\"rotate(0, 2181.93, 208.744)\" x=\"2181.93\" y=\"208.744\">y1</text>\n",
       "</g>\n",
       "</svg>\n"
      ]
     },
     "execution_count": 72,
     "metadata": {},
     "output_type": "execute_result"
    }
   ],
   "source": [
    "plot(z)"
   ]
  },
  {
   "cell_type": "code",
   "execution_count": 62,
   "metadata": {},
   "outputs": [
    {
     "data": {
      "text/plain": [
       "0x00000001291e2350"
      ]
     },
     "execution_count": 62,
     "metadata": {},
     "output_type": "execute_result"
    }
   ],
   "source": [
    "z[4]"
   ]
  },
  {
   "cell_type": "code",
   "execution_count": 15,
   "metadata": {},
   "outputs": [
    {
     "ename": "UndefVarError",
     "evalue": "UndefVarError: row not defined",
     "output_type": "error",
     "traceback": [
      "UndefVarError: row not defined",
      "",
      "Stacktrace:",
      " [1] top-level scope at In[15]:1"
     ]
    }
   ],
   "source": [
    "row in CSV.File(file)"
   ]
  },
  {
   "cell_type": "code",
   "execution_count": null,
   "metadata": {},
   "outputs": [],
   "source": []
  },
  {
   "cell_type": "code",
   "execution_count": 18,
   "metadata": {},
   "outputs": [
    {
     "data": {
      "text/plain": [
       "CSV.Row{false}:\n",
       " Symbol(\"Province/State\")     \"Western Australia\"\n",
       " Symbol(\"Country/Region\")     \"Australia\"\n",
       " :Lat                      -31.9505\n",
       " :Long                     115.8605\n",
       " Symbol(\"1/22/20\")           0\n",
       " Symbol(\"1/23/20\")           0\n",
       " Symbol(\"1/24/20\")           0\n",
       " Symbol(\"1/25/20\")           0\n",
       " Symbol(\"1/26/20\")           0\n",
       " Symbol(\"1/27/20\")           0\n",
       " Symbol(\"1/28/20\")           0\n",
       " Symbol(\"1/29/20\")           0\n",
       " Symbol(\"1/30/20\")           0\n",
       " ⋮                         \n",
       " Symbol(\"4/5/20\")          453\n",
       " Symbol(\"4/6/20\")          460\n",
       " Symbol(\"4/7/20\")          460\n",
       " Symbol(\"4/8/20\")          481\n",
       " Symbol(\"4/9/20\")          495\n",
       " Symbol(\"4/10/20\")         506\n",
       " Symbol(\"4/11/20\")         514\n",
       " Symbol(\"4/12/20\")         514\n",
       " Symbol(\"4/13/20\")         517\n",
       " Symbol(\"4/14/20\")         527\n",
       " Symbol(\"4/15/20\")         527\n",
       " Symbol(\"4/16/20\")         532"
      ]
     },
     "execution_count": 18,
     "metadata": {},
     "output_type": "execute_result"
    }
   ],
   "source": [
    "row=CSV.File(file)[16]"
   ]
  },
  {
   "cell_type": "code",
   "execution_count": 20,
   "metadata": {},
   "outputs": [
    {
     "data": {
      "text/plain": [
       "true"
      ]
     },
     "execution_count": 20,
     "metadata": {},
     "output_type": "execute_result"
    }
   ],
   "source": [
    "row[1]==state"
   ]
  },
  {
   "cell_type": "code",
   "execution_count": 24,
   "metadata": {},
   "outputs": [
    {
     "data": {
      "text/plain": [
       "17"
      ]
     },
     "execution_count": 24,
     "metadata": {},
     "output_type": "execute_result"
    }
   ],
   "source": [
    "length(state)"
   ]
  },
  {
   "cell_type": "code",
   "execution_count": 33,
   "metadata": {},
   "outputs": [
    {
     "data": {
      "text/plain": [
       "CSV.Row{false}:\n",
       " Symbol(\"Province/State\")     \"Western Australia\"\n",
       " Symbol(\"Country/Region\")     \"Australia\"\n",
       " :Lat                      -31.9505\n",
       " :Long                     115.8605\n",
       " Symbol(\"1/22/20\")           0\n",
       " Symbol(\"1/23/20\")           0\n",
       " Symbol(\"1/24/20\")           0\n",
       " Symbol(\"1/25/20\")           0\n",
       " Symbol(\"1/26/20\")           0\n",
       " Symbol(\"1/27/20\")           0\n",
       " Symbol(\"1/28/20\")           0\n",
       " Symbol(\"1/29/20\")           0\n",
       " Symbol(\"1/30/20\")           0\n",
       " ⋮                         \n",
       " Symbol(\"4/5/20\")          453\n",
       " Symbol(\"4/6/20\")          460\n",
       " Symbol(\"4/7/20\")          460\n",
       " Symbol(\"4/8/20\")          481\n",
       " Symbol(\"4/9/20\")          495\n",
       " Symbol(\"4/10/20\")         506\n",
       " Symbol(\"4/11/20\")         514\n",
       " Symbol(\"4/12/20\")         514\n",
       " Symbol(\"4/13/20\")         517\n",
       " Symbol(\"4/14/20\")         527\n",
       " Symbol(\"4/15/20\")         527\n",
       " Symbol(\"4/16/20\")         532"
      ]
     },
     "execution_count": 33,
     "metadata": {},
     "output_type": "execute_result"
    }
   ],
   "source": [
    "x\n"
   ]
  },
  {
   "cell_type": "code",
   "execution_count": 36,
   "metadata": {},
   "outputs": [
    {
     "data": {
      "text/plain": [
       "Base.Generator{CSV.Row{false},Type{Int64}}(Int64, CSV.Row{false}:\n",
       " Symbol(\"Province/State\")     \"Western Australia\"\n",
       " Symbol(\"Country/Region\")     \"Australia\"\n",
       " :Lat                      -31.9505\n",
       " :Long                     115.8605\n",
       " Symbol(\"1/22/20\")           0\n",
       " Symbol(\"1/23/20\")           0\n",
       " Symbol(\"1/24/20\")           0\n",
       " Symbol(\"1/25/20\")           0\n",
       " Symbol(\"1/26/20\")           0\n",
       " Symbol(\"1/27/20\")           0\n",
       " Symbol(\"1/28/20\")           0\n",
       " Symbol(\"1/29/20\")           0\n",
       " Symbol(\"1/30/20\")           0\n",
       " ⋮                         \n",
       " Symbol(\"4/5/20\")          453\n",
       " Symbol(\"4/6/20\")          460\n",
       " Symbol(\"4/7/20\")          460\n",
       " Symbol(\"4/8/20\")          481\n",
       " Symbol(\"4/9/20\")          495\n",
       " Symbol(\"4/10/20\")         506\n",
       " Symbol(\"4/11/20\")         514\n",
       " Symbol(\"4/12/20\")         514\n",
       " Symbol(\"4/13/20\")         517\n",
       " Symbol(\"4/14/20\")         527\n",
       " Symbol(\"4/15/20\")         527\n",
       " Symbol(\"4/16/20\")         532)"
      ]
     },
     "execution_count": 36,
     "metadata": {},
     "output_type": "execute_result"
    }
   ],
   "source": [
    "z=(Int(zx) for zx in x)"
   ]
  },
  {
   "cell_type": "code",
   "execution_count": 39,
   "metadata": {},
   "outputs": [
    {
     "ename": "MethodError",
     "evalue": "MethodError: no method matching getindex(::Base.Generator{CSV.Row{false},Type{Int64}}, ::Int64)",
     "output_type": "error",
     "traceback": [
      "MethodError: no method matching getindex(::Base.Generator{CSV.Row{false},Type{Int64}}, ::Int64)",
      "",
      "Stacktrace:",
      " [1] top-level scope at In[39]:1"
     ]
    }
   ],
   "source": [
    "z[1]"
   ]
  },
  {
   "cell_type": "code",
   "execution_count": null,
   "metadata": {},
   "outputs": [],
   "source": []
  }
 ],
 "metadata": {
  "kernelspec": {
   "display_name": "Julia 1.4.0",
   "language": "julia",
   "name": "julia-1.4"
  },
  "language_info": {
   "file_extension": ".jl",
   "mimetype": "application/julia",
   "name": "julia",
   "version": "1.4.0"
  }
 },
 "nbformat": 4,
 "nbformat_minor": 4
}
