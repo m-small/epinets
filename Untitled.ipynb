{
 "cells": [
  {
   "cell_type": "code",
   "execution_count": 1,
   "metadata": {},
   "outputs": [],
   "source": [
    "using LightGraphs, Plots, GraphPlot, Compose, Random"
   ]
  },
  {
   "cell_type": "code",
   "execution_count": 2,
   "metadata": {},
   "outputs": [
    {
     "data": {
      "text/plain": [
       "rewire! (generic function with 1 method)"
      ]
     },
     "execution_count": 2,
     "metadata": {},
     "output_type": "execute_result"
    }
   ],
   "source": [
    "include(\"ContactModels.jl\")"
   ]
  },
  {
   "cell_type": "code",
   "execution_count": 3,
   "metadata": {},
   "outputs": [
    {
     "data": {
      "text/plain": [
       "Main.EpiSim"
      ]
     },
     "execution_count": 3,
     "metadata": {},
     "output_type": "execute_result"
    }
   ],
   "source": [
    "include(\"EpiSim.jl\")"
   ]
  },
  {
   "cell_type": "code",
   "execution_count": 4,
   "metadata": {},
   "outputs": [],
   "source": [
    "using CSV"
   ]
  },
  {
   "cell_type": "code",
   "execution_count": 5,
   "metadata": {},
   "outputs": [
    {
     "name": "stdout",
     "output_type": "stream",
     "text": [
      "thread = 1 warning: only found 14 / 15 columns on data row: 117. Filling remaining columns with `missing`\n"
     ]
    },
    {
     "data": {
      "text/html": [
       "<table class=\"data-frame\"><thead><tr><th></th><th>City / Town</th><th>Column2</th><th>Region</th><th>Remoteness Areas</th></tr><tr><th></th><th>String⍰</th><th>String⍰</th><th>String⍰</th><th>String⍰</th></tr></thead><tbody><p>117 rows × 15 columns (omitted printing of 11 columns)</p><tr><th>1</th><td>Perth</td><td>1,874,578</td><td>Perth</td><td>Major Cities of Australia</td></tr><tr><th>2</th><td>missing</td><td>missing</td><td>Perth</td><td>Remote</td></tr><tr><th>3</th><td>Bunbury</td><td>71,090</td><td>South West</td><td>Inner Regional Australia</td></tr><tr><th>4</th><td>missing</td><td>missing</td><td>South West</td><td>Outer Regional Australia</td></tr><tr><th>5</th><td>Geraldton</td><td>31,982</td><td>Mid West</td><td>Inner Regional Australia</td></tr><tr><th>6</th><td>missing</td><td>missing</td><td>Mid West</td><td>Outer Regional Australia</td></tr><tr><th>7</th><td>Kalgoorlie-Boulder</td><td>29,875</td><td>Goldfields-Esperance</td><td>Inner Regional Australia</td></tr><tr><th>8</th><td>missing</td><td>missing</td><td>Goldfields-Esperance</td><td>Outer Regional Australia</td></tr><tr><th>9</th><td>Albany</td><td>29,373</td><td>Great Southern</td><td>Inner Regional Australia</td></tr><tr><th>10</th><td>missing</td><td>missing</td><td>Great Southern</td><td>Outer Regional Australia</td></tr><tr><th>11</th><td>Busselton</td><td>25,329</td><td>South West</td><td>Inner Regional Australia</td></tr><tr><th>12</th><td>missing</td><td>missing</td><td>South West</td><td>Outer Regional Australia</td></tr><tr><th>13</th><td>Karratha</td><td>15,828</td><td>Pilbara</td><td>Remote</td></tr><tr><th>14</th><td>missing</td><td>missing</td><td>Pilbara</td><td>Very Remote</td></tr><tr><th>15</th><td>Broome</td><td>13,984</td><td>Kimberley</td><td>Remote</td></tr><tr><th>16</th><td>missing</td><td>missing</td><td>Kimberley</td><td>Very Remote</td></tr><tr><th>17</th><td>Port Hedland</td><td>13,828</td><td>Pilbara</td><td>Remote</td></tr><tr><th>18</th><td>missing</td><td>missing</td><td>Pilbara</td><td>Very Remote</td></tr><tr><th>19</th><td>Esperance</td><td>10,421</td><td>Goldfields-Esperance</td><td>Remote</td></tr><tr><th>20</th><td>missing</td><td>missing</td><td>Goldfields-Esperance</td><td>Very Remote</td></tr><tr><th>21</th><td>Yanchep</td><td>8,859</td><td>Perth</td><td>Remote</td></tr><tr><th>22</th><td>missing</td><td>missing</td><td>Perth</td><td>Very Remote</td></tr><tr><th>23</th><td>Collie</td><td>7,192</td><td>South West</td><td>Inner Regional Australia</td></tr><tr><th>24</th><td>missing</td><td>missing</td><td>South West</td><td>Outer Regional Australia</td></tr><tr><th>25</th><td>Northam</td><td>6,548</td><td>Wheatbelt</td><td>Inner Regional Australia</td></tr><tr><th>26</th><td>missing</td><td>missing</td><td>Wheatbelt</td><td>Outer Regional Australia</td></tr><tr><th>27</th><td>Margaret River</td><td>6,392</td><td>South West</td><td>Inner Regional Australia</td></tr><tr><th>28</th><td>missing</td><td>missing</td><td>South West</td><td>Outer Regional Australia</td></tr><tr><th>29</th><td>Dunsborough</td><td>6,039</td><td>South West</td><td>Inner Regional Australia</td></tr><tr><th>30</th><td>missing</td><td>missing</td><td>South West</td><td>Outer Regional Australia</td></tr><tr><th>&vellip;</th><td>&vellip;</td><td>&vellip;</td><td>&vellip;</td><td>&vellip;</td></tr></tbody></table>"
      ],
      "text/latex": [
       "\\begin{tabular}{r|ccccc}\n",
       "\t& City / Town & Column2 & Region & Remoteness Areas & \\\\\n",
       "\t\\hline\n",
       "\t& String⍰ & String⍰ & String⍰ & String⍰ & \\\\\n",
       "\t\\hline\n",
       "\t1 & Perth & 1,874,578 & Perth & Major Cities of Australia & $\\dots$ \\\\\n",
       "\t2 &  &  & Perth & Remote & $\\dots$ \\\\\n",
       "\t3 & Bunbury & 71,090 & South West & Inner Regional Australia & $\\dots$ \\\\\n",
       "\t4 &  &  & South West & Outer Regional Australia & $\\dots$ \\\\\n",
       "\t5 & Geraldton & 31,982 & Mid West & Inner Regional Australia & $\\dots$ \\\\\n",
       "\t6 &  &  & Mid West & Outer Regional Australia & $\\dots$ \\\\\n",
       "\t7 & Kalgoorlie-Boulder & 29,875 & Goldfields-Esperance & Inner Regional Australia & $\\dots$ \\\\\n",
       "\t8 &  &  & Goldfields-Esperance & Outer Regional Australia & $\\dots$ \\\\\n",
       "\t9 & Albany & 29,373 & Great Southern & Inner Regional Australia & $\\dots$ \\\\\n",
       "\t10 &  &  & Great Southern & Outer Regional Australia & $\\dots$ \\\\\n",
       "\t11 & Busselton & 25,329 & South West & Inner Regional Australia & $\\dots$ \\\\\n",
       "\t12 &  &  & South West & Outer Regional Australia & $\\dots$ \\\\\n",
       "\t13 & Karratha & 15,828 & Pilbara & Remote & $\\dots$ \\\\\n",
       "\t14 &  &  & Pilbara & Very Remote & $\\dots$ \\\\\n",
       "\t15 & Broome & 13,984 & Kimberley & Remote & $\\dots$ \\\\\n",
       "\t16 &  &  & Kimberley & Very Remote & $\\dots$ \\\\\n",
       "\t17 & Port Hedland & 13,828 & Pilbara & Remote & $\\dots$ \\\\\n",
       "\t18 &  &  & Pilbara & Very Remote & $\\dots$ \\\\\n",
       "\t19 & Esperance & 10,421 & Goldfields-Esperance & Remote & $\\dots$ \\\\\n",
       "\t20 &  &  & Goldfields-Esperance & Very Remote & $\\dots$ \\\\\n",
       "\t21 & Yanchep & 8,859 & Perth & Remote & $\\dots$ \\\\\n",
       "\t22 &  &  & Perth & Very Remote & $\\dots$ \\\\\n",
       "\t23 & Collie & 7,192 & South West & Inner Regional Australia & $\\dots$ \\\\\n",
       "\t24 &  &  & South West & Outer Regional Australia & $\\dots$ \\\\\n",
       "\t25 & Northam & 6,548 & Wheatbelt & Inner Regional Australia & $\\dots$ \\\\\n",
       "\t26 &  &  & Wheatbelt & Outer Regional Australia & $\\dots$ \\\\\n",
       "\t27 & Margaret River & 6,392 & South West & Inner Regional Australia & $\\dots$ \\\\\n",
       "\t28 &  &  & South West & Outer Regional Australia & $\\dots$ \\\\\n",
       "\t29 & Dunsborough & 6,039 & South West & Inner Regional Australia & $\\dots$ \\\\\n",
       "\t30 &  &  & South West & Outer Regional Australia & $\\dots$ \\\\\n",
       "\t$\\dots$ & $\\dots$ & $\\dots$ & $\\dots$ & $\\dots$ &  \\\\\n",
       "\\end{tabular}\n"
      ],
      "text/plain": [
       "117×15 DataFrames.DataFrame. Omitted printing of 12 columns\n",
       "│ Row │ City / Town        │ Column2   │ Region               │\n",
       "│     │ \u001b[90mString⍰\u001b[39m            │ \u001b[90mString⍰\u001b[39m   │ \u001b[90mString⍰\u001b[39m              │\n",
       "├─────┼────────────────────┼───────────┼──────────────────────┤\n",
       "│ 1   │ Perth              │ 1,874,578 │ Perth                │\n",
       "│ 2   │ \u001b[90mmissing\u001b[39m            │ \u001b[90mmissing\u001b[39m   │ Perth                │\n",
       "│ 3   │ Bunbury            │ 71,090    │ South West           │\n",
       "│ 4   │ \u001b[90mmissing\u001b[39m            │ \u001b[90mmissing\u001b[39m   │ South West           │\n",
       "│ 5   │ Geraldton          │ 31,982    │ Mid West             │\n",
       "│ 6   │ \u001b[90mmissing\u001b[39m            │ \u001b[90mmissing\u001b[39m   │ Mid West             │\n",
       "│ 7   │ Kalgoorlie-Boulder │ 29,875    │ Goldfields-Esperance │\n",
       "│ 8   │ \u001b[90mmissing\u001b[39m            │ \u001b[90mmissing\u001b[39m   │ Goldfields-Esperance │\n",
       "│ 9   │ Albany             │ 29,373    │ Great Southern       │\n",
       "│ 10  │ \u001b[90mmissing\u001b[39m            │ \u001b[90mmissing\u001b[39m   │ Great Southern       │\n",
       "⋮\n",
       "│ 107 │ Fitzroy Crossing   │ 1,141     │ Kimberley            │\n",
       "│ 108 │ \u001b[90mmissing\u001b[39m            │ \u001b[90mmissing\u001b[39m   │ Kimberley            │\n",
       "│ 109 │ Augusta            │ 1,109     │ South West           │\n",
       "│ 110 │ \u001b[90mmissing\u001b[39m            │ \u001b[90mmissing\u001b[39m   │ South West           │\n",
       "│ 111 │ Dampier            │ 1,104     │ Pilbara              │\n",
       "│ 112 │ \u001b[90mmissing\u001b[39m            │ \u001b[90mmissing\u001b[39m   │ Pilbara              │\n",
       "│ 113 │ Mandurah           │ 80,813    │ Peel                 │\n",
       "│ 114 │ \u001b[90mmissing\u001b[39m            │ \u001b[90mmissing\u001b[39m   │ Peel                 │\n",
       "│ 115 │ Wyndham            │ 780       │ Kimberley            │\n",
       "│ 116 │ \u001b[90mmissing\u001b[39m            │ \u001b[90mmissing\u001b[39m   │ Kimberley            │\n",
       "│ 117 │ \u001b[90mmissing\u001b[39m            │ 2,325,735 │ \u001b[90mmissing\u001b[39m              │"
      ]
     },
     "execution_count": 5,
     "metadata": {},
     "output_type": "execute_result"
    }
   ],
   "source": [
    "wapop=CSV.read(\"remote-wa.csv\")"
   ]
  },
  {
   "cell_type": "code",
   "execution_count": null,
   "metadata": {},
   "outputs": [],
   "source": []
  }
 ],
 "metadata": {
  "kernelspec": {
   "display_name": "Julia 1.4.0",
   "language": "julia",
   "name": "julia-1.4"
  },
  "language_info": {
   "file_extension": ".jl",
   "mimetype": "application/julia",
   "name": "julia",
   "version": "1.4.0"
  }
 },
 "nbformat": 4,
 "nbformat_minor": 4
}
