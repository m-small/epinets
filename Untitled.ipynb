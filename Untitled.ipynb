{
 "cells": [
  {
   "cell_type": "markdown",
   "metadata": {},
   "source": [
    "# How many remain?\n",
    "\n",
    "The question we try to answer here is: Suppose that on a given day we observe $k$ new infections, how many exposed (infected but not infectious) individuals remain in the population? We do this as follows, using \"reasonable\" values of the epidemic rate parameters and a physical distancing network model fitted to the observed time series data we simulate a large ($N=100$ - or maybe more, once I gt it working) number of dynamics and read-off the infected and exposed nubers in the tail of the transmission urve to get a conditional PDF - the final figure."
   ]
  },
  {
   "cell_type": "markdown",
   "metadata": {},
   "source": [
    "## Load in the data and define the various parameters:\n",
    "\n",
    "Find the point of inflection (what is called turning point below) in the total nmber of infections"
   ]
  },
  {
   "cell_type": "code",
   "execution_count": 2,
   "metadata": {},
   "outputs": [
    {
     "name": "stderr",
     "output_type": "stream",
     "text": [
      "WARNING: replacing module EpiSim.\n"
     ]
    }
   ],
   "source": [
    "cd(\"/Users/michael/work/GitHub/epinets\")\n",
    "include(\"EpiSim.jl\")\n",
    "using CSV\n",
    "using Plots\n",
    "using LightGraphs\n",
    "using JLD2, FileIO\n",
    "cd(\"/Users/michael/work/GitHub/COVID-19/csse_covid_19_data/csse_covid_19_time_series\")\n",
    "file=\"time_series_covid19_confirmed_global.csv\"\n",
    "allstates=[\"Australian Capital Territory\" \"New South Wales\"  \"Northern Territory\" \"Queensland\" \"South Australia\" \"Tasmania\" \"Victoria\" \"Western Australia\"]\n",
    "z=[]\n",
    "for state in allstates\n",
    "    z=push!(z,EpiSim.getdata(\"Australia\",state))\n",
    "end\n",
    "ddays=CSV.File(file)[1]\n",
    "ddays=propertynames(ddays,4)[5:end]\n",
    "ddays=String.(ddays)\n",
    "ndays=length(ddays)\n",
    "pops=[426709 8089526 245869 5095100 1751693 534281 6594804 2621680]\n",
    "#'reasonable' parameters\n",
    "epiparam=Dict()\n",
    "epiparam[\"p0\"]=0.2 #a guess - tuned to match observed data \n",
    "epiparam[\"p2\"]=1/12 #revised infection rate with distancing measure\n",
    "epiparam[\"q\"]=1/7 #\"up to\" two weeks\n",
    "epiparam[\"r0\"]=1/14 #about two weeks for mild, 3-6 for severe\n",
    "epiparam[\"r2\"]=1/4 #revised removal rate (now due to testing and isolation)\n",
    "epiparam[\"nseeds\"]=5 #probably too many, consider dropping.\n",
    "i=8\n",
    "epiparam[\"pop\"]=pops[i]\n",
    "epiparam[\"gridsize\"]=Int(floor(sqrt(pops[i])))\n",
    "y=z[i];\n",
    "ddt(z,zt)=count(z->z>0, z[1:zt])+ count(z->z<0, z[zt+1:end])\n",
    "~,tpday=findmax([ddt(diff(diff(y)),nx) for nx in 1:(ndays-2)])\n",
    "#this is the turning point between exponential growth and decay. totItp total infections at day tpday\n",
    "totItp=y[tpday+1]\n",
    "plot(1:tpday+1,y[1:tpday+1],lw=4,label=\"growth phase\",title=allstates[i])\n",
    "plot!(tpday+1:ndays,y[tpday+1:ndays],lw=4,label=\"plateau\")\n",
    "cd(\"/Users/michael/work/GitHub/epinets\")"
   ]
  },
  {
   "cell_type": "markdown",
   "metadata": {},
   "source": [
    "## Simulate with isolation "
   ]
  },
  {
   "cell_type": "code",
   "execution_count": null,
   "metadata": {},
   "outputs": [
    {
     "name": "stdout",
     "output_type": "stream",
     "text": [
      "76.0%┣████████████████████████████████          ┫ 76/100 [09:02<02:53, 0.1 it/s]"
     ]
    }
   ],
   "source": [
    "gridsize=epiparam[\"gridsize\"]\n",
    "pop=epiparam[\"pop\"]\n",
    "bamodel=barabasi_albert(gridsize^2, 3, 2)\n",
    "lattice=LightGraphs.grid((gridsize,gridsize),periodic=true)\n",
    "wattstrog95=watts_strogatz(gridsize^2, 4, 0.013)  #s=0.013 => 95% compliance\n",
    "wattstrog90=watts_strogatz(gridsize^2, 4, 0.026)  #s=0.026 => 90% compliance\n",
    "wattstrog80=watts_strogatz(gridsize^2, 4, 0.053)  #s=0.053 => 80% compliance\n",
    "St95,Et95,It95,Rt95=EpiSim.episim(bamodel,wattstrog95, epiparam, totItp, tpday+2, 90, 100)\n",
    "St90,Et90,It90,Rt90=EpiSim.episim(bamodel,wattstrog90, epiparam, totItp, tpday+2, 90, 100)\n",
    "St80,Et80,It80,Rt80=EpiSim.episim(bamodel,wattstrog80, epiparam, totItp, tpday+2, 90, 100)"
   ]
  },
  {
   "cell_type": "markdown",
   "metadata": {},
   "source": [
    "## And plot\n",
    "We will observe that the case for WA is actually better than any of these.... so...."
   ]
  },
  {
   "cell_type": "code",
   "execution_count": null,
   "metadata": {},
   "outputs": [],
   "source": [
    "plot(ddays,y,size=(1200,600),label=false)\n",
    "EpiSim.plotquantiles(pop .- (Et90+St90),:blue,\"90% Compliance\")\n",
    "EpiSim.plotquantiles(pop .- (Et95+St95),:green,\"95% Compliance\")\n",
    "EpiSim.plotquantiles(pop .- (Et80+St80),:purple,\"80% Compliance\")\n",
    "plot!(1:tpday+1,y[1:tpday+1],lw=4, color=:red,label=\"growth phase\")\n",
    "plot!(tpday+1:ndays,y[tpday+1:ndays],color=:yellow,lw=4,label=\"plateau\",xlim=(0, 120), ylim=(0,2*y[end]))"
   ]
  },
  {
   "cell_type": "markdown",
   "metadata": {},
   "source": [
    "## Enforce still stricter isolation\n",
    "\n",
    "First set up the reuired "
   ]
  },
  {
   "cell_type": "code",
   "execution_count": null,
   "metadata": {},
   "outputs": [],
   "source": [
    "iso=0.8 #was 0.95, I think 0.8 should be enough ... actually this parameter *may* significantly affect the results as it determines the susceptible pool size\n",
    "pop=epiparam[\"pop\"]\n",
    "grd=Int(floor(sqrt(Int(floor(pop*(1-iso))))))\n",
    "isosize=pop-grd^2\n",
    "sg=SimpleGraph(isosize)\n",
    "ws=watts_strogatz(grd^2, 4, 0.013)\n",
    "isograph95=union(sg,ws)"
   ]
  }
 ],
 "metadata": {
  "kernelspec": {
   "display_name": "Julia 1.4.0",
   "language": "julia",
   "name": "julia-1.4"
  },
  "language_info": {
   "file_extension": ".jl",
   "mimetype": "application/julia",
   "name": "julia",
   "version": "1.4.0"
  }
 },
 "nbformat": 4,
 "nbformat_minor": 4
}
