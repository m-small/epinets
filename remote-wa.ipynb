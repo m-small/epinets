{
 "cells": [
  {
   "cell_type": "code",
   "execution_count": 1,
   "metadata": {},
   "outputs": [
    {
     "name": "stderr",
     "output_type": "stream",
     "text": [
      "┌ Info: Precompiling Plots [91a5bcdd-55d7-5caf-9e0b-520d859cae80]\n",
      "└ @ Base loading.jl:1260\n"
     ]
    }
   ],
   "source": [
    "using LightGraphs, Plots, GraphPlot, Compose, Random"
   ]
  },
  {
   "cell_type": "code",
   "execution_count": 2,
   "metadata": {},
   "outputs": [
    {
     "data": {
      "text/plain": [
       "rewire! (generic function with 1 method)"
      ]
     },
     "execution_count": 2,
     "metadata": {},
     "output_type": "execute_result"
    }
   ],
   "source": [
    "include(\"ContactModels.jl\")"
   ]
  },
  {
   "cell_type": "code",
   "execution_count": 3,
   "metadata": {},
   "outputs": [
    {
     "data": {
      "text/plain": [
       "Main.EpiSim"
      ]
     },
     "execution_count": 3,
     "metadata": {},
     "output_type": "execute_result"
    }
   ],
   "source": [
    "include(\"EpiSim.jl\")"
   ]
  },
  {
   "cell_type": "markdown",
   "metadata": {},
   "source": [
    "## Load the data\n"
   ]
  },
  {
   "cell_type": "code",
   "execution_count": 4,
   "metadata": {},
   "outputs": [],
   "source": [
    "using CSV"
   ]
  },
  {
   "cell_type": "code",
   "execution_count": 5,
   "metadata": {},
   "outputs": [
    {
     "data": {
      "text/html": [
       "<table class=\"data-frame\"><thead><tr><th></th><th>City / Town</th><th>Column2</th><th>Region</th><th>Remoteness Areas</th></tr><tr><th></th><th>String⍰</th><th>String⍰</th><th>String</th><th>String</th></tr></thead><tbody><p>428 rows × 15 columns (omitted printing of 11 columns)</p><tr><th>1</th><td>Perth</td><td>1,874,578</td><td>Perth</td><td>Major Cities of Australia</td></tr><tr><th>2</th><td>missing</td><td>missing</td><td>Perth</td><td>Remote</td></tr><tr><th>3</th><td>Bunbury</td><td>71,090</td><td>South West</td><td>Inner Regional Australia</td></tr><tr><th>4</th><td>missing</td><td>missing</td><td>South West</td><td>Outer Regional Australia</td></tr><tr><th>5</th><td>Geraldton</td><td>31,982</td><td>Mid West</td><td>Inner Regional Australia</td></tr><tr><th>6</th><td>missing</td><td>missing</td><td>Mid West</td><td>Outer Regional Australia</td></tr><tr><th>7</th><td>Kalgoorlie-Boulder</td><td>29,875</td><td>Goldfields-Esperance</td><td>Inner Regional Australia</td></tr><tr><th>8</th><td>missing</td><td>missing</td><td>Goldfields-Esperance</td><td>Outer Regional Australia</td></tr><tr><th>9</th><td>Albany</td><td>29,373</td><td>Great Southern</td><td>Inner Regional Australia</td></tr><tr><th>10</th><td>missing</td><td>missing</td><td>Great Southern</td><td>Outer Regional Australia</td></tr><tr><th>11</th><td>Busselton</td><td>25,329</td><td>South West</td><td>Inner Regional Australia</td></tr><tr><th>12</th><td>missing</td><td>missing</td><td>South West</td><td>Outer Regional Australia</td></tr><tr><th>13</th><td>Karratha</td><td>15,828</td><td>Pilbara</td><td>Remote</td></tr><tr><th>14</th><td>missing</td><td>missing</td><td>Pilbara</td><td>Very Remote</td></tr><tr><th>15</th><td>Broome</td><td>13,984</td><td>Kimberley</td><td>Remote</td></tr><tr><th>16</th><td>missing</td><td>missing</td><td>Kimberley</td><td>Very Remote</td></tr><tr><th>17</th><td>Port Hedland</td><td>13,828</td><td>Pilbara</td><td>Remote</td></tr><tr><th>18</th><td>missing</td><td>missing</td><td>Pilbara</td><td>Very Remote</td></tr><tr><th>19</th><td>Esperance</td><td>10,421</td><td>Goldfields-Esperance</td><td>Remote</td></tr><tr><th>20</th><td>missing</td><td>missing</td><td>Goldfields-Esperance</td><td>Very Remote</td></tr><tr><th>21</th><td>Yanchep</td><td>8,859</td><td>Perth</td><td>Remote</td></tr><tr><th>22</th><td>missing</td><td>missing</td><td>Perth</td><td>Very Remote</td></tr><tr><th>23</th><td>Collie</td><td>7,192</td><td>South West</td><td>Inner Regional Australia</td></tr><tr><th>24</th><td>missing</td><td>missing</td><td>South West</td><td>Outer Regional Australia</td></tr><tr><th>25</th><td>Northam</td><td>6,548</td><td>Wheatbelt</td><td>Inner Regional Australia</td></tr><tr><th>26</th><td>missing</td><td>missing</td><td>Wheatbelt</td><td>Outer Regional Australia</td></tr><tr><th>27</th><td>Margaret River</td><td>6,392</td><td>South West</td><td>Inner Regional Australia</td></tr><tr><th>28</th><td>missing</td><td>missing</td><td>South West</td><td>Outer Regional Australia</td></tr><tr><th>29</th><td>Dunsborough</td><td>6,039</td><td>South West</td><td>Inner Regional Australia</td></tr><tr><th>30</th><td>missing</td><td>missing</td><td>South West</td><td>Outer Regional Australia</td></tr><tr><th>&vellip;</th><td>&vellip;</td><td>&vellip;</td><td>&vellip;</td><td>&vellip;</td></tr></tbody></table>"
      ],
      "text/latex": [
       "\\begin{tabular}{r|ccccc}\n",
       "\t& City / Town & Column2 & Region & Remoteness Areas & \\\\\n",
       "\t\\hline\n",
       "\t& String⍰ & String⍰ & String & String & \\\\\n",
       "\t\\hline\n",
       "\t1 & Perth & 1,874,578 & Perth & Major Cities of Australia & $\\dots$ \\\\\n",
       "\t2 &  &  & Perth & Remote & $\\dots$ \\\\\n",
       "\t3 & Bunbury & 71,090 & South West & Inner Regional Australia & $\\dots$ \\\\\n",
       "\t4 &  &  & South West & Outer Regional Australia & $\\dots$ \\\\\n",
       "\t5 & Geraldton & 31,982 & Mid West & Inner Regional Australia & $\\dots$ \\\\\n",
       "\t6 &  &  & Mid West & Outer Regional Australia & $\\dots$ \\\\\n",
       "\t7 & Kalgoorlie-Boulder & 29,875 & Goldfields-Esperance & Inner Regional Australia & $\\dots$ \\\\\n",
       "\t8 &  &  & Goldfields-Esperance & Outer Regional Australia & $\\dots$ \\\\\n",
       "\t9 & Albany & 29,373 & Great Southern & Inner Regional Australia & $\\dots$ \\\\\n",
       "\t10 &  &  & Great Southern & Outer Regional Australia & $\\dots$ \\\\\n",
       "\t11 & Busselton & 25,329 & South West & Inner Regional Australia & $\\dots$ \\\\\n",
       "\t12 &  &  & South West & Outer Regional Australia & $\\dots$ \\\\\n",
       "\t13 & Karratha & 15,828 & Pilbara & Remote & $\\dots$ \\\\\n",
       "\t14 &  &  & Pilbara & Very Remote & $\\dots$ \\\\\n",
       "\t15 & Broome & 13,984 & Kimberley & Remote & $\\dots$ \\\\\n",
       "\t16 &  &  & Kimberley & Very Remote & $\\dots$ \\\\\n",
       "\t17 & Port Hedland & 13,828 & Pilbara & Remote & $\\dots$ \\\\\n",
       "\t18 &  &  & Pilbara & Very Remote & $\\dots$ \\\\\n",
       "\t19 & Esperance & 10,421 & Goldfields-Esperance & Remote & $\\dots$ \\\\\n",
       "\t20 &  &  & Goldfields-Esperance & Very Remote & $\\dots$ \\\\\n",
       "\t21 & Yanchep & 8,859 & Perth & Remote & $\\dots$ \\\\\n",
       "\t22 &  &  & Perth & Very Remote & $\\dots$ \\\\\n",
       "\t23 & Collie & 7,192 & South West & Inner Regional Australia & $\\dots$ \\\\\n",
       "\t24 &  &  & South West & Outer Regional Australia & $\\dots$ \\\\\n",
       "\t25 & Northam & 6,548 & Wheatbelt & Inner Regional Australia & $\\dots$ \\\\\n",
       "\t26 &  &  & Wheatbelt & Outer Regional Australia & $\\dots$ \\\\\n",
       "\t27 & Margaret River & 6,392 & South West & Inner Regional Australia & $\\dots$ \\\\\n",
       "\t28 &  &  & South West & Outer Regional Australia & $\\dots$ \\\\\n",
       "\t29 & Dunsborough & 6,039 & South West & Inner Regional Australia & $\\dots$ \\\\\n",
       "\t30 &  &  & South West & Outer Regional Australia & $\\dots$ \\\\\n",
       "\t$\\dots$ & $\\dots$ & $\\dots$ & $\\dots$ & $\\dots$ &  \\\\\n",
       "\\end{tabular}\n"
      ],
      "text/plain": [
       "428×15 DataFrames.DataFrame. Omitted printing of 12 columns\n",
       "│ Row │ City / Town        │ Column2   │ Region                 │\n",
       "│     │ \u001b[90mString⍰\u001b[39m            │ \u001b[90mString⍰\u001b[39m   │ \u001b[90mString\u001b[39m                 │\n",
       "├─────┼────────────────────┼───────────┼────────────────────────┤\n",
       "│ 1   │ Perth              │ 1,874,578 │ Perth                  │\n",
       "│ 2   │ \u001b[90mmissing\u001b[39m            │ \u001b[90mmissing\u001b[39m   │ Perth                  │\n",
       "│ 3   │ Bunbury            │ 71,090    │ South West             │\n",
       "│ 4   │ \u001b[90mmissing\u001b[39m            │ \u001b[90mmissing\u001b[39m   │ South West             │\n",
       "│ 5   │ Geraldton          │ 31,982    │ Mid West               │\n",
       "│ 6   │ \u001b[90mmissing\u001b[39m            │ \u001b[90mmissing\u001b[39m   │ Mid West               │\n",
       "│ 7   │ Kalgoorlie-Boulder │ 29,875    │ Goldfields-Esperance   │\n",
       "│ 8   │ \u001b[90mmissing\u001b[39m            │ \u001b[90mmissing\u001b[39m   │ Goldfields-Esperance   │\n",
       "│ 9   │ Albany             │ 29,373    │ Great Southern         │\n",
       "│ 10  │ \u001b[90mmissing\u001b[39m            │ \u001b[90mmissing\u001b[39m   │ Great Southern         │\n",
       "⋮\n",
       "│ 418 │ Tjalka Wara        │ 0         │ Pilbara                │\n",
       "│ 419 │ Wanarn             │ 142       │ Goldfields - Esperance │\n",
       "│ 420 │ Pandanus Park      │ 135       │ Kimberley              │\n",
       "│ 421 │ Kanpa              │ 18        │ Goldfields - Esperance │\n",
       "│ 422 │ Punmu              │ 145       │ Pilbara                │\n",
       "│ 423 │ Kundat Djaru       │ 179       │ Kimberley              │\n",
       "│ 424 │ Wandanooka         │ 40        │ Mid West               │\n",
       "│ 425 │ Kunawarritji       │ 83        │ Pilbara                │\n",
       "│ 426 │ Looma              │ 531       │ Kimberley              │\n",
       "│ 427 │ Djoodood           │ 0         │ Kimberley              │\n",
       "│ 428 │ Cheeditha          │ 65        │ Pilbara                │"
      ]
     },
     "execution_count": 5,
     "metadata": {},
     "output_type": "execute_result"
    }
   ],
   "source": [
    "wapop=CSV.read(\"all-wa.csv\")"
   ]
  },
  {
   "cell_type": "markdown",
   "metadata": {},
   "source": [
    "## remove the empty towns\n",
    "\n",
    "wapop2 is wapop with allt he empty towns deleted.  Both data frames come `all-wa.csv` which is a mash up of the two files that orlando provided."
   ]
  },
  {
   "cell_type": "code",
   "execution_count": 6,
   "metadata": {},
   "outputs": [
    {
     "ename": "UndefVarError",
     "evalue": "UndefVarError: popl not defined",
     "output_type": "error",
     "traceback": [
      "UndefVarError: popl not defined",
      "",
      "Stacktrace:",
      " [1] top-level scope at ./In[6]:5"
     ]
    }
   ],
   "source": [
    "(nr,nc)=size(wapop)\n",
    "nr=nr-58\n",
    "rowidx=[]\n",
    "for i in 59:nr\n",
    "    if popl[i]!=0\n",
    "        rowidx=[rowidx; i]\n",
    "    end\n",
    "end\n",
    "rowidx=[1:116; rowidx.+58]\n",
    "wapop2=wapop[rowidx,:] #femove all empty settlements."
   ]
  },
  {
   "cell_type": "code",
   "execution_count": 7,
   "metadata": {},
   "outputs": [
    {
     "ename": "UndefVarError",
     "evalue": "UndefVarError: wapop2 not defined",
     "output_type": "error",
     "traceback": [
      "UndefVarError: wapop2 not defined",
      "",
      "Stacktrace:",
      " [1] top-level scope at In[7]:1"
     ]
    }
   ],
   "source": [
    "wapop=wapop2"
   ]
  },
  {
   "cell_type": "markdown",
   "metadata": {},
   "source": [
    "## Metric for similarity\n",
    "\n",
    "`simiaritytown` computes a measure for the similarity between two locales - based on laguages spoken and whether they are within the same districts. Note that `majorlocalities` is hardcoded - I'm lazy."
   ]
  },
  {
   "cell_type": "code",
   "execution_count": 8,
   "metadata": {},
   "outputs": [
    {
     "data": {
      "text/plain": [
       "similaritytown (generic function with 1 method)"
      ]
     },
     "execution_count": 8,
     "metadata": {},
     "output_type": "execute_result"
    }
   ],
   "source": [
    "function similaritytown(df,i,j)\n",
    "    majorlocalities=58\n",
    "    # similaritytown(df,i,j)\n",
    "    # Define a \"similarity\" between two locations. This code is an ad-hoc rule that is an \n",
    "    # attempt to model the amount of movement between discrete regions. Dataframe df is \n",
    "    # assumed to be in the Orlando format as illustrated above.\n",
    "    bonus1=100  #effectively, the larger the bonus, the more we include non-indigeneos travel.\n",
    "    bonus2=10\n",
    "    if i<j\n",
    "        score=similaritytown(df,j,i)\n",
    "        return score\n",
    "    elseif i<=majorlocalities && j<=majorlocalities\n",
    "        x1= convert(Matrix{Int}, df[2*i-1:2*i,6:end])\n",
    "        x2= convert(Matrix{Int}, df[2*j-1:2*j,6:end])\n",
    "        languagesimilarity=x1[:]'*x2[:]        #or not\n",
    "        regionbonus= (df[2*i,3]==df[2*j,3])*bonus1\n",
    "    elseif i>majorlocalities && j>majorlocalities\n",
    "        x1= convert(Vector{Int}, df[majorlocalities+i,6:end])\n",
    "        x2= convert(Vector{Int}, df[majorlocalities+j,6:end])\n",
    "        languagesimilarity=x1[:]'*x2[:]        #or not\n",
    "        regionbonus= (df[i+majorlocalities,3]==df[j+majorlocalities,3])*bonus1 #same region\n",
    "        regionbonus= regionbonus + (df[i+majorlocalities,5]==df[j+majorlocalities,5])*bonus2 #and same locality\n",
    "    else\n",
    "        x1= convert(Vector{Int}, df[majorlocalities+i,6:end])\n",
    "        x1= reshape(x1,1,length(x1))\n",
    "        x2= convert(Matrix{Int}, df[2*j-1:2*j,6:end])\n",
    "        languagesimilarity= (sum(x2,dims=1) * x1[:])[1]      #or not\n",
    "        regionbonus= (df[i+majorlocalities,3]==df[2*j,3])*bonus1 #same region\n",
    "    end\n",
    "    score=Int(floor(sqrt(languagesimilarity+regionbonus))) # sqrt? why not?\n",
    "    return score\n",
    "end"
   ]
  },
  {
   "cell_type": "code",
   "execution_count": 9,
   "metadata": {},
   "outputs": [],
   "source": [
    "dist=Array{Int,2}(undef,370,370)\n",
    "for i in 1:370\n",
    "    for j in 1:370\n",
    "        dist[i,j]=similaritytown(wapop,i,j)\n",
    "    end\n",
    "end"
   ]
  },
  {
   "cell_type": "code",
   "execution_count": null,
   "metadata": {},
   "outputs": [],
   "source": [
    "plot(dist[:].+1,yaxis=:log)"
   ]
  },
  {
   "cell_type": "code",
   "execution_count": null,
   "metadata": {},
   "outputs": [],
   "source": [
    "using LightGraphs, GraphPlot, SimpleWeightedGraphs, Plots"
   ]
  },
  {
   "cell_type": "markdown",
   "metadata": {},
   "source": [
    "# Compute and view the inferred connectivity structure"
   ]
  },
  {
   "cell_type": "code",
   "execution_count": null,
   "metadata": {},
   "outputs": [],
   "source": [
    "# extract information from dataframe\n",
    "#\n",
    "#population\n",
    "majorlocalities=58\n",
    "brk=majorlocalities*2\n",
    "townpop1=wapopint=parse.(Int, replace.(wapop[1:2:brk,2], r\",\"=> \"\"))\n",
    "townpop2=wapopint=parse.(Int, replace.(wapop[brk+1:end,2], r\",\"=> \"\"))\n",
    "townpop=[townpop1; townpop2]\n",
    "#townpop=townpop[1:end-1]\n",
    "#region and assign colouring\n",
    "nodecolor = [colorant\"lightseagreen\", colorant\"orange\", colorant\"red\", colorant\"green\", colorant\"yellow\", colorant\"brown\", colorant\"pink\", colorant\"purple\", colorant\"blue\", colorant\"violet\", colorant\"black\"]\n",
    "townlabel=[wapop[1:2:brk,3]; wapop[brk+1:end,3]]\n",
    "#townlabel=townlabel[1:end-1]\n",
    "regions=unique(townlabel)\n",
    "regioni=Array{Int,1}(undef,370)\n",
    "for i in 1:370\n",
    "    regioni[i]=findall(x->x==1,townlabel[i].==regions)[1]\n",
    "end\n",
    "nodefillc = nodecolor[regioni]\n",
    "#town names\n",
    "townlabel=[wapop[1:2:brk,1]; wapop[brk+1:end,1]]\n",
    "#townlabel=townlabel[1:end-1]"
   ]
  },
  {
   "cell_type": "code",
   "execution_count": null,
   "metadata": {},
   "outputs": [],
   "source": [
    "gplot(Graph(dist.>2),nodefillc=nodefillc)"
   ]
  },
  {
   "cell_type": "code",
   "execution_count": null,
   "metadata": {},
   "outputs": [],
   "source": [
    "gplot(Graph(dist.>2),nodelabel=townlabel,nodelabelsize=log.(townpop),nodesize=log.(townpop),nodefillc=nodefillc)"
   ]
  },
  {
   "cell_type": "code",
   "execution_count": null,
   "metadata": {},
   "outputs": [],
   "source": [
    "plotly()\n"
   ]
  },
  {
   "cell_type": "code",
   "execution_count": null,
   "metadata": {},
   "outputs": [],
   "source": [
    "histogram(regioni,rotation=90,xticks=(1.25:(length(regions)+0.25),regions))"
   ]
  },
  {
   "cell_type": "markdown",
   "metadata": {},
   "source": [
    "## Construct the full individual-level connectivity structure for WA\n",
    "\n",
    "Each node is a person."
   ]
  },
  {
   "cell_type": "code",
   "execution_count": null,
   "metadata": {},
   "outputs": [],
   "source": [
    "function buildstate(statedata,netbuilder)\n",
    "    # buildstate(statedata, netbuilder)\n",
    "    ##############################################################################\n",
    "    #statedata is a csv table loaded from the structure /format above (AKA the Orlando Format)\n",
    "    #netbuilder is the intra-locale network construction rule (a function)\n",
    "    ##############################################################################\n",
    "    #\n",
    "    #extract the data from CSV table\n",
    "    majorlocalities=58\n",
    "    brk=majorlocalities*2\n",
    "    locale=[statedata[1:2:brk,1]; statedata[brk+1:end,1]]\n",
    "    townpop1=wapopint=parse.(Int, replace.(wapop[1:2:brk,2], r\",\"=> \"\"))\n",
    "    townpop2=wapopint=parse.(Int, replace.(wapop[brk+1:end,2], r\",\"=> \"\"))\n",
    "    popl=[townpop1; townpop2]\n",
    "    npl=length(popl)\n",
    "    net=SimpleGraph() #empty graph\n",
    "    transit=Array{Int64,2}(undef,npl,npl) #number of transits beween locale[i] and locale[j]\n",
    "    for (i,town) in enumerate(locale)\n",
    "        println(\"Adding \",town,\" (population: \",popl[i],\")\")\n",
    "        #add the intralocale links\n",
    "        if popl[i]>0\n",
    "            netadd=netbuilder(popl[i]) #use the preassigned method to add the new component\n",
    "            net=blockdiag(net,netadd)\n",
    "        end\n",
    "        #compute the amount of transit\n",
    "        for j in 1:(i-1) #number of transit between here and every other previous part\n",
    "        transit[i,j] = Int(floor(similaritytown(statedata,i,j)))\n",
    "            transit[j,i]=transit[i,j]\n",
    "        end\n",
    "        transit[i,i]=0\n",
    "    end\n",
    "    #add the inter-locale links too --- could do it in the same (previous) loops, but this is clearer (I think)\n",
    "    rr=[0; cumsum(popl)]\n",
    "    nedges_add = 0\n",
    "    for i in 1:npl\n",
    "        for j in (i+1):npl\n",
    "            addlink=transit[i,j]\n",
    "            addlink=minimum([addlink  popl[i]  popl[j]])\n",
    "            if addlink>0\n",
    "                edg1=rand(collect(rr[i]+1:rr[i+1]),addlink)\n",
    "                edg2=rand(collect(rr[j]+1:rr[j+1]),addlink)\n",
    "                for k in 1:addlink\n",
    "                    add_edge!(net,edg1[k],edg2[k]) #this is grossly inefficient\n",
    "                    nedges_add += 1\n",
    "                end\n",
    "            end\n",
    "        end\n",
    "    end\n",
    "    #all done\n",
    "    println(\" $nedges_add edges added\")\n",
    "    return net, transit, locale, popl, nedges_add\n",
    "end"
   ]
  },
  {
   "cell_type": "markdown",
   "metadata": {},
   "source": [
    "## Run the simulations\n",
    "\n",
    "Some examples are given. Note that `ContactModels.jl` has been modified and may need to be modified further. Still to do - more than five person households."
   ]
  },
  {
   "cell_type": "code",
   "execution_count": null,
   "metadata": {},
   "outputs": [],
   "source": [
    "#net, transit, locale, popl, distrc = buildstate(wapop[1:end-1,:], x -> covidsafe(nomassmix(x),0.5))\n",
    "#net, transit, locale, popl, distrc = buildstate(wapop[1:end-1,:], x -> nomassmix(x))\n",
    "net, transit, locale, popl, nedges_added = buildstate(wapop, x -> fullmixing(x))"
   ]
  },
  {
   "cell_type": "code",
   "execution_count": null,
   "metadata": {},
   "outputs": [],
   "source": [
    "#'reasonable' parameters ################################\n",
    "epiparam=Dict()\n",
    "epiparam[\"p0\"]=0.2 #a guess - tuned to match observed data \n",
    "epiparam[\"p2\"]=1/12 #revised infection rate with distancing measure\n",
    "epiparam[\"q\"]=1/7 #\"up to\" two weeks\n",
    "epiparam[\"r0\"]=1/14 #about two weeks for mild, 3-6 for severe\n",
    "epiparam[\"r2\"]=1/4 #revised removal rate (now due to testing and isolation)\n",
    "#########################################################\n",
    "epiparam[\"nseeds\"]=5 #probably too many, consider dropping. \n",
    "epiparam[\"pop\"]=size(net)[1]"
   ]
  },
  {
   "cell_type": "code",
   "execution_count": null,
   "metadata": {},
   "outputs": [],
   "source": [
    "ndays=90\n",
    "nsims=200\n",
    "St,Et,It,Rt = EpiSim.episim(net, epiparam, ndays, nsims)  #no change-point nsims simulations for ndays days"
   ]
  },
  {
   "cell_type": "code",
   "execution_count": null,
   "metadata": {},
   "outputs": [],
   "source": [
    "#log scale plot of model growth in infection \n",
    "plot(title=\"Simulation across WA\", ylabel=\"total infected\",yaxis=:log)\n",
    "EpiSim.plotquantiles(It+Rt.+1,:yellow,\"90% CI\",0.45) #need to add one, otherwise log gets upset\n",
    "EpiSim.plotquantiles(It+Rt.+1,:red,\"50% CI\",0.25)"
   ]
  },
  {
   "cell_type": "code",
   "execution_count": null,
   "metadata": {},
   "outputs": [],
   "source": [
    "#now, do the same things, but keep track of the count in each town\n",
    "ndays=210\n",
    "nsims=500\n",
    "locpop=cumsum([1; popl],dims=1)\n",
    "St,Et,It,Rt = EpiSim.episimcom(net, locpop, epiparam, ndays, nsims)  #no change-point nsims simulations for ndays days\n",
    "#St[i,j,k] is the number of susceptibles in locale k on day i of simulation j\n",
    ";\n"
   ]
  },
  {
   "cell_type": "code",
   "execution_count": null,
   "metadata": {},
   "outputs": [],
   "source": [
    "#log scale plot of model growth in infection \n",
    "lcl=50\n",
    "plot(title=\"Impact on \"*locale[lcl], ylabel=\"total infected\",yaxis=:log)\n",
    "EpiSim.plotquantiles(It[:,:,lcl]+Rt[:,:,lcl].+1,:yellow,\"90% CI\",0.45) #need to add one, otherwise log gets upset\n",
    "EpiSim.plotquantiles(It[:,:,lcl]+Rt[:,:,lcl].+1,:red,\"50% CI\",0.25)"
   ]
  },
  {
   "cell_type": "markdown",
   "metadata": {},
   "source": [
    "## View results"
   ]
  },
  {
   "cell_type": "code",
   "execution_count": null,
   "metadata": {},
   "outputs": [],
   "source": [
    "nday=[60 45 30 15]\n",
    "impactloc=Array{Float64,2}(undef, length(locale), length(nday))\n",
    "for n in 1:1:length(nday)\n",
    "    for k in 1:length(locale)\n",
    "        impactloc[k,n]=100*sum((It[nday[n],:,k]+Rt[nday[n],:,k]).>0)/nsims\n",
    "       # println(locale[k],\" affected \",impactloc[k],\"%\")\n",
    "    end\n",
    "end"
   ]
  },
  {
   "cell_type": "code",
   "execution_count": null,
   "metadata": {
    "scrolled": false
   },
   "outputs": [],
   "source": [
    "bar(locale,impactloc, orientation='x', rotation=90, xlabel=\"probability of local transmission\", yticks=(0.5:1:length(locale),locale),linetype=:bar,label=nday,size=(600,8000),title=\"Estimated vulnerability\" )\n"
   ]
  },
  {
   "cell_type": "markdown",
   "metadata": {},
   "source": [
    "## Michael Small (21/6/20) \n",
    "\n",
    "Work in progress, for use as is only."
   ]
  },
  {
   "cell_type": "code",
   "execution_count": null,
   "metadata": {},
   "outputs": [],
   "source": []
  }
 ],
 "metadata": {
  "@webio": {
   "lastCommId": null,
   "lastKernelId": null
  },
  "kernelspec": {
   "display_name": "Julia 1.4.0",
   "language": "julia",
   "name": "julia-1.4"
  },
  "language_info": {
   "file_extension": ".jl",
   "mimetype": "application/julia",
   "name": "julia",
   "version": "1.4.0"
  }
 },
 "nbformat": 4,
 "nbformat_minor": 4
}
