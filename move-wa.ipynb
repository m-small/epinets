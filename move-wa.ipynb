{
 "cells": [
  {
   "cell_type": "code",
   "execution_count": 1,
   "metadata": {},
   "outputs": [],
   "source": [
    "using LightGraphs, Plots, GraphPlot, Compose, Random"
   ]
  },
  {
   "cell_type": "code",
   "execution_count": 2,
   "metadata": {},
   "outputs": [
    {
     "data": {
      "text/plain": [
       "rewire! (generic function with 1 method)"
      ]
     },
     "execution_count": 2,
     "metadata": {},
     "output_type": "execute_result"
    }
   ],
   "source": [
    "include(\"ContactModels.jl\")"
   ]
  },
  {
   "cell_type": "code",
   "execution_count": 3,
   "metadata": {},
   "outputs": [
    {
     "data": {
      "text/plain": [
       "Main.EpiSim"
      ]
     },
     "execution_count": 3,
     "metadata": {},
     "output_type": "execute_result"
    }
   ],
   "source": [
    "include(\"EpiSim.jl\")"
   ]
  },
  {
   "cell_type": "code",
   "execution_count": 4,
   "metadata": {},
   "outputs": [
    {
     "data": {
      "text/plain": [
       "10000"
      ]
     },
     "execution_count": 4,
     "metadata": {},
     "output_type": "execute_result"
    }
   ],
   "source": [
    "#'reasonable' parameters\n",
    "epiparam=Dict()\n",
    "epiparam[\"p0\"]=1/10 #a guess - tuned to match observed data \n",
    "epiparam[\"q\"]=1/8 #\"up to\" two weeks\n",
    "epiparam[\"r0\"]=1/4 #about two weeks for mild, 3-6 for severe\n",
    "epiparam[\"nseeds\"]=5 #probably too many, consider dropping.\n",
    "#parameters don't change across transition point - assume about 5 undiagnosed case \n",
    "#and control the covidsafe uptake via network structure\n",
    "i=8\n",
    "epiparam[\"pop\"]=100^2\n",
    "#epiparam[\"gridsize\"]=100"
   ]
  },
  {
   "cell_type": "code",
   "execution_count": 5,
   "metadata": {},
   "outputs": [],
   "source": [
    "using CSV"
   ]
  },
  {
   "cell_type": "code",
   "execution_count": 6,
   "metadata": {},
   "outputs": [
    {
     "data": {
      "text/html": [
       "<table class=\"data-frame\"><thead><tr><th></th><th>Column1</th><th>Column2</th><th>Column3</th></tr><tr><th></th><th>String</th><th>String</th><th>String</th></tr></thead><tbody><p>56 rows × 3 columns</p><tr><th>1</th><td>Perth</td><td>1,874,578</td><td>Perth</td></tr><tr><th>2</th><td>Bunbury</td><td>71,090</td><td>South West</td></tr><tr><th>3</th><td>Geraldton</td><td>31,982</td><td>Mid West</td></tr><tr><th>4</th><td>Kalgoorlie-Boulder</td><td>29,875</td><td>Goldfields-Esperance</td></tr><tr><th>5</th><td>Albany</td><td>29,373</td><td>Great Southern</td></tr><tr><th>6</th><td>Busselton</td><td>25,329</td><td>South West</td></tr><tr><th>7</th><td>Karratha</td><td>15,828</td><td>Pilbara</td></tr><tr><th>8</th><td>Broome</td><td>13,984</td><td>Kimberley</td></tr><tr><th>9</th><td>Port Hedland</td><td>13,828</td><td>Pilbara</td></tr><tr><th>10</th><td>Esperance</td><td>10,421</td><td>Goldfields-Esperance</td></tr><tr><th>11</th><td>Yanchep</td><td>8,859</td><td>Perth</td></tr><tr><th>12</th><td>Collie</td><td>7,192</td><td>South West</td></tr><tr><th>13</th><td>Northam</td><td>6,548</td><td>Wheatbelt</td></tr><tr><th>14</th><td>Margaret River</td><td>6,392</td><td>South West</td></tr><tr><th>15</th><td>Dunsborough</td><td>6,039</td><td>South West</td></tr><tr><th>16</th><td>Newman</td><td>4,567</td><td>Pilbara</td></tr><tr><th>17</th><td>Carnarvon</td><td>4,426</td><td>Gascoyne</td></tr><tr><th>18</th><td>Kununurra</td><td>4,341</td><td>Kimberley</td></tr><tr><th>19</th><td>Narrogin</td><td>4,274</td><td>Wheatbelt</td></tr><tr><th>20</th><td>Manjimup</td><td>4,213</td><td>South West</td></tr><tr><th>21</th><td>Pinjarra</td><td>3,896</td><td>Peel</td></tr><tr><th>22</th><td>Katanning</td><td>3,702</td><td>Great Southern</td></tr><tr><th>23</th><td>Derby</td><td>3,325</td><td>Kimberley</td></tr><tr><th>24</th><td>Tom Price</td><td>2,956</td><td>Pilbara</td></tr><tr><th>25</th><td>Port Denison-Dongara</td><td>2,782</td><td>Mid West</td></tr><tr><th>26</th><td>Harvey</td><td>2,750</td><td>South West</td></tr><tr><th>27</th><td>Merredin</td><td>2,636</td><td>Wheatbelt</td></tr><tr><th>28</th><td>Denmark</td><td>2,558</td><td>Great Southern</td></tr><tr><th>29</th><td>York</td><td>2,548</td><td>Wheatbelt</td></tr><tr><th>30</th><td>Donnybrook</td><td>2,520</td><td>South West</td></tr><tr><th>&vellip;</th><td>&vellip;</td><td>&vellip;</td><td>&vellip;</td></tr></tbody></table>"
      ],
      "text/latex": [
       "\\begin{tabular}{r|ccc}\n",
       "\t& Column1 & Column2 & Column3\\\\\n",
       "\t\\hline\n",
       "\t& String & String & String\\\\\n",
       "\t\\hline\n",
       "\t1 & Perth & 1,874,578 & Perth \\\\\n",
       "\t2 & Bunbury & 71,090 & South West \\\\\n",
       "\t3 & Geraldton & 31,982 & Mid West \\\\\n",
       "\t4 & Kalgoorlie-Boulder & 29,875 & Goldfields-Esperance \\\\\n",
       "\t5 & Albany & 29,373 & Great Southern \\\\\n",
       "\t6 & Busselton & 25,329 & South West \\\\\n",
       "\t7 & Karratha & 15,828 & Pilbara \\\\\n",
       "\t8 & Broome & 13,984 & Kimberley \\\\\n",
       "\t9 & Port Hedland & 13,828 & Pilbara \\\\\n",
       "\t10 & Esperance & 10,421 & Goldfields-Esperance \\\\\n",
       "\t11 & Yanchep & 8,859 & Perth \\\\\n",
       "\t12 & Collie & 7,192 & South West \\\\\n",
       "\t13 & Northam & 6,548 & Wheatbelt \\\\\n",
       "\t14 & Margaret River & 6,392 & South West \\\\\n",
       "\t15 & Dunsborough & 6,039 & South West \\\\\n",
       "\t16 & Newman & 4,567 & Pilbara \\\\\n",
       "\t17 & Carnarvon & 4,426 & Gascoyne \\\\\n",
       "\t18 & Kununurra & 4,341 & Kimberley \\\\\n",
       "\t19 & Narrogin & 4,274 & Wheatbelt \\\\\n",
       "\t20 & Manjimup & 4,213 & South West \\\\\n",
       "\t21 & Pinjarra & 3,896 & Peel \\\\\n",
       "\t22 & Katanning & 3,702 & Great Southern \\\\\n",
       "\t23 & Derby & 3,325 & Kimberley \\\\\n",
       "\t24 & Tom Price & 2,956 & Pilbara \\\\\n",
       "\t25 & Port Denison-Dongara & 2,782 & Mid West \\\\\n",
       "\t26 & Harvey & 2,750 & South West \\\\\n",
       "\t27 & Merredin & 2,636 & Wheatbelt \\\\\n",
       "\t28 & Denmark & 2,558 & Great Southern \\\\\n",
       "\t29 & York & 2,548 & Wheatbelt \\\\\n",
       "\t30 & Donnybrook & 2,520 & South West \\\\\n",
       "\t$\\dots$ & $\\dots$ & $\\dots$ & $\\dots$ \\\\\n",
       "\\end{tabular}\n"
      ],
      "text/plain": [
       "56×3 DataFrames.DataFrame\n",
       "│ Row │ Column1            │ Column2   │ Column3              │\n",
       "│     │ \u001b[90mString\u001b[39m             │ \u001b[90mString\u001b[39m    │ \u001b[90mString\u001b[39m               │\n",
       "├─────┼────────────────────┼───────────┼──────────────────────┤\n",
       "│ 1   │ Perth              │ 1,874,578 │ Perth                │\n",
       "│ 2   │ Bunbury            │ 71,090    │ South West           │\n",
       "│ 3   │ Geraldton          │ 31,982    │ Mid West             │\n",
       "│ 4   │ Kalgoorlie-Boulder │ 29,875    │ Goldfields-Esperance │\n",
       "│ 5   │ Albany             │ 29,373    │ Great Southern       │\n",
       "│ 6   │ Busselton          │ 25,329    │ South West           │\n",
       "│ 7   │ Karratha           │ 15,828    │ Pilbara              │\n",
       "│ 8   │ Broome             │ 13,984    │ Kimberley            │\n",
       "│ 9   │ Port Hedland       │ 13,828    │ Pilbara              │\n",
       "│ 10  │ Esperance          │ 10,421    │ Goldfields-Esperance │\n",
       "⋮\n",
       "│ 46  │ Jurien Bay         │ 1,425     │ Wheatbelt            │\n",
       "│ 47  │ Paraburdoo         │ 1,359     │ Pilbara              │\n",
       "│ 48  │ Wagin              │ 1,358     │ Wheatbelt            │\n",
       "│ 49  │ Kalbarri           │ 1,349     │ Mid West             │\n",
       "│ 50  │ Serpentine         │ 1,265     │ Peel                 │\n",
       "│ 51  │ Binningup          │ 1,227     │ South West           │\n",
       "│ 52  │ Kojonup            │ 1,165     │ Great Southern       │\n",
       "│ 53  │ Boddington-Ranford │ 1,147     │ Peel                 │\n",
       "│ 54  │ Fitzroy Crossing   │ 1,141     │ Kimberley            │\n",
       "│ 55  │ Augusta            │ 1,109     │ South West           │\n",
       "│ 56  │ Dampier            │ 1,104     │ Pilbara              │"
      ]
     },
     "execution_count": 6,
     "metadata": {},
     "output_type": "execute_result"
    }
   ],
   "source": [
    "wapop=CSV.read(\"WA-pop.csv\")"
   ]
  },
  {
   "cell_type": "code",
   "execution_count": null,
   "metadata": {},
   "outputs": [],
   "source": []
  }
 ],
 "metadata": {
  "kernelspec": {
   "display_name": "Julia 1.4.0",
   "language": "julia",
   "name": "julia-1.4"
  },
  "language_info": {
   "file_extension": ".jl",
   "mimetype": "application/julia",
   "name": "julia",
   "version": "1.4.0"
  }
 },
 "nbformat": 4,
 "nbformat_minor": 4
}
