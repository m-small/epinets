{
 "cells": [
  {
   "cell_type": "markdown",
   "metadata": {},
   "source": [
    "## Drawing the locale specific predictions\n",
    "\n",
    "In each case the data is from John Hopkins and I've identified the exponential growth phase, simulated that and made predictions with physical distancing applied from that point on (i.e. we infer when physical distancing happens from the time series and test whether the subsequent curve outperforms the prediction of the model. For ealr y stage transmission (i.e. shortly after the peak) this may also provide a ball park range of how bad things will get...\n",
    "\n",
    "Essentially it's all exponential growth followed by linear growth with an (equivalent) R_eff<1."
   ]
  },
  {
   "cell_type": "code",
   "execution_count": 1,
   "metadata": {},
   "outputs": [],
   "source": [
    "cd(\"/Users/michael/work/GitHub/epinets\")"
   ]
  },
  {
   "cell_type": "code",
   "execution_count": 2,
   "metadata": {},
   "outputs": [
    {
     "data": {
      "text/plain": [
       "Main.EpiSim"
      ]
     },
     "execution_count": 2,
     "metadata": {},
     "output_type": "execute_result"
    }
   ],
   "source": [
    "include(\"EpiSim.jl\")"
   ]
  },
  {
   "cell_type": "code",
   "execution_count": 3,
   "metadata": {},
   "outputs": [],
   "source": [
    "using CSV\n",
    "using Plots\n",
    "using LightGraphs\n",
    "using JLD2, FileIO"
   ]
  },
  {
   "cell_type": "code",
   "execution_count": 4,
   "metadata": {},
   "outputs": [],
   "source": [
    "cd(\"/Users/michael/work/GitHub/COVID-19/csse_covid_19_data/csse_covid_19_time_series\")"
   ]
  },
  {
   "cell_type": "markdown",
   "metadata": {},
   "source": [
    "# Australian States"
   ]
  },
  {
   "cell_type": "code",
   "execution_count": 5,
   "metadata": {},
   "outputs": [
    {
     "data": {
      "text/plain": [
       "1×8 Array{String,2}:\n",
       " \"Australian Capital Territory\"  …  \"Victoria\"  \"Western Australia\""
      ]
     },
     "execution_count": 5,
     "metadata": {},
     "output_type": "execute_result"
    }
   ],
   "source": [
    "file=\"time_series_covid19_confirmed_global.csv\"\n",
    "allstates=[\"Australian Capital Territory\" \"New South Wales\"  \"Northern Territory\" \"Queensland\" \"South Australia\" \"Tasmania\" \"Victoria\" \"Western Australia\"]"
   ]
  },
  {
   "cell_type": "code",
   "execution_count": 6,
   "metadata": {},
   "outputs": [],
   "source": [
    "z=[]\n",
    "for state in allstates\n",
    "    z=push!(z,EpiSim.getdata(\"Australia\",state))\n",
    "end"
   ]
  },
  {
   "cell_type": "code",
   "execution_count": 7,
   "metadata": {},
   "outputs": [
    {
     "data": {
      "text/plain": [
       "96"
      ]
     },
     "execution_count": 7,
     "metadata": {},
     "output_type": "execute_result"
    }
   ],
   "source": [
    "ddays=CSV.File(file)[1]\n",
    "ddays=propertynames(ddays,4)[5:end]\n",
    "ddays=String.(ddays)\n",
    "ndays=length(ddays)"
   ]
  },
  {
   "cell_type": "code",
   "execution_count": 8,
   "metadata": {},
   "outputs": [
    {
     "data": {
      "text/plain": [
       "1×8 Array{Int64,2}:\n",
       " 426709  8089526  245869  5095100  1751693  534281  6594804  2621680"
      ]
     },
     "execution_count": 8,
     "metadata": {},
     "output_type": "execute_result"
    }
   ],
   "source": [
    "pops=[426709 8089526 245869 5095100 1751693 534281 6594804 2621680]"
   ]
  },
  {
   "cell_type": "code",
   "execution_count": 9,
   "metadata": {},
   "outputs": [
    {
     "data": {
      "text/plain": [
       "5"
      ]
     },
     "execution_count": 9,
     "metadata": {},
     "output_type": "execute_result"
    }
   ],
   "source": [
    "#'reasonable' parameters\n",
    "epiparam=Dict()\n",
    "epiparam[\"p0\"]=0.2 #a guess - tuned to match observed data \n",
    "epiparam[\"p2\"]=1/12 #revised infection rate with distancing measure\n",
    "epiparam[\"q\"]=1/7 #\"up to\" two weeks\n",
    "epiparam[\"r0\"]=1/14 #about two weeks for mild, 3-6 for severe\n",
    "epiparam[\"r2\"]=1/4 #revised removal rate (now due to testing and isolation)\n",
    "epiparam[\"nseeds\"]=5 #probably too many, consider dropping."
   ]
  },
  {
   "cell_type": "code",
   "execution_count": 10,
   "metadata": {},
   "outputs": [
    {
     "data": {
      "text/plain": [
       "Plots.GRBackend()"
      ]
     },
     "execution_count": 10,
     "metadata": {},
     "output_type": "execute_result"
    }
   ],
   "source": [
    "#plotly()\n",
    "gr()"
   ]
  },
  {
   "cell_type": "code",
   "execution_count": 11,
   "metadata": {},
   "outputs": [
    {
     "data": {
      "text/plain": [
       "6-element Array{Symbol,1}:\n",
       " :allrs\n",
       " :z\n",
       " :totItps\n",
       " :tpdays\n",
       " :statename\n",
       " :epiparam"
      ]
     },
     "execution_count": 11,
     "metadata": {},
     "output_type": "execute_result"
    }
   ],
   "source": [
    "cd(\"/Users/michael/work/GitHub/epinets\")\n",
    "@load \"done_AU\""
   ]
  },
  {
   "cell_type": "code",
   "execution_count": 12,
   "metadata": {},
   "outputs": [
    {
     "ename": "BoundsError",
     "evalue": "BoundsError: attempt to access 86-element Array{Int64,1} at index [1:87]",
     "output_type": "error",
     "traceback": [
      "BoundsError: attempt to access 86-element Array{Int64,1} at index [1:87]",
      "",
      "Stacktrace:",
      " [1] throw_boundserror(::Array{Int64,1}, ::Tuple{UnitRange{Int64}}) at ./abstractarray.jl:537",
      " [2] checkbounds at ./abstractarray.jl:502 [inlined]",
      " [3] getindex at ./array.jl:793 [inlined]",
      " [4] ddt(::Array{Int64,1}, ::Int64) at ./In[12]:4",
      " [5] (::var\"#9#10\")(::Int64) at ./none:0",
      " [6] iterate at ./generator.jl:47 [inlined]",
      " [7] collect_to!(::Array{Int64,1}, ::Base.Generator{UnitRange{Int64},var\"#9#10\"}, ::Int64, ::Int64) at ./array.jl:710",
      " [8] collect_to_with_first!(::Array{Int64,1}, ::Int64, ::Base.Generator{UnitRange{Int64},var\"#9#10\"}, ::Int64) at ./array.jl:689",
      " [9] collect(::Base.Generator{UnitRange{Int64},var\"#9#10\"}) at ./array.jl:670",
      " [10] top-level scope at In[12]:5"
     ]
    }
   ],
   "source": [
    "i=4\n",
    "pop=Int(floor(sqrt(pops[i])))^2\n",
    "y=z[i];\n",
    "ddt(z,zt)=count(z->z>0, z[1:zt])+ count(z->z<0, z[zt+1:end])\n",
    "~,tpday=findmax([ddt(diff(diff(y)),nx) for nx in 1:(ndays-2)])\n",
    "#this is the turning point between exponential growth and decay. totItp total infections at day tpday\n",
    "totItp=y[tpday+1]\n",
    "plot(1:tpday+1,y[1:tpday+1],lw=4,label=\"growth phase\",title=allstates[i])\n",
    "plot!(tpday+1:ndays,y[tpday+1:ndays],lw=4,label=\"plateau\")"
   ]
  },
  {
   "cell_type": "code",
   "execution_count": 13,
   "metadata": {},
   "outputs": [
    {
     "ename": "BoundsError",
     "evalue": "BoundsError: attempt to access 88-element Array{Int64,1} at index [61:96]",
     "output_type": "error",
     "traceback": [
      "BoundsError: attempt to access 88-element Array{Int64,1} at index [61:96]",
      "",
      "Stacktrace:",
      " [1] throw_boundserror(::Array{Int64,1}, ::Tuple{UnitRange{Int64}}) at ./abstractarray.jl:537",
      " [2] checkbounds at ./abstractarray.jl:502 [inlined]",
      " [3] getindex(::Array{Int64,1}, ::UnitRange{Int64}) at ./array.jl:793",
      " [4] top-level scope at In[13]:10"
     ]
    }
   ],
   "source": [
    "i=1\n",
    "pop=Int(floor(sqrt(pops[i])))^2\n",
    "y=z[i];\n",
    "statename=allstates[i]\n",
    "plot(ddays,y,size=(1200,600),label=false)\n",
    "EpiSim.plotquantiles(pop .- (allrs[statename][1,2]+allrs[statename][1,1]),:blue,\"90% Compliance\")\n",
    "EpiSim.plotquantiles(pop .- (allrs[statename][2,2]+allrs[statename][2,1]),:green,\"95% Compliance\")\n",
    "EpiSim.plotquantiles(pop .- (allrs[statename][3,2]+allrs[statename][3,1]),:purple,\"80% Compliance\")\n",
    "plot!(1:tpdays[statename]+1,y[1:tpdays[statename]+1],lw=4, color=:red,label=\"growth phase\",title=allstates[i])\n",
    "plot!(tpdays[statename]+1:ndays,y[tpdays[statename]+1:ndays],color=:yellow,lw=4,label=\"plateau\",xlim=(0, 120), ylim=(0,2*y[end]))"
   ]
  },
  {
   "cell_type": "code",
   "execution_count": 14,
   "metadata": {},
   "outputs": [
    {
     "ename": "BoundsError",
     "evalue": "BoundsError: attempt to access 88-element Array{Int64,1} at index [61:96]",
     "output_type": "error",
     "traceback": [
      "BoundsError: attempt to access 88-element Array{Int64,1} at index [61:96]",
      "",
      "Stacktrace:",
      " [1] throw_boundserror(::Array{Int64,1}, ::Tuple{UnitRange{Int64}}) at ./abstractarray.jl:537",
      " [2] checkbounds at ./abstractarray.jl:502 [inlined]",
      " [3] getindex(::Array{Int64,1}, ::UnitRange{Int64}) at ./array.jl:793",
      " [4] top-level scope at ./In[14]:11"
     ]
    }
   ],
   "source": [
    "plt=Array{Any,1}(undef,length(allstates))\n",
    "for i in 1:length(allstates)\n",
    "    pop=Int(floor(sqrt(pops[i])))^2\n",
    "    y=z[i];\n",
    "    statename=allstates[i]\n",
    "    plt[i]=plot(ddays,y,size=(1200,600),label=false)\n",
    "    EpiSim.plotquantilesnk(pop .- (allrs[statename][1,2]+allrs[statename][1,1]),:blue)\n",
    "    EpiSim.plotquantilesnk(pop .- (allrs[statename][2,2]+allrs[statename][2,1]),:green)\n",
    "    EpiSim.plotquantilesnk(pop .- (allrs[statename][3,2]+allrs[statename][3,1]),:purple)\n",
    "    plot!(1:tpdays[statename]+1,y[1:tpdays[statename]+1],lw=4, color=:red,label=false,title=allstates[i])\n",
    "    plot!(tpdays[statename]+1:ndays,y[tpdays[statename]+1:ndays],color=:yellow,lw=4,label=false,xlim=(0, 120), ylim=(0,2*y[end]))\n",
    "end"
   ]
  },
  {
   "cell_type": "code",
   "execution_count": 15,
   "metadata": {
    "scrolled": true
   },
   "outputs": [
    {
     "ename": "UndefRefError",
     "evalue": "UndefRefError: access to undefined reference",
     "output_type": "error",
     "traceback": [
      "UndefRefError: access to undefined reference",
      "",
      "Stacktrace:",
      " [1] getindex(::Array{Any,1}, ::Int64) at ./array.jl:787",
      " [2] top-level scope at In[15]:1"
     ]
    }
   ],
   "source": [
    "plot(plt[1],plt[2],plt[3],plt[4],plt[5],plt[6],plt[7],plt[8],layout=(4,2),size=(1600,1400))"
   ]
  },
  {
   "cell_type": "code",
   "execution_count": 16,
   "metadata": {},
   "outputs": [
    {
     "ename": "BoundsError",
     "evalue": "BoundsError: attempt to access 88-element Array{Float64,1} at index [1:96]",
     "output_type": "error",
     "traceback": [
      "BoundsError: attempt to access 88-element Array{Float64,1} at index [1:96]",
      "",
      "Stacktrace:",
      " [1] throw_boundserror(::Array{Float64,1}, ::Tuple{UnitRange{Int64}}) at ./abstractarray.jl:537",
      " [2] checkbounds at ./abstractarray.jl:502 [inlined]",
      " [3] getindex(::Array{Float64,1}, ::UnitRange{Int64}) at ./array.jl:793",
      " [4] gr_display(::Plots.Subplot{Plots.GRBackend}, ::Measures.Length{:mm,Float64}, ::Measures.Length{:mm,Float64}, ::Array{Float64,1}) at /Users/michael/.julia/packages/Plots/cc8wh/src/backends/gr.jl:1597",
      " [5] gr_display(::Plots.Plot{Plots.GRBackend}, ::String) at /Users/michael/.julia/packages/Plots/cc8wh/src/backends/gr.jl:716",
      " [6] _show(::IOStream, ::MIME{Symbol(\"image/png\")}, ::Plots.Plot{Plots.GRBackend}) at /Users/michael/.julia/packages/Plots/cc8wh/src/backends/gr.jl:1922",
      " [7] show at /Users/michael/.julia/packages/Plots/cc8wh/src/output.jl:216 [inlined]",
      " [8] png(::Plots.Plot{Plots.GRBackend}, ::String) at /Users/michael/.julia/packages/Plots/cc8wh/src/output.jl:8",
      " [9] savefig(::Plots.Plot{Plots.GRBackend}, ::String) at /Users/michael/.julia/packages/Plots/cc8wh/src/output.jl:139",
      " [10] savefig(::String) at /Users/michael/.julia/packages/Plots/cc8wh/src/output.jl:141",
      " [11] top-level scope at In[16]:1"
     ]
    }
   ],
   "source": [
    "savefig(\"AllStates\")"
   ]
  },
  {
   "cell_type": "markdown",
   "metadata": {},
   "source": [
    "# (random bits of) The Rest of the World"
   ]
  },
  {
   "cell_type": "code",
   "execution_count": 17,
   "metadata": {},
   "outputs": [
    {
     "name": "stderr",
     "output_type": "stream",
     "text": [
      "┌ Info: For saving to png with the Plotly backend ORCA has to be installed.\n",
      "└ @ Plots /Users/michael/.julia/packages/Plots/cc8wh/src/backends.jl:363\n"
     ]
    },
    {
     "data": {
      "text/plain": [
       "Plots.PlotlyBackend()"
      ]
     },
     "execution_count": 17,
     "metadata": {},
     "output_type": "execute_result"
    }
   ],
   "source": [
    "plotly()"
   ]
  },
  {
   "cell_type": "code",
   "execution_count": 18,
   "metadata": {},
   "outputs": [
    {
     "data": {
      "text/plain": [
       "7-element Array{Symbol,1}:\n",
       " :allrs\n",
       " :z\n",
       " :totItps\n",
       " :tpdays\n",
       " :allstates\n",
       " :countries\n",
       " :epiparam"
      ]
     },
     "execution_count": 18,
     "metadata": {},
     "output_type": "execute_result"
    }
   ],
   "source": [
    "pops=[7451000 5639000 5518000 5806000 24280000 21540000 60360000 80300000]\n",
    "allstates=[\"Hong Kong\" \"\" \"\" \"\" \"Shanghai\" \"Beijing\" \"\" \"\" ]\n",
    "countries=[\"China\" \"Singapore\" \"Finland\" \"Denmark\" \"China\" \"China\"]\n",
    "@load \"done_ROTW_mostly\""
   ]
  },
  {
   "cell_type": "code",
   "execution_count": 19,
   "metadata": {},
   "outputs": [
    {
     "ename": "BoundsError",
     "evalue": "BoundsError: attempt to access 88-element Array{Int64,1} at index [58:96]",
     "output_type": "error",
     "traceback": [
      "BoundsError: attempt to access 88-element Array{Int64,1} at index [58:96]",
      "",
      "Stacktrace:",
      " [1] throw_boundserror(::Array{Int64,1}, ::Tuple{UnitRange{Int64}}) at ./abstractarray.jl:537",
      " [2] checkbounds at ./abstractarray.jl:502 [inlined]",
      " [3] getindex(::Array{Int64,1}, ::UnitRange{Int64}) at ./array.jl:793",
      " [4] top-level scope at ./In[19]:12"
     ]
    }
   ],
   "source": [
    "usename=[\"Hong Kong\" \"Singapore\" \"Finland\" \"Denmark\" \"Shanghai\" \"Beijing\"]\n",
    "plt=Array{Any,1}(undef,6)\n",
    "for i in 1:length(usename)\n",
    "    pop=Int(floor(sqrt(pops[i])))^2\n",
    "    y=z[i];\n",
    "    statename=allstates[i]\n",
    "    plt[i]=plot(ddays,y,size=(1200,600),label=false)\n",
    "    EpiSim.plotquantilesnk(pop .- (allrs[allstates[i]][1,2]+allrs[allstates[i]][1,1]),:blue)\n",
    "    EpiSim.plotquantilesnk(pop .- (allrs[allstates[i]][2,2]+allrs[allstates[i]][2,1]),:green)\n",
    "    EpiSim.plotquantilesnk(pop .- (allrs[allstates[i]][3,2]+allrs[allstates[i]][3,1]),:purple)\n",
    "    plot!(1:tpdays[allstates[i]]+1,y[1:tpdays[allstates[i]]+1],lw=4, color=:red,label=false,title=usename[i])\n",
    "    plot!(tpdays[allstates[i]]+1:ndays,y[tpdays[allstates[i]]+1:ndays],color=:yellow,lw=4,label=false,xlim=(0, 120), ylim=(0,2*y[end]))\n",
    "end"
   ]
  },
  {
   "cell_type": "code",
   "execution_count": 20,
   "metadata": {},
   "outputs": [
    {
     "ename": "UndefRefError",
     "evalue": "UndefRefError: access to undefined reference",
     "output_type": "error",
     "traceback": [
      "UndefRefError: access to undefined reference",
      "",
      "Stacktrace:",
      " [1] getindex(::Array{Any,1}, ::Int64) at ./array.jl:787",
      " [2] top-level scope at In[20]:1"
     ]
    }
   ],
   "source": [
    "plot(plt[1],plt[2],plt[3],plt[4],plt[5],plt[6],layout=(3,2),size=(1600,1400))"
   ]
  },
  {
   "cell_type": "markdown",
   "metadata": {},
   "source": [
    "## USA"
   ]
  },
  {
   "cell_type": "code",
   "execution_count": 21,
   "metadata": {},
   "outputs": [
    {
     "data": {
      "text/plain": [
       "7-element Array{Symbol,1}:\n",
       " :allrs\n",
       " :z\n",
       " :totItps\n",
       " :tpdays\n",
       " :usstates\n",
       " :uslocale\n",
       " :epiparam"
      ]
     },
     "execution_count": 21,
     "metadata": {},
     "output_type": "execute_result"
    }
   ],
   "source": [
    "cd(\"/Users/michael/work/GitHub/epinets\")\n",
    "@load \"done_US\""
   ]
  },
  {
   "cell_type": "code",
   "execution_count": 22,
   "metadata": {},
   "outputs": [
    {
     "ename": "BoundsError",
     "evalue": "BoundsError: attempt to access 88-element Array{Int64,1} at index [80:96]",
     "output_type": "error",
     "traceback": [
      "BoundsError: attempt to access 88-element Array{Int64,1} at index [80:96]",
      "",
      "Stacktrace:",
      " [1] throw_boundserror(::Array{Int64,1}, ::Tuple{UnitRange{Int64}}) at ./abstractarray.jl:537",
      " [2] checkbounds at ./abstractarray.jl:502 [inlined]",
      " [3] getindex(::Array{Int64,1}, ::UnitRange{Int64}) at ./array.jl:793",
      " [4] top-level scope at ./In[22]:13"
     ]
    }
   ],
   "source": [
    "plt=Array{Any,1}(undef,length(usstates))\n",
    "pops=[8398748 3990000 1749343 5150233 943332 1584064 391006 2716940]\n",
    "for i in 1:length(usstates)\n",
    "#    pop=Int(floor(sqrt(pops[i])))^2\n",
    "    y=z[i];\n",
    "    locale=uslocale[i]\n",
    "    pop = Int(allrs[locale][1,1][1,1])\n",
    "    plt[i]=plot(ddays,y,size=(1200,600),label=false)\n",
    "    EpiSim.plotquantilesnk(pop .- (allrs[locale][1,2]+allrs[locale][1,1]),:blue)\n",
    "    EpiSim.plotquantilesnk(pop .- (allrs[locale][2,2]+allrs[locale][2,1]),:green)\n",
    "    EpiSim.plotquantilesnk(pop .- (allrs[locale][3,2]+allrs[locale][3,1]),:purple)\n",
    "    plot!(1:tpdays[locale]+1,y[1:tpdays[locale]+1],lw=4, color=:red,label=false,title=locale)\n",
    "    plot!(tpdays[locale]+1:ndays,y[tpdays[locale]+1:ndays],color=:yellow,lw=4,label=false,xlim=(0, 120), ylim=(0,2*y[end]))\n",
    "end"
   ]
  },
  {
   "cell_type": "code",
   "execution_count": 23,
   "metadata": {
    "scrolled": true
   },
   "outputs": [
    {
     "ename": "UndefRefError",
     "evalue": "UndefRefError: access to undefined reference",
     "output_type": "error",
     "traceback": [
      "UndefRefError: access to undefined reference",
      "",
      "Stacktrace:",
      " [1] getindex(::Array{Any,1}, ::Int64) at ./array.jl:787",
      " [2] top-level scope at In[23]:1"
     ]
    }
   ],
   "source": [
    "plot(plt[1],plt[2],plt[3],plt[4],plt[5],plt[6],plt[7],plt[8],layout=(4,2),size=(1600,1400))"
   ]
  },
  {
   "cell_type": "markdown",
   "metadata": {},
   "source": [
    "## So what's gone wrong here?\n",
    "\n",
    "Clearly these predictions aren't as \"nice\" as for the Australian data. First observation is that the model is imple and relies on a single change point and the assumption that there is limited cross infection between regions. There is very little evidence that either of these assumptions are remotely reasonable elsewhere, especially in the US. Second, the change-points, switching between exponential growth and linear (controlled) expansion has not been well manaegd. In all cases here it should've been identified much earlier. Using a different criteria to identify the exponential growth will almost certainly (probably) give better results."
   ]
  },
  {
   "cell_type": "code",
   "execution_count": null,
   "metadata": {},
   "outputs": [],
   "source": []
  }
 ],
 "metadata": {
  "kernelspec": {
   "display_name": "Julia 1.4.0",
   "language": "julia",
   "name": "julia-1.4"
  },
  "language_info": {
   "file_extension": ".jl",
   "mimetype": "application/julia",
   "name": "julia",
   "version": "1.4.0"
  }
 },
 "nbformat": 4,
 "nbformat_minor": 4
}
