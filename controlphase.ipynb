{
 "cells": [
  {
   "cell_type": "code",
   "execution_count": 1,
   "metadata": {},
   "outputs": [],
   "source": [
    "cd(\"/home/michael/work/github/epinets\")"
   ]
  },
  {
   "cell_type": "code",
   "execution_count": 2,
   "metadata": {},
   "outputs": [
    {
     "data": {
      "text/plain": [
       "Main.EpiSim"
      ]
     },
     "execution_count": 2,
     "metadata": {},
     "output_type": "execute_result"
    }
   ],
   "source": [
    "include(\"EpiSim.jl\")"
   ]
  },
  {
   "cell_type": "code",
   "execution_count": 3,
   "metadata": {},
   "outputs": [],
   "source": [
    "using CSV\n",
    "using Plots\n",
    "using LightGraphs\n",
    "using JLD2, FileIO\n",
    "using Statistics"
   ]
  },
  {
   "cell_type": "code",
   "execution_count": 4,
   "metadata": {},
   "outputs": [
    {
     "ename": "LoadError",
     "evalue": "IOError: chdir /Users/michael/work/github/COVID-19/csse_covid_19_data/csse_covid_19_time_series: no such file or directory (ENOENT)",
     "output_type": "error",
     "traceback": [
      "IOError: chdir /Users/michael/work/github/COVID-19/csse_covid_19_data/csse_covid_19_time_series: no such file or directory (ENOENT)",
      "",
      "Stacktrace:",
      " [1] uv_error at ./libuv.jl:97 [inlined]",
      " [2] cd(::String) at ./file.jl:84",
      " [3] top-level scope at In[4]:1",
      " [4] include_string(::Function, ::Module, ::String, ::String) at ./loading.jl:1091"
     ]
    }
   ],
   "source": [
    "cd(\"/Users/michael/work/github/COVID-19/csse_covid_19_data/csse_covid_19_time_series\")"
   ]
  },
  {
   "cell_type": "code",
   "execution_count": 5,
   "metadata": {},
   "outputs": [
    {
     "data": {
      "text/plain": [
       "1×8 Array{String,2}:\n",
       " \"Australian Capital Territory\"  …  \"Victoria\"  \"Western Australia\""
      ]
     },
     "execution_count": 5,
     "metadata": {},
     "output_type": "execute_result"
    }
   ],
   "source": [
    "file=\"time_series_covid19_confirmed_global.csv\"\n",
    "allstates=[\"Australian Capital Territory\" \"New South Wales\"  \"Northern Territory\" \"Queensland\" \"South Australia\" \"Tasmania\" \"Victoria\" \"Western Australia\"]"
   ]
  },
  {
   "cell_type": "code",
   "execution_count": 6,
   "metadata": {},
   "outputs": [
    {
     "ename": "LoadError",
     "evalue": "ArgumentError: \"time_series_covid19_confirmed_global.csv\" is not a valid file",
     "output_type": "error",
     "traceback": [
      "ArgumentError: \"time_series_covid19_confirmed_global.csv\" is not a valid file",
      "",
      "Stacktrace:",
      " [1] Header at /home/michael/.julia/packages/CSV/YUbbG/src/header.jl:90 [inlined]",
      " [2] CSV.File(::String; header::Int64, normalizenames::Bool, datarow::Int64, skipto::Nothing, footerskip::Int64, transpose::Bool, comment::Nothing, use_mmap::Nothing, ignoreemptylines::Bool, select::Nothing, drop::Nothing, missingstrings::Array{String,1}, missingstring::String, delim::Nothing, ignorerepeated::Bool, quotechar::Char, openquotechar::Nothing, closequotechar::Nothing, escapechar::Char, dateformat::Nothing, dateformats::Nothing, decimal::UInt8, truestrings::Array{String,1}, falsestrings::Array{String,1}, type::Nothing, types::Nothing, typemap::Dict{Type,Type}, pool::Float64, lazystrings::Bool, strict::Bool, silencewarnings::Bool, debug::Bool, parsingdebug::Bool, kw::Base.Iterators.Pairs{Union{},Union{},Tuple{},NamedTuple{(),Tuple{}}}) at /home/michael/.julia/packages/CSV/YUbbG/src/file.jl:217",
      " [3] CSV.File(::String) at /home/michael/.julia/packages/CSV/YUbbG/src/file.jl:217",
      " [4] getdata(::String, ::String, ::String) at /home/michael/work/github/epinets/EpiSim.jl:360",
      " [5] getdata at /home/michael/work/github/epinets/EpiSim.jl:359 [inlined]",
      " [6] top-level scope at ./In[6]:3",
      " [7] include_string(::Function, ::Module, ::String, ::String) at ./loading.jl:1091"
     ]
    }
   ],
   "source": [
    "z=[]\n",
    "for state in allstates\n",
    "    z=push!(z,EpiSim.getdata(\"Australia\",state))\n",
    "end"
   ]
  },
  {
   "cell_type": "code",
   "execution_count": 7,
   "metadata": {},
   "outputs": [
    {
     "ename": "LoadError",
     "evalue": "ArgumentError: \"time_series_covid19_confirmed_global.csv\" is not a valid file",
     "output_type": "error",
     "traceback": [
      "ArgumentError: \"time_series_covid19_confirmed_global.csv\" is not a valid file",
      "",
      "Stacktrace:",
      " [1] Header at /home/michael/.julia/packages/CSV/YUbbG/src/header.jl:90 [inlined]",
      " [2] CSV.File(::String; header::Int64, normalizenames::Bool, datarow::Int64, skipto::Nothing, footerskip::Int64, transpose::Bool, comment::Nothing, use_mmap::Nothing, ignoreemptylines::Bool, select::Nothing, drop::Nothing, missingstrings::Array{String,1}, missingstring::String, delim::Nothing, ignorerepeated::Bool, quotechar::Char, openquotechar::Nothing, closequotechar::Nothing, escapechar::Char, dateformat::Nothing, dateformats::Nothing, decimal::UInt8, truestrings::Array{String,1}, falsestrings::Array{String,1}, type::Nothing, types::Nothing, typemap::Dict{Type,Type}, pool::Float64, lazystrings::Bool, strict::Bool, silencewarnings::Bool, debug::Bool, parsingdebug::Bool, kw::Base.Iterators.Pairs{Union{},Union{},Tuple{},NamedTuple{(),Tuple{}}}) at /home/michael/.julia/packages/CSV/YUbbG/src/file.jl:217",
      " [3] CSV.File(::String) at /home/michael/.julia/packages/CSV/YUbbG/src/file.jl:217",
      " [4] top-level scope at In[7]:1",
      " [5] include_string(::Function, ::Module, ::String, ::String) at ./loading.jl:1091"
     ]
    }
   ],
   "source": [
    "ddays=CSV.File(file)[1]\n",
    "ddays=propertynames(ddays,4)[5:end]\n",
    "ddays=String.(ddays)\n",
    "ndays=length(ddays)"
   ]
  },
  {
   "cell_type": "code",
   "execution_count": 8,
   "metadata": {},
   "outputs": [
    {
     "data": {
      "text/plain": [
       "1×8 Array{Int64,2}:\n",
       " 426709  8089526  245869  5095100  1751693  534281  6594804  2621680"
      ]
     },
     "execution_count": 8,
     "metadata": {},
     "output_type": "execute_result"
    }
   ],
   "source": [
    "pops=[426709 8089526 245869 5095100 1751693 534281 6594804 2621680]"
   ]
  },
  {
   "cell_type": "code",
   "execution_count": 9,
   "metadata": {},
   "outputs": [
    {
     "data": {
      "text/plain": [
       "5"
      ]
     },
     "execution_count": 9,
     "metadata": {},
     "output_type": "execute_result"
    }
   ],
   "source": [
    "#'reasonable' parameters\n",
    "epiparam=Dict()\n",
    "epiparam[\"p0\"]=0.2 #a guess - tuned to match observed data \n",
    "epiparam[\"p2\"]=1/12 #revised infection rate with distancing measure\n",
    "epiparam[\"q\"]=1/7 #\"up to\" two weeks\n",
    "epiparam[\"r0\"]=1/14 #about two weeks for mild, 3-6 for severe\n",
    "epiparam[\"r2\"]=1/4 #revised removal rate (now due to testing and isolation)\n",
    "epiparam[\"nseeds\"]=5 #probably too many, consider dropping."
   ]
  },
  {
   "cell_type": "code",
   "execution_count": 10,
   "metadata": {},
   "outputs": [
    {
     "ename": "LoadError",
     "evalue": "BoundsError: attempt to access 0-element Array{Any,1} at index [8]",
     "output_type": "error",
     "traceback": [
      "BoundsError: attempt to access 0-element Array{Any,1} at index [8]",
      "",
      "Stacktrace:",
      " [1] getindex(::Array{Any,1}, ::Int64) at ./array.jl:809",
      " [2] top-level scope at In[10]:4",
      " [3] include_string(::Function, ::Module, ::String, ::String) at ./loading.jl:1091"
     ]
    }
   ],
   "source": [
    "i=8\n",
    "epiparam[\"pop\"]=Int(floor(sqrt(pops[i])))^2\n",
    "epiparam[\"gridsize\"]=Int(floor(sqrt(pops[i])))\n",
    "y=z[i];"
   ]
  },
  {
   "cell_type": "code",
   "execution_count": 11,
   "metadata": {},
   "outputs": [
    {
     "ename": "LoadError",
     "evalue": "UndefVarError: ndays not defined",
     "output_type": "error",
     "traceback": [
      "UndefVarError: ndays not defined",
      "",
      "Stacktrace:",
      " [1] top-level scope at In[11]:2",
      " [2] include_string(::Function, ::Module, ::String, ::String) at ./loading.jl:1091"
     ]
    }
   ],
   "source": [
    "ddt(z,zt)=count(z->z>0, z[1:zt])+ count(z->z<0, z[zt+1:end])\n",
    "~,tpday=findmax([ddt(diff(diff(y)),nx) for nx in 1:(ndays-2)])\n",
    "#this is the turning point between exponential growth and decay. totItp total infections at day tpday\n",
    "totItp=y[tpday+1]\n",
    "plot(1:tpday+1,y[1:tpday+1],lw=4,label=\"growth phase\",title=allstates[i])\n",
    "plot!(tpday+1:ndays,y[tpday+1:ndays],lw=4,label=\"plateau\")"
   ]
  },
  {
   "cell_type": "code",
   "execution_count": 12,
   "metadata": {},
   "outputs": [
    {
     "data": {
      "text/plain": [
       "{2621161, 5242322} undirected simple Int64 graph"
      ]
     },
     "execution_count": 12,
     "metadata": {},
     "output_type": "execute_result"
    }
   ],
   "source": [
    "gridsize=epiparam[\"gridsize\"]\n",
    "bamodel=barabasi_albert(gridsize^2, 3, 2)\n",
    "lattice=LightGraphs.grid((gridsize,gridsize),periodic=true)\n",
    "wattstrog95=watts_strogatz(gridsize^2, 4, 0.013)  #s=0.013 => 95% compliance\n",
    "wattstrog90=watts_strogatz(gridsize^2, 4, 0.026)  #s=0.026 => 90% compliance\n",
    "wattstrog80=watts_strogatz(gridsize^2, 4, 0.053)  #s=0.053 => 80% compliance"
   ]
  },
  {
   "cell_type": "code",
   "execution_count": 13,
   "metadata": {},
   "outputs": [
    {
     "ename": "LoadError",
     "evalue": "UndefVarError: tpday not defined",
     "output_type": "error",
     "traceback": [
      "UndefVarError: tpday not defined",
      "",
      "Stacktrace:",
      " [1] top-level scope at In[13]:1",
      " [2] include_string(::Function, ::Module, ::String, ::String) at ./loading.jl:1091"
     ]
    }
   ],
   "source": [
    "St90,Et90,It90,Rt90=EpiSim.episim(bamodel,wattstrog90, epiparam, totItp, tpday+2, 180, 100)"
   ]
  },
  {
   "cell_type": "code",
   "execution_count": 14,
   "metadata": {},
   "outputs": [
    {
     "ename": "LoadError",
     "evalue": "UndefVarError: tpday not defined",
     "output_type": "error",
     "traceback": [
      "UndefVarError: tpday not defined",
      "",
      "Stacktrace:",
      " [1] top-level scope at In[14]:1",
      " [2] include_string(::Function, ::Module, ::String, ::String) at ./loading.jl:1091"
     ]
    }
   ],
   "source": [
    "St95,Et95,It95,Rt95=EpiSim.episim(bamodel,wattstrog95, epiparam, totItp, tpday+2, 180, 100)"
   ]
  },
  {
   "cell_type": "code",
   "execution_count": 15,
   "metadata": {},
   "outputs": [
    {
     "ename": "LoadError",
     "evalue": "UndefVarError: tpday not defined",
     "output_type": "error",
     "traceback": [
      "UndefVarError: tpday not defined",
      "",
      "Stacktrace:",
      " [1] top-level scope at In[15]:1",
      " [2] include_string(::Function, ::Module, ::String, ::String) at ./loading.jl:1091"
     ]
    }
   ],
   "source": [
    "St80,Et80,It80,Rt80=EpiSim.episim(bamodel,wattstrog80, epiparam, totItp, tpday+2, 180, 100)"
   ]
  },
  {
   "cell_type": "code",
   "execution_count": 16,
   "metadata": {},
   "outputs": [],
   "source": [
    "using Dates "
   ]
  },
  {
   "cell_type": "code",
   "execution_count": 17,
   "metadata": {},
   "outputs": [
    {
     "data": {
      "text/plain": [
       "dateformat\"d u\""
      ]
     },
     "execution_count": 17,
     "metadata": {},
     "output_type": "execute_result"
    }
   ],
   "source": [
    "df=DateFormat(\"d u\")"
   ]
  },
  {
   "cell_type": "code",
   "execution_count": 18,
   "metadata": {},
   "outputs": [
    {
     "ename": "LoadError",
     "evalue": "UndefVarError: ddays not defined",
     "output_type": "error",
     "traceback": [
      "UndefVarError: ddays not defined",
      "",
      "Stacktrace:",
      " [1] top-level scope at In[18]:1",
      " [2] include_string(::Function, ::Module, ::String, ::String) at ./loading.jl:1091"
     ]
    }
   ],
   "source": [
    "datadates=Date.(ddays,\"m/d/y\")"
   ]
  },
  {
   "cell_type": "code",
   "execution_count": 19,
   "metadata": {},
   "outputs": [
    {
     "name": "stderr",
     "output_type": "stream",
     "text": [
      "┌ Info: For saving to png with the Plotly backend PlotlyBase has to be installed.\n",
      "└ @ Plots /home/michael/.julia/packages/Plots/6EMd6/src/backends.jl:372\n"
     ]
    },
    {
     "ename": "LoadError",
     "evalue": "UndefVarError: datadates not defined",
     "output_type": "error",
     "traceback": [
      "UndefVarError: datadates not defined",
      "",
      "Stacktrace:",
      " [1] top-level scope at In[19]:2",
      " [2] include_string(::Function, ::Module, ::String, ::String) at ./loading.jl:1091"
     ]
    }
   ],
   "source": [
    "plotly()\n",
    "plot(datadates,y)"
   ]
  },
  {
   "cell_type": "code",
   "execution_count": 20,
   "metadata": {},
   "outputs": [
    {
     "ename": "LoadError",
     "evalue": "UndefVarError: y not defined",
     "output_type": "error",
     "traceback": [
      "UndefVarError: y not defined",
      "",
      "Stacktrace:",
      " [1] top-level scope at In[20]:1",
      " [2] include_string(::Function, ::Module, ::String, ::String) at ./loading.jl:1091"
     ]
    }
   ],
   "source": [
    "plot(y)"
   ]
  },
  {
   "cell_type": "code",
   "execution_count": 21,
   "metadata": {},
   "outputs": [
    {
     "data": {
      "text/plain": [
       "epipred (generic function with 1 method)"
      ]
     },
     "execution_count": 21,
     "metadata": {},
     "output_type": "execute_result"
    }
   ],
   "source": [
    "function epipred(th,St,Et,It,Rt)\n",
    "    #find the timestep of the threshold\n",
    "    (lenp,nsims)=size(St)\n",
    "    tstep=Array{Int,1}(undef,nsims)\n",
    "    nbad=0\n",
    "    for i in 1:nsims\n",
    "        j=1\n",
    "        while It[j,i]+Rt[j,i]<th\n",
    "            j += 1\n",
    "            if j>lenp\n",
    "                j=0\n",
    "                nbad += 1\n",
    "                break\n",
    "            end\n",
    "        end\n",
    "        tstep[i]=j\n",
    "    end\n",
    "    ndays=lenp-maximum(tstep)\n",
    "    Sp=Array{UInt64,2}(undef,ndays,nsims-nbad)\n",
    "    Ep=Array{UInt64,2}(undef,ndays,nsims-nbad)\n",
    "    Ip=Array{UInt64,2}(undef,ndays,nsims-nbad)\n",
    "    Rp=Array{UInt64,2}(undef,ndays,nsims-nbad)\n",
    "    i=1\n",
    "    ii=1\n",
    "    while i<nsims-nbad+1\n",
    "        if tstep[ii]>0\n",
    "            Sp[:,i] = St[tstep[ii]:(tstep[ii]+ndays-1) ,i]\n",
    "            Ep[:,i] = Et[tstep[ii]:(tstep[ii]+ndays-1) ,i]\n",
    "            Ip[:,i] = It[tstep[ii]:(tstep[ii]+ndays-1) ,i]\n",
    "            Rp[:,i] = Rt[tstep[ii]:(tstep[ii]+ndays-1) ,i]\n",
    "            i += 1\n",
    "            ii += 1\n",
    "        else\n",
    "            ii += 1\n",
    "        end\n",
    "    end\n",
    "    return (Sp,Ep,Ip,Rp) \n",
    "end\n"
   ]
  },
  {
   "cell_type": "code",
   "execution_count": 22,
   "metadata": {},
   "outputs": [
    {
     "ename": "LoadError",
     "evalue": "UndefVarError: St80 not defined",
     "output_type": "error",
     "traceback": [
      "UndefVarError: St80 not defined",
      "",
      "Stacktrace:",
      " [1] top-level scope at In[22]:1",
      " [2] include_string(::Function, ::Module, ::String, ::String) at ./loading.jl:1091"
     ]
    }
   ],
   "source": [
    "(Sp,Ep,Ip,Rp) = epipred(400, St80,Et80,It80,Rt80)"
   ]
  },
  {
   "cell_type": "code",
   "execution_count": 23,
   "metadata": {},
   "outputs": [
    {
     "data": {
      "text/plain": [
       "plotqnt (generic function with 2 methods)"
      ]
     },
     "execution_count": 23,
     "metadata": {},
     "output_type": "execute_result"
    }
   ],
   "source": [
    "    function plotqnt(x,y,col,labl,qnt::Float64=0.45)\n",
    "        nt,ny=size(y)\n",
    "        low=Array{Float64,1}(undef,nt)\n",
    "        mid=Array{Float64,1}(undef,nt)\n",
    "        hig=Array{Float64,1}(undef,nt)\n",
    "        for i in 1:nt\n",
    "            low[i],mid[i],hig[i] = quantile(y[i,:],[0.5-qnt, 0.5, 0.5+qnt])\n",
    "        end\n",
    "        plot!(x,mid,grid=false,ribbon=(mid-low,hig-mid),fillalpha=.25,lw=3, seriescolor=col, label=labl)\n",
    "    end"
   ]
  },
  {
   "cell_type": "code",
   "execution_count": 24,
   "metadata": {},
   "outputs": [
    {
     "ename": "LoadError",
     "evalue": "UndefVarError: Ip not defined",
     "output_type": "error",
     "traceback": [
      "UndefVarError: Ip not defined",
      "",
      "Stacktrace:",
      " [1] top-level scope at In[24]:1",
      " [2] include_string(::Function, ::Module, ::String, ::String) at ./loading.jl:1091"
     ]
    }
   ],
   "source": [
    "lnp,~=size(Ip)\n",
    "plot(y)\n",
    "plotqnt(73:72+lnp,Ip+Rp,:blue,\"90% Compliance\")"
   ]
  },
  {
   "cell_type": "code",
   "execution_count": 25,
   "metadata": {},
   "outputs": [
    {
     "ename": "LoadError",
     "evalue": "UndefVarError: y not defined",
     "output_type": "error",
     "traceback": [
      "UndefVarError: y not defined",
      "",
      "Stacktrace:",
      " [1] top-level scope at In[25]:2",
      " [2] include_string(::Function, ::Module, ::String, ::String) at ./loading.jl:1091"
     ]
    }
   ],
   "source": [
    "th=355\n",
    "tp=count(x->x<th,y)"
   ]
  },
  {
   "cell_type": "code",
   "execution_count": 26,
   "metadata": {},
   "outputs": [
    {
     "ename": "LoadError",
     "evalue": "UndefVarError: ndays not defined",
     "output_type": "error",
     "traceback": [
      "UndefVarError: ndays not defined",
      "",
      "Stacktrace:",
      " [1] top-level scope at In[26]:2",
      " [2] include_string(::Function, ::Module, ::String, ::String) at ./loading.jl:1091"
     ]
    }
   ],
   "source": [
    "ddt(z,zt)=count(z->z>0, z[1:zt])+ count(z->z<0, z[zt+1:end])\n",
    "~,tpday=findmax([ddt(diff(diff(y)),nx) for nx in 1:(ndays-2)])\n",
    "#this is the turning point between exponential growth and decay. totItp total infections at day tpday\n",
    "totItp=y[tpday+1]\n",
    "plot(ddays[1:tpday+1],y[1:tpday+1],lw=4,label=\"growth phase\",title=allstates[i],size=(1200,800))\n",
    "plot!(ddays[tpday+1:ndays],y[tpday+1:ndays],lw=4,label=\"plateau\")\n",
    "(Sp,Ep,Ip,Rp) = epipred(th, St80,Et80,It80,Rt80)\n",
    "lnp,~=size(Ip)\n",
    "plotqnt((tp+1):tp+lnp,Ip+Rp,:blue,\"80% Compliance\")\n",
    "(Sp,Ep,Ip,Rp) = epipred(th, St90,Et90,It90,Rt90)\n",
    "lnp,~=size(Ip)\n",
    "plotqnt((tp+1):tp+lnp,Ip+Rp,:green,\"90% Compliance\")\n",
    "(Sp,Ep,Ip,Rp) = epipred(th, St95,Et95,It95,Rt95)\n",
    "lnp,~=size(Ip)\n",
    "plotqnt((tp+1):tp+lnp,Ip+Rp,:red,\"95% Compliance\")"
   ]
  },
  {
   "cell_type": "code",
   "execution_count": 27,
   "metadata": {},
   "outputs": [
    {
     "data": {
      "text/plain": [
       "{2490117, 262088} undirected simple Int64 graph"
      ]
     },
     "execution_count": 27,
     "metadata": {},
     "output_type": "execute_result"
    }
   ],
   "source": [
    "iso=0.95\n",
    "pop=epiparam[\"pop\"]\n",
    "grd=Int(floor(sqrt(Int(floor(pop*(1-iso))))))\n",
    "isosize=pop-grd^2\n",
    "sg=SimpleGraph(isosize)\n",
    "ws=watts_strogatz(grd^2, 4, 0.013)\n",
    "isograph95=union(sg,ws)"
   ]
  },
  {
   "cell_type": "code",
   "execution_count": 28,
   "metadata": {},
   "outputs": [
    {
     "data": {
      "text/plain": [
       "362"
      ]
     },
     "execution_count": 28,
     "metadata": {},
     "output_type": "execute_result"
    }
   ],
   "source": [
    "Int(floor(sqrt(Int(floor(pop*(1-iso))))))"
   ]
  },
  {
   "cell_type": "code",
   "execution_count": 29,
   "metadata": {},
   "outputs": [
    {
     "ename": "LoadError",
     "evalue": "UndefVarError: tpday not defined",
     "output_type": "error",
     "traceback": [
      "UndefVarError: tpday not defined",
      "",
      "Stacktrace:",
      " [1] top-level scope at In[29]:1",
      " [2] include_string(::Function, ::Module, ::String, ::String) at ./loading.jl:1091"
     ]
    }
   ],
   "source": [
    "St9x,Et9x,It9x,Rt9x=EpiSim.episim3(bamodel,wattstrog95, isograph95, epiparam, totItp, tpday+2, 1, 180, 100)"
   ]
  },
  {
   "cell_type": "code",
   "execution_count": 30,
   "metadata": {},
   "outputs": [
    {
     "data": {
      "text/plain": [
       "{2096985, 1048352} undirected simple Int64 graph"
      ]
     },
     "execution_count": 30,
     "metadata": {},
     "output_type": "execute_result"
    }
   ],
   "source": [
    "iso=0.80\n",
    "pop=epiparam[\"pop\"]\n",
    "grd=Int(floor(sqrt(Int(floor(pop*(1-iso))))))\n",
    "isosize=pop-grd^2\n",
    "sg=SimpleGraph(isosize)\n",
    "ws=watts_strogatz(grd^2, 4, 0.013)\n",
    "isograph80=union(sg,ws)"
   ]
  },
  {
   "cell_type": "code",
   "execution_count": 31,
   "metadata": {},
   "outputs": [
    {
     "data": {
      "text/plain": [
       "{2360040, 522242} undirected simple Int64 graph"
      ]
     },
     "execution_count": 31,
     "metadata": {},
     "output_type": "execute_result"
    }
   ],
   "source": [
    "iso=0.90\n",
    "pop=epiparam[\"pop\"]\n",
    "grd=Int(floor(sqrt(Int(floor(pop*(1-iso))))))\n",
    "isosize=pop-grd^2\n",
    "sg=SimpleGraph(isosize)\n",
    "ws=watts_strogatz(grd^2, 4, 0.013)\n",
    "isograph90=union(sg,ws)"
   ]
  },
  {
   "cell_type": "code",
   "execution_count": 32,
   "metadata": {},
   "outputs": [
    {
     "ename": "LoadError",
     "evalue": "UndefVarError: tpday not defined",
     "output_type": "error",
     "traceback": [
      "UndefVarError: tpday not defined",
      "",
      "Stacktrace:",
      " [1] top-level scope at In[32]:1",
      " [2] include_string(::Function, ::Module, ::String, ::String) at ./loading.jl:1091"
     ]
    }
   ],
   "source": [
    "St8,Et8,It8,Rt8=EpiSim.episim(bamodel,isograph80, epiparam, totItp, tpday+2, 180, 100)\n",
    "St9,Et9,It9,Rt9=EpiSim.episim(bamodel,isograph90, epiparam, totItp, tpday+2, 180, 100)"
   ]
  },
  {
   "cell_type": "code",
   "execution_count": 33,
   "metadata": {},
   "outputs": [
    {
     "ename": "LoadError",
     "evalue": "UndefVarError: ndays not defined",
     "output_type": "error",
     "traceback": [
      "UndefVarError: ndays not defined",
      "",
      "Stacktrace:",
      " [1] top-level scope at In[33]:2",
      " [2] include_string(::Function, ::Module, ::String, ::String) at ./loading.jl:1091"
     ]
    }
   ],
   "source": [
    "ddt(z,zt)=count(z->z>0, z[1:zt])+ count(z->z<0, z[zt+1:end])\n",
    "~,tpday=findmax([ddt(diff(diff(y)),nx) for nx in 1:(ndays-2)])\n",
    "#this is the turning point between exponential growth and decay. totItp total infections at day tpday\n",
    "totItp=y[tpday+1]\n",
    "plot(ddays[1:tpday+1],y[1:tpday+1],lw=4,label=\"growth phase\",title=\"Perth, Western Australia\",size=(1800,1200))\n",
    "plot!(ddays[tpday+1:ndays],y[tpday+1:ndays],lw=4,seriescolor=:black,label=\"plateau\")\n",
    "(Sp,Ep,Ip,Rp) = epipred(th, St80,Et80,It80,Rt80)\n",
    "lnp,~=size(Ip)\n",
    "plotqnt((tp+1):tp+lnp,Ip+Rp,:red,\"80% distancing 21/3\")\n",
    "(Sp,Ep,Ip,Rp) = epipred(th, St8,Et8,It8,Rt8)\n",
    "lnp,~=size(Ip)\n",
    "plotqnt((tp+1):tp+lnp,Ip+Rp,:green,\"80% isolating 30/3\")\n",
    "(Sp,Ep,Ip,Rp) = epipred(th, St90,Et90,It90,Rt90)\n",
    "lnp,~=size(Ip)\n",
    "plotqnt((tp+1):tp+lnp,Ip+Rp,:orange,\"90% distancing\")\n",
    "#(Sp,Ep,Ip,Rp) = epipred(th, St9,Et9,It9,Rt9)\n",
    "#lnp,~=size(Ip)\n",
    "#plotqnt((tp+1):tp+lnp,Ip+Rp,:blue,\"90% isolating 23/3\")\n",
    "#(Sp,Ep,Ip,Rp) = epipred(th, St9x,Et9x,It9x,Rt9x)\n",
    "#lnp,~=size(Ip)\n",
    "#plotqnt((tp+1):tp+lnp,Ip+Rp,:yellow,\"95% isolating 21/3\")\n",
    "plot!(ddays[tpday+1:ndays],y[tpday+1:ndays],lw=4,seriescolor=:black,label=false,xlimit=(0,150),ylimit=(0,3000))\n",
    "\n"
   ]
  },
  {
   "cell_type": "code",
   "execution_count": 34,
   "metadata": {},
   "outputs": [
    {
     "ename": "LoadError",
     "evalue": "IOError: chdir /Users/michael/work/github/epinets: no such file or directory (ENOENT)",
     "output_type": "error",
     "traceback": [
      "IOError: chdir /Users/michael/work/github/epinets: no such file or directory (ENOENT)",
      "",
      "Stacktrace:",
      " [1] uv_error at ./libuv.jl:97 [inlined]",
      " [2] cd(::String) at ./file.jl:84",
      " [3] top-level scope at In[34]:1",
      " [4] include_string(::Function, ::Module, ::String, ::String) at ./loading.jl:1091"
     ]
    }
   ],
   "source": [
    "cd(\"/Users/michael/work/github/epinets\")"
   ]
  },
  {
   "cell_type": "code",
   "execution_count": null,
   "metadata": {},
   "outputs": [],
   "source": []
  }
 ],
 "metadata": {
  "@webio": {
   "lastCommId": null,
   "lastKernelId": null
  },
  "kernelspec": {
   "display_name": "Julia 1.4.0",
   "language": "julia",
   "name": "julia-1.4"
  },
  "language_info": {
   "file_extension": ".jl",
   "mimetype": "application/julia",
   "name": "julia",
   "version": "1.4.0"
  }
 },
 "nbformat": 4,
 "nbformat_minor": 4
}
