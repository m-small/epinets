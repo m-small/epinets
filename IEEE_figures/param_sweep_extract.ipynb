{
 "cells": [
  {
   "cell_type": "code",
   "execution_count": 1,
   "metadata": {},
   "outputs": [],
   "source": [
    "using LightGraphs\n",
    "using GraphPlot\n",
    "using ProgressBars\n",
    "using Statistics\n",
    "using LinearAlgebra"
   ]
  },
  {
   "cell_type": "code",
   "execution_count": 2,
   "metadata": {},
   "outputs": [],
   "source": [
    "using JLD2, FileIO"
   ]
  },
  {
   "cell_type": "code",
   "execution_count": 3,
   "metadata": {},
   "outputs": [],
   "source": [
    "cd(\"/Users/michael/work/julia\")"
   ]
  },
  {
   "cell_type": "code",
   "execution_count": 4,
   "metadata": {},
   "outputs": [
    {
     "ename": "SystemError",
     "evalue": "SystemError: opening file \"parameters_swept2020_th300\": No such file or directory",
     "output_type": "error",
     "traceback": [
      "SystemError: opening file \"parameters_swept2020_th300\": No such file or directory",
      "",
      "Stacktrace:",
      " [1] systemerror(::String, ::Int32; extrainfo::Nothing) at ./error.jl:168",
      " [2] #systemerror#50 at ./error.jl:167 [inlined]",
      " [3] systemerror at ./error.jl:167 [inlined]",
      " [4] open(::String; read::Nothing, write::Nothing, create::Nothing, truncate::Nothing, append::Nothing) at ./iostream.jl:254",
      " [5] open at ./iostream.jl:246 [inlined]",
      " [6] load(::Formatted; options::Base.Iterators.Pairs{Union{},Union{},Tuple{},NamedTuple{(),Tuple{}}}) at /Users/michael/.julia/packages/FileIO/Glbhe/src/loadsave.jl:170",
      " [7] load at /Users/michael/.julia/packages/FileIO/Glbhe/src/loadsave.jl:169 [inlined]",
      " [8] #load#13 at /Users/michael/.julia/packages/FileIO/Glbhe/src/loadsave.jl:118 [inlined]",
      " [9] load(::String) at /Users/michael/.julia/packages/FileIO/Glbhe/src/loadsave.jl:118",
      " [10] top-level scope at In[4]:1"
     ]
    }
   ],
   "source": [
    "loaded=load(\"parameters_swept2020_th300\")"
   ]
  },
  {
   "cell_type": "code",
   "execution_count": 5,
   "metadata": {},
   "outputs": [
    {
     "ename": "UndefVarError",
     "evalue": "UndefVarError: loaded not defined",
     "output_type": "error",
     "traceback": [
      "UndefVarError: loaded not defined",
      "",
      "Stacktrace:",
      " [1] top-level scope at In[5]:1"
     ]
    }
   ],
   "source": [
    "loaded[\"r50\"]"
   ]
  },
  {
   "cell_type": "code",
   "execution_count": 6,
   "metadata": {},
   "outputs": [
    {
     "ename": "UndefVarError",
     "evalue": "UndefVarError: loaded not defined",
     "output_type": "error",
     "traceback": [
      "UndefVarError: loaded not defined",
      "",
      "Stacktrace:",
      " [1] top-level scope at In[6]:1"
     ]
    }
   ],
   "source": [
    "C=loaded[\"C\"]\n",
    "swaps=loaded[\"swaps\"]\n",
    "p2s=loaded[\"p2s\"]\n",
    "r2s=loaded[\"r2s\"]\n",
    "mti=loaded[\"mti\"]\n",
    "mmi=loaded[\"mmi\"]\n",
    "r50=loaded[\"r50\"]"
   ]
  },
  {
   "cell_type": "code",
   "execution_count": 7,
   "metadata": {},
   "outputs": [
    {
     "ename": "UndefVarError",
     "evalue": "UndefVarError: C not defined",
     "output_type": "error",
     "traceback": [
      "UndefVarError: C not defined",
      "",
      "Stacktrace:",
      " [1] (::var\"#3#4\")(::JLD2.JLDFile{JLD2.MmapIO}) at /Users/michael/.julia/packages/JLD2/hB4ya/src/loadsave.jl:68",
      " [2] jldopen(::var\"#3#4\", ::String, ::Vararg{String,N} where N; kws::Base.Iterators.Pairs{Union{},Union{},Tuple{},NamedTuple{(),Tuple{}}}) at /Users/michael/.julia/packages/JLD2/hB4ya/src/loadsave.jl:4",
      " [3] jldopen(::Function, ::String, ::String) at /Users/michael/.julia/packages/JLD2/hB4ya/src/loadsave.jl:2",
      " [4] top-level scope at /Users/michael/.julia/packages/JLD2/hB4ya/src/loadsave.jl:66",
      " [5] top-level scope at In[7]:1"
     ]
    }
   ],
   "source": [
    "@save \"parameters_th300\" C swaps p2s r2s mti mmi r50"
   ]
  },
  {
   "cell_type": "code",
   "execution_count": null,
   "metadata": {},
   "outputs": [],
   "source": []
  }
 ],
 "metadata": {
  "kernelspec": {
   "display_name": "Julia 1.4.0",
   "language": "julia",
   "name": "julia-1.4"
  },
  "language_info": {
   "file_extension": ".jl",
   "mimetype": "application/julia",
   "name": "julia",
   "version": "1.4.0"
  }
 },
 "nbformat": 4,
 "nbformat_minor": 4
}
