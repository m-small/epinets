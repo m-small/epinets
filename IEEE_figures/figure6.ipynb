{
 "cells": [
  {
   "cell_type": "markdown",
   "metadata": {},
   "source": [
    "# \"Road to recovery\"\n",
    "\n",
    "Simulation of various control measures under the asumption of remaining exposed (infected but not infectious) within the community.Arbitrayr epidemic parameters are presumed and then model with different network structures which accurately reflect different levels of \"work-from-home\", restrictions on gatherings, and/or COVIDSafe adoption - *under the assumption of those arbitrary choces of epidemic parameters*.\n",
    "\n",
    "First, load some libraries...."
   ]
  },
  {
   "cell_type": "code",
   "execution_count": 1,
   "metadata": {},
   "outputs": [],
   "source": [
    "cd(\"/Users/michael/work/GitHub/epinets\")"
   ]
  },
  {
   "cell_type": "code",
   "execution_count": 2,
   "metadata": {},
   "outputs": [
    {
     "data": {
      "text/plain": [
       "Main.EpiSim"
      ]
     },
     "execution_count": 2,
     "metadata": {},
     "output_type": "execute_result"
    }
   ],
   "source": [
    "include(\"EpiSim.jl\")"
   ]
  },
  {
   "cell_type": "code",
   "execution_count": 3,
   "metadata": {},
   "outputs": [],
   "source": [
    "using CSV\n",
    "using Plots\n",
    "using LightGraphs\n",
    "using JLD2, FileIO\n",
    "using Statistics"
   ]
  },
  {
   "cell_type": "markdown",
   "metadata": {},
   "source": [
    "Population of WA"
   ]
  },
  {
   "cell_type": "code",
   "execution_count": 4,
   "metadata": {},
   "outputs": [
    {
     "data": {
      "text/plain": [
       "2621680"
      ]
     },
     "execution_count": 4,
     "metadata": {},
     "output_type": "execute_result"
    }
   ],
   "source": [
    "pops=[426709 8089526 245869 5095100 1751693 534281 6594804 2621680]\n",
    "pop=pops[8]"
   ]
  },
  {
   "cell_type": "markdown",
   "metadata": {},
   "source": [
    "## Parameter guesstimates. \n",
    "\n",
    "Note, unlike previous simulations we only care about one choice of each parameter - there is no changepoint here."
   ]
  },
  {
   "cell_type": "code",
   "execution_count": 5,
   "metadata": {},
   "outputs": [
    {
     "data": {
      "text/plain": [
       "1619"
      ]
     },
     "execution_count": 5,
     "metadata": {},
     "output_type": "execute_result"
    }
   ],
   "source": [
    "#'reasonable' parameters\n",
    "epiparam=Dict()\n",
    "epiparam[\"p0\"]=1/10 #a guess - tuned to match observed data \n",
    "epiparam[\"q\"]=1/8 #\"up to\" two weeks\n",
    "epiparam[\"r0\"]=1/4 #about two weeks for mild, 3-6 for severe\n",
    "epiparam[\"nseeds\"]=5 #probably too many, consider dropping.\n",
    "#parameters don't change across transition point - assume about 5 undiagnosed case \n",
    "#and control the covidsafe uptake via network structure\n",
    "i=8\n",
    "epiparam[\"pop\"]=Int(floor(sqrt(pops[i])))^2\n",
    "epiparam[\"gridsize\"]=Int(floor(sqrt(pops[i])))"
   ]
  },
  {
   "cell_type": "markdown",
   "metadata": {},
   "source": [
    "## Build sample contact networks\n",
    "\n",
    "\n",
    "Build contact networks with no restrictions and mass gatherings (bamodel), purely local (lattice), some level of work-from-home (wattsrog), or random mixing but no mass gatherings (randomgraph)"
   ]
  },
  {
   "cell_type": "code",
   "execution_count": 6,
   "metadata": {},
   "outputs": [
    {
     "data": {
      "text/plain": [
       "{2621161, 5242322} undirected simple Int64 graph"
      ]
     },
     "execution_count": 6,
     "metadata": {},
     "output_type": "execute_result"
    }
   ],
   "source": [
    "gridsize=epiparam[\"gridsize\"]\n",
    "bamodel=barabasi_albert(gridsize^2, 3, 2)\n",
    "lattice=LightGraphs.grid((gridsize,gridsize),periodic=true)\n",
    "#\"social distancing\"\n",
    "wattstrog95=watts_strogatz(gridsize^2, 4, 0.013)  #s=0.013 => 95% compliance\n",
    "wattstrog90=watts_strogatz(gridsize^2, 4, 0.026)  #s=0.026 => 90% compliance\n",
    "wattstrog80=watts_strogatz(gridsize^2, 4, 0.053)  #s=0.053 => 80% compliance\n",
    "wattstrog60=watts_strogatz(gridsize^2, 4, 0.120)  #s=0.120 => 60% compliance\n",
    "wattstrog40=watts_strogatz(gridsize^2, 4, 0.205)  #s=0.205 => 40% compliance\n",
    "wattstrog20=watts_strogatz(gridsize^2, 4, 0.332)  #s=0.332 => 20% compliance\n",
    "randomgraph=watts_strogatz(gridsize^2, 4, 1)  #0% compliance"
   ]
  },
  {
   "cell_type": "markdown",
   "metadata": {},
   "source": [
    "To simulate the effect of COVIDSafe, we remove links corresponding to the contacts that would be traced with the app. That is, if k is the fraction with the app, then we deletec k^2 edges from our graph."
   ]
  },
  {
   "cell_type": "code",
   "execution_count": 7,
   "metadata": {},
   "outputs": [],
   "source": [
    "#\"covidsafe\" at 40%\n",
    "covidsafe=0.4\n",
    "iso=covidsafe^2 #covidsafe implies removing iso fraction of all edges of graph\n",
    "covidsafe40=deepcopy(randomgraph) \n",
    "for edg in edges(covidsafe40)\n",
    "    if rand(Float64) .< iso\n",
    "        rem_edge!(covidsafe40,edg)\n",
    "    end\n",
    "end\n",
    "#there are two parameters to play with here - the underlying model (here bamodel, but it could be an ER graph, or a truncated\n",
    "#scale free network, or a lattice - wattsrog - with a certain fraction of remote links) The second parameter is the level of covidsafe adoption\n",
    "# of course the original transmission parameters could be changed too...."
   ]
  },
  {
   "cell_type": "code",
   "execution_count": 8,
   "metadata": {},
   "outputs": [],
   "source": [
    "#\"covidsafe\" at 60%\n",
    "covidsafe=0.6\n",
    "iso=covidsafe^2 #covidsafe implies removing iso fraction of all edges of graph\n",
    "covidsafe60=deepcopy(wattstrog40) \n",
    "for edg in edges(covidsafe60)\n",
    "    if rand(Float64) .< iso\n",
    "        rem_edge!(covidsafe60,edg)\n",
    "    end\n",
    "end\n",
    "#40% work from home (wattstrog40 plus 60% COVIDSafe)"
   ]
  },
  {
   "cell_type": "code",
   "execution_count": 9,
   "metadata": {},
   "outputs": [],
   "source": [
    "#\"covidsafe\" at 60%\n",
    "covidsafe=0.5\n",
    "iso=covidsafe^2 #covidsafe implies removing iso fraction of all edges of graph\n",
    "safe50home=deepcopy(wattstrog40) \n",
    "for edg in edges(safe50home)\n",
    "    if rand(Float64) .< iso\n",
    "        rem_edge!(safe50home,edg)\n",
    "    end\n",
    "end\n",
    "#40% work from home (wattstrog40 plus 50% COVIDSafe)"
   ]
  },
  {
   "cell_type": "code",
   "execution_count": 10,
   "metadata": {},
   "outputs": [],
   "source": [
    "#\"covidsafe\" at 80%\n",
    "covidsafe=0.8\n",
    "iso=covidsafe^2 #covidsafe implies removing iso fraction of all edges of graph\n",
    "covidsafe80=deepcopy(bamodel) \n",
    "for edg in edges(covidsafe80)\n",
    "    if rand(Float64) .< iso\n",
    "        rem_edge!(covidsafe80,edg)\n",
    "    end\n",
    "end\n",
    "#40% work from home (wattstrog40 plus 60% COVIDSafe)"
   ]
  },
  {
   "cell_type": "code",
   "execution_count": 11,
   "metadata": {},
   "outputs": [],
   "source": [
    "#\"covidsafe\" at 50% + footy, 50 people or no gatherings\n",
    "covidsafe=0.5\n",
    "iso=covidsafe^2 #covidsafe implies removing iso fraction of all edges of graph\n",
    "safe50footy=deepcopy(bamodel) \n",
    "for edg in edges(safe50footy)\n",
    "    if rand(Float64) .< iso\n",
    "        rem_edge!(safe50footy,edg)\n",
    "    end\n",
    "end\n",
    "safe50nmass=deepcopy(randomgraph) \n",
    "for edg in edges(safe50nmass)\n",
    "    if rand(Float64) .< iso\n",
    "        rem_edge!(safe50nmass,edg)\n",
    "    end\n",
    "end"
   ]
  },
  {
   "cell_type": "markdown",
   "metadata": {},
   "source": [
    "To simulate restrictions on mass gatherings, we take the BA model and delete edges from high degree nodes"
   ]
  },
  {
   "cell_type": "code",
   "execution_count": 12,
   "metadata": {},
   "outputs": [],
   "source": [
    "#No more than 50 people\n",
    "gather=50\n",
    "gathering50=deepcopy(bamodel)\n",
    "for nds in vertices(gathering50)\n",
    "    neigh=neighbors(gathering50,nds)\n",
    "    while length(neigh)>gather\n",
    "        rem_edge!(gathering50,nds,rand(neigh))\n",
    "        neigh=neighbors(gathering50,nds) \n",
    "    end\n",
    "end"
   ]
  },
  {
   "cell_type": "code",
   "execution_count": 13,
   "metadata": {},
   "outputs": [
    {
     "data": {
      "text/plain": [
       "{2621161, 3896761} undirected simple Int64 graph"
      ]
     },
     "execution_count": 13,
     "metadata": {},
     "output_type": "execute_result"
    }
   ],
   "source": [
    "#combined: \"covidsafe\" at 50% - and no more than 50 people.\n",
    "covidsafe=0.5\n",
    "iso=covidsafe^2 #covidsafe implies removing iso fraction of all edges of graph\n",
    "covidsafe50=deepcopy(gathering50) \n",
    "for edg in edges(covidsafe50)\n",
    "    if rand(Float64) .< iso\n",
    "        rem_edge!(covidsafe50,edg)\n",
    "    end\n",
    "end\n",
    "safe50no50=deepcopy(covidsafe50)"
   ]
  },
  {
   "cell_type": "markdown",
   "metadata": {},
   "source": [
    "## Simulations\n",
    "\n",
    "Now we run a bunch of simualtions with these presumed control parameters and the network contact graphs generated above"
   ]
  },
  {
   "cell_type": "code",
   "execution_count": null,
   "metadata": {},
   "outputs": [
    {
     "name": "stdout",
     "output_type": "stream",
     "text": [
      "100.0%┣████████████████████████████████████████┫ 100/100 [35:02<00:00, 0.0 it/s]\n",
      "100.0%┣████████████████████████████████████████┫ 100/100 [18:37<00:00, 0.1 it/s]\n",
      "100.0%┣████████████████████████████████████████┫ 100/100 [43:25<00:00, 0.0 it/s]\n",
      "100.0%┣████████████████████████████████████████┫ 100/100 [20:47<00:00, 0.1 it/s]\n",
      "100.0%┣████████████████████████████████████████┫ 100/100 [29:13<00:00, 0.1 it/s]\n",
      "72.0%┣██████████████████████████████▎           ┫ 72/100 [13:15<05:14, 0.1 it/s]"
     ]
    }
   ],
   "source": [
    "ndays=150#120 days, 100 simulations\n",
    "nsims=100\n",
    "St0,Et0,It0,Rt0=EpiSim.episim(bamodel, epiparam, ndays, nsims)   #no-limits - back to ther footy\n",
    "St1,Et1,It1,Rt1=EpiSim.episim(covidsafe80, epiparam, ndays, nsims) #COVIDSafe at 80%, no other restrictions\n",
    "St2,Et2,It2,Rt2=EpiSim.episim(randomgraph, epiparam, ndays, nsims) #no mass gatherings\n",
    "St3,Et3,It3,Rt3=EpiSim.episim(covidsafe40, epiparam, ndays, nsims) #no mass gatherings, and 40% COVIDSafe\n",
    "St4,Et4,It4,Rt4=EpiSim.episim(wattstrog40, epiparam, ndays, nsims) #40% social isolation\n",
    "St5,Et5,It5,Rt5=EpiSim.episim(covidsafe60, epiparam, ndays, nsims) #40% social isolation & 60% COVIDSafe\n",
    "St6,Et6,It6,Rt6=EpiSim.episim(gathering50, epiparam, ndays, nsims) #no more than 50 people\n",
    "St7,Et7,It7,Rt7=EpiSim.episim(covidsafe50, epiparam, ndays, nsims) #no more than 50 people, COVIDSafe at 50%\n",
    "\n"
   ]
  },
  {
   "cell_type": "markdown",
   "metadata": {},
   "source": [
    "## Plot"
   ]
  },
  {
   "cell_type": "code",
   "execution_count": null,
   "metadata": {},
   "outputs": [],
   "source": [
    "compl=0.2\n",
    "swtch=1-compl^(1/4)\n",
    "plotly()"
   ]
  },
  {
   "cell_type": "code",
   "execution_count": null,
   "metadata": {},
   "outputs": [],
   "source": [
    "pop=epiparam[\"pop\"]\n",
    "plot([],title=\"Total anticipated infections\",xlabel=\"day\",ylabel=\"Infections\",ylimit=(0,500),label=false,size=(1600,800))\n",
    "EpiSim.plotquantiles(pop .- St0,:black,\"Back to the footy\",0.25)\n",
    "EpiSim.plotquantiles(pop .- St1,:red,\"Footy & 80% COVIDSafe\",0.25)\n",
    "EpiSim.plotquantiles(pop .- St6,:purple,\"50 person limit\",0.25)\n",
    "EpiSim.plotquantiles(pop .- St7,:magenta,\"50 person limit & 50% COVIDSafe\",0.25)\n",
    "EpiSim.plotquantiles(pop .- St2,:yellow,\"No mass gatherings\",0.25)\n",
    "EpiSim.plotquantiles(pop .- St3,:orange,\"40% COVIDSafe\",0.25)\n",
    "EpiSim.plotquantiles(pop .- St4,:blue,\"40% Work-from-home\",0.25)\n",
    "EpiSim.plotquantiles(pop .- St5,:green,\"40% Work-from-home & 60% COVIDSafe\",0.25)"
   ]
  },
  {
   "cell_type": "markdown",
   "metadata": {},
   "source": [
    "One I prepared earlier ...  with p=1/10, r=16."
   ]
  },
  {
   "cell_type": "code",
   "execution_count": null,
   "metadata": {},
   "outputs": [],
   "source": [
    "plot([],title=\"Total anticipated infections\",xlabel=\"day\",ylabel=\"Infections\",ylimit=(0,5000),label=false,size=(1200,800))\n",
    "EpiSim.plotquantiles(pop .- St0,:black,\"Back to the footy\",0.25)\n",
    "EpiSim.plotquantiles(pop .- St1,:red,\"Footy & 80% COVIDSafe\",0.25)\n",
    "EpiSim.plotquantiles(pop .- St2,:yellow,\"No mass gatherings\",0.25)\n",
    "EpiSim.plotquantiles(pop .- St3,:orange,\"40% COVIDSafe\",0.25)\n",
    "EpiSim.plotquantiles(pop .- St4,:blue,\"40% Work-from-home\",0.25)\n",
    "EpiSim.plotquantiles(pop .- St5,:green,\"40% Work-from-home & 60% COVIDSafe\",0.25)"
   ]
  },
  {
   "cell_type": "markdown",
   "metadata": {},
   "source": [
    "One I prepared earlier ...  with p=1/6, r=16."
   ]
  },
  {
   "cell_type": "code",
   "execution_count": null,
   "metadata": {},
   "outputs": [],
   "source": [
    "plot([],title=\"Total anticipated infections\",xlabel=\"day\",ylabel=\"Infections\",ylimit=(0,5000),label=false,size=(1200,800))\n",
    "EpiSim.plotquantiles(pop .- St0,:black,\"Back to the footy\",0.25)\n",
    "EpiSim.plotquantiles(pop .- St1,:red,\"Footy & 80% COVIDSafe\",0.25)\n",
    "EpiSim.plotquantiles(pop .- St2,:yellow,\"No mass gatherings\",0.25)\n",
    "EpiSim.plotquantiles(pop .- St3,:orange,\"40% COVIDSafe\",0.25)\n",
    "EpiSim.plotquantiles(pop .- St4,:blue,\"40% Work-from-home\",0.25)\n",
    "EpiSim.plotquantiles(pop .- St5,:green,\"40% Work-from-home & 60% COVIDSafe\",0.25)"
   ]
  },
  {
   "cell_type": "code",
   "execution_count": null,
   "metadata": {},
   "outputs": [],
   "source": [
    "plot()\n",
    "EpiSim.plotquantiles(pop .- St7,:magenta,\"50 person limit & 50% COVIDSafe\",0.25)"
   ]
  },
  {
   "cell_type": "code",
   "execution_count": null,
   "metadata": {},
   "outputs": [],
   "source": [
    "#@save \"wsj_part1.jld\"\n"
   ]
  },
  {
   "cell_type": "code",
   "execution_count": null,
   "metadata": {},
   "outputs": [],
   "source": [
    "St8,Et8,It8,Rt8=EpiSim.episim(safe50footy, epiparam, ndays, nsims) #footy, COVIDSafe at 50%\n",
    "St9,Et9,It9,Rt9=EpiSim.episim(safe50nmass, epiparam, ndays, nsims) #no more than 50 people, COVIDSafe at 50%\n",
    "St10,Et10,It10,Rt10=EpiSim.episim(safe50home, epiparam, ndays, nsims) #stay home, COVIDSafe at 50%"
   ]
  },
  {
   "cell_type": "code",
   "execution_count": null,
   "metadata": {},
   "outputs": [],
   "source": [
    "(l1,m1,h1)=EpiSim.plotquantiles(pop .- St0,:black,\"Permit mass gathering\",0.25)\n",
    "(l2,m2,h2)=EpiSim.plotquantiles(pop .- St8,:purple,\"Mass gathering & contact tracing\",0.25)\n",
    "(l3,m3,h3)=EpiSim.plotquantiles(pop .- St6,:purple,\"50 person limit\",0.25)\n",
    "(l4,m4,h4)=EpiSim.plotquantiles(pop .- St7,:magenta,\"50 person limit & contact tracing\",0.25)\n",
    "(l5,m5,h5)=EpiSim.plotquantiles(pop .- St2,:yellow,\"No mass gatherings\",0.25)\n",
    "(l6,m6,h6)=EpiSim.plotquantiles(pop .- St9,:yellow,\"No mass & contact tracing\",0.25)\n",
    "(l7,m7,h7)=EpiSim.plotquantiles(pop .- St4,:yellow,\"40% Stay home\",0.25)\n",
    "(l8,m8,h8)=EpiSim.plotquantiles(pop .- St10,:yellow,\"40% Stay home & contact tracing\",0.25)\n",
    "\n",
    "\n"
   ]
  },
  {
   "cell_type": "code",
   "execution_count": null,
   "metadata": {},
   "outputs": [],
   "source": [
    "upscale = 1.3\n",
    "fntsm = Plots.font(\"sans-serif\", pointsize=round(10.0*upscale))\n",
    "fntlg = Plots.font(\"sans-serif\", pointsize=round(14.0*upscale))\n",
    "default(titlefont=fntlg, guidefont=fntlg, tickfont=fntsm, legendfont=fntsm)\n"
   ]
  },
  {
   "cell_type": "code",
   "execution_count": null,
   "metadata": {},
   "outputs": [],
   "source": [
    "labels=[\"mass gathering\" \"mass gath. with CT\" \"50 person limit\" \"50 ppl. with CT\" \"no mass gatherings\" \"no gath. with CT\" \"40% stay home\" \"40% with CT\" ]\n",
    "linetyp=[:solid :dash :solid :dash :solid :dash :solid :dash ]\n",
    "linecol=[:black :black :red :red :blue :blue :green :green]\n",
    "plot([m1 m2 m3 m4 m5 m6 m7 m8],yaxis=:log,line=linetyp,color=linecol,label=labels,linewidth=3,xlabel=\"Days\",ylabel=\"Infected\",title=\"p=0.1, q=0.125, r=0.25\",size=(1000,1200))\n",
    "\n",
    "\n"
   ]
  },
  {
   "cell_type": "code",
   "execution_count": null,
   "metadata": {},
   "outputs": [],
   "source": [
    "labels[3]"
   ]
  },
  {
   "cell_type": "markdown",
   "metadata": {},
   "source": [
    "### Michael Small 6/6/20"
   ]
  },
  {
   "cell_type": "code",
   "execution_count": null,
   "metadata": {},
   "outputs": [],
   "source": []
  }
 ],
 "metadata": {
  "kernelspec": {
   "display_name": "Julia 1.4.0",
   "language": "julia",
   "name": "julia-1.4"
  },
  "language_info": {
   "file_extension": ".jl",
   "mimetype": "application/julia",
   "name": "julia",
   "version": "1.4.0"
  }
 },
 "nbformat": 4,
 "nbformat_minor": 4
}
