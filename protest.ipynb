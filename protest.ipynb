{
 "cells": [
  {
   "cell_type": "markdown",
   "metadata": {},
   "source": [
    "## Given no local transmission (or other arbitrary low level of transmission) in a single city, what is the effect of three days of 10^4+ people gathering for a hypothetical protest rally?\n",
    "\n",
    "The following code seeks to answer this question by first running a bunch of simualtions tuneds to historical data for Australian cities (in this case, Sydney, Melbourne, Brisbane and Perth). This gives an estimate of the number of undetected exposed individuals which we use to run scenarios of mass gatherings for a few days (protests) vs. not. \n",
    "\n",
    "First, define some necessary epidemeological parameters, demographic parameters, and Julia packages. "
   ]
  },
  {
   "cell_type": "code",
   "execution_count": 1,
   "metadata": {},
   "outputs": [
    {
     "data": {
      "text/plain": [
       "1×8 Array{String,2}:\n",
       " \"Canberra\"  \"Sydney\"  \"Darwin\"  …  \"Hobart\"  \"Melbourne\"  \"Perth\""
      ]
     },
     "execution_count": 1,
     "metadata": {},
     "output_type": "execute_result"
    }
   ],
   "source": [
    "cd(\"/Users/michael/work/GitHub/epinets\")\n",
    "include(\"EpiSim.jl\")\n",
    "using CSV\n",
    "using Plots\n",
    "using LightGraphs\n",
    "using JLD2, FileIO\n",
    "#demographics\n",
    "pops=[426709 8089526 245869 5095100 1751693 534281 6594804 2621680]\n",
    "cpop=[447457 4741874 132708 2326656 1315346 208324 4677157 2004696]\n",
    "cinf=[107 3110 29 1061 440 228 1681 596]\n",
    "#'reasonable' parameters\n",
    "epiparam=Dict()\n",
    "epiparam[\"p0\"]=0.2 #a guess - tuned to match observed data \n",
    "epiparam[\"p2\"]=1/12 #revised infection rate with distancing measure\n",
    "epiparam[\"q\"]=1/7 #\"up to\" two weeks\n",
    "epiparam[\"r0\"]=1/14 #about two weeks for mild, 3-6 for severe\n",
    "epiparam[\"r2\"]=1/4 #revised removal rate (now due to testing and isolation)\n",
    "epiparam[\"nseeds\"]=5 #probably too many, consider dropping.\n",
    "allstates=[\"Australian Capital Territory\" \"New South Wales\"  \"Northern Territory\" \"Queensland\" \"South Australia\" \"Tasmania\" \"Victoria\" \"Western Australia\"]\n",
    "allcities=[\"Canberra\" \"Sydney\" \"Darwin\" \"Brisbane\" \"Adelaide\" \"Hobart\" \"Melbourne\" \"Perth\"]\n",
    "\n"
   ]
  },
  {
   "cell_type": "markdown",
   "metadata": {},
   "source": [
    "Next, we run the simulations many, many times to get the distribution of background cases. This has already been done, the following cell can be skipped if you have the data stored in saved files (JLD files with the name of each city)."
   ]
  },
  {
   "cell_type": "code",
   "execution_count": null,
   "metadata": {},
   "outputs": [
    {
     "name": "stdout",
     "output_type": "stream",
     "text": [
      "100.0%┣█████████████████████████████████████┫ 100/100 [01:05:38<00:00, 0.0 it/s]\n",
      "34.8%┣████████████▏                      ┫ 139/400 [01:30:33<02:51:16, 0.0 it/s]"
     ]
    }
   ],
   "source": [
    "cd(\"/Users/michael/work/GitHub/COVID-19/csse_covid_19_data/csse_covid_19_time_series\")\n",
    "file=\"time_series_covid19_confirmed_global.csv\"\n",
    "z=[]\n",
    "for state in allstates\n",
    "    z=push!(z,EpiSim.getdata(\"Australia\",state))\n",
    "end\n",
    "ddays=CSV.File(file)[1]\n",
    "ddays=propertynames(ddays,4)[5:end]\n",
    "ddays=String.(ddays)\n",
    "ndays=length(ddays)\n",
    "\n",
    "for i in [2, 4, 7, 8]\n",
    "\tepiparam[\"pop\"]=pops[i]\n",
    "\tepiparam[\"gridsize\"]=Int(floor(sqrt(pops[i])))\n",
    "\ty=z[i];\n",
    "\tddt(z,zt)=count(z->z>0, z[1:zt])+ count(z->z<0, z[zt+1:end])\n",
    "\t~,tpday=findmax([ddt(diff(diff(y)),nx) for nx in 1:(ndays-2)])\n",
    "\t#this is the turning point between exponential growth and decay. totItp total infections at day tpday\n",
    "\ttotItp=y[tpday+1]\n",
    "\tplot(1:tpday+1,y[1:tpday+1],lw=4,label=\"growth phase\",title=allstates[i])\n",
    "\tplot!(tpday+1:ndays,y[tpday+1:ndays],lw=4,label=\"plateau\")\n",
    "\tcd(\"/Users/michael/work/GitHub/epinets\")\n",
    "\tgridsize=epiparam[\"gridsize\"]\n",
    "\tpop=epiparam[\"pop\"]\n",
    "\tbamodel=barabasi_albert(gridsize^2, 3, 2)\n",
    "\t#lattice=LightGraphs.grid((gridsize,gridsize),periodic=true)\n",
    "\t#wattstrog95=watts_strogatz(gridsize^2, 4, 0.013)  #s=0.013 => 95% compliance\n",
    "\t#wattstrog90=watts_strogatz(gridsize^2, 4, 0.026)  #s=0.026 => 90% compliance\n",
    "\twattstrog80=watts_strogatz(gridsize^2, 4, 0.053)  #s=0.053 => 80% compliance\n",
    "\t#St95,Et95,It95,Rt95=EpiSim.episim(bamodel,wattstrog95, epiparam, totItp, tpday+2, 90, 100)\n",
    "\t#St90,Et90,It90,Rt90=EpiSim.episim(bamodel,wattstrog90, epiparam, totItp, tpday+2, 90, 100)\n",
    "\t\n",
    "\tth=cinf[i]\n",
    "\n",
    "\tSt80,Et80,It80,Rt80=EpiSim.episim(bamodel,wattstrog80, epiparam, totItp, tpday+2, 90, 100)\n",
    "\t(Sp,Ep,Ip,Rp) = EpiSim.epipred(th, St80,Et80,It80,Rt80)\n",
    "\n",
    "\n",
    "\tiso=0.8 #was 0.95, I think 0.8 should be enough ... actually this parameter *may* significantly affect the results as it determines the susceptible pool size\n",
    "\tpop=epiparam[\"pop\"]\n",
    "\tgrd=Int(floor(sqrt(Int(floor(pop*(1-iso))))))\n",
    "\tisosize=pop-grd^2\n",
    "\tsg=SimpleGraph(isosize)\n",
    "\tws=watts_strogatz(grd^2, 4, 0.026)\n",
    "\tisograph80=union(sg,ws)\n",
    "\tSt9,Et9,It9,Rt9=EpiSim.episim3(bamodel,wattstrog80, isograph80, epiparam, totItp, tpday+2, 1, 180, 400)\n",
    "\t(Sp,Ep,Ip,Rp) = EpiSim.epipred(th, St9,Et9,It9,Rt9)\n",
    "\n",
    "\tRR = Rp[2:end,:] - Rp[1:end-1,:] ### daily increase of removed\n",
    "\tII = RR+Ip[2:end,:]-Ip[1:(end-1),:] ### daily increase of infected\n",
    "\tEE = II+Ep[2:end,:]-Ep[1:(end-1),:] ### daily increase of exposed\n",
    "\tET = Ep[2:end,:] ### current number of exposed\n",
    "\n",
    "    flnm=[\"protest-\"*allcities[i]]\n",
    "\t@save flnm RR II EE ET\n",
    "\n",
    "end"
   ]
  },
  {
   "cell_type": "code",
   "execution_count": null,
   "metadata": {},
   "outputs": [],
   "source": [
    "\tcd(\"/Users/michael/work/GitHub/epinets\")"
   ]
  },
  {
   "cell_type": "code",
   "execution_count": null,
   "metadata": {},
   "outputs": [],
   "source": [
    "plts=Array{Any,1}(undef,8)\n",
    "cld=Array{Any,1}(undef,8)\n",
    "for i in [2 4 7 8]\n",
    "    cld[i]=load(allcities[i])\n",
    "    plts[i]=plot(cld[i][\"II\"],cld[i][\"ET\"],seriestype=:scatter,legend=false,title=allcities[i],xlabel=\"new infections\", ylabel=\"total exposed\",xlim=(0,100),ylim=(0, 1200))\n",
    "end"
   ]
  },
  {
   "cell_type": "code",
   "execution_count": null,
   "metadata": {},
   "outputs": [],
   "source": [
    "plot(plts[2], plts[4], plts[7], plts[8])"
   ]
  },
  {
   "cell_type": "code",
   "execution_count": null,
   "metadata": {},
   "outputs": [],
   "source": [
    "function makeheatmappdf(II,ET)\n",
    "    ninf=40\n",
    "    texp=1000\n",
    "    hidden=zeros(Int64, texp+1, ninf+1)\n",
    "    (ndays,nsims)=size(II)\n",
    "    for i in 1:ndays\n",
    "        for j in 1:nsims\n",
    "            xi=II[i,j]\n",
    "            xj=ET[i,j]\n",
    "            if xi<ninf && xj<texp\n",
    "                hidden[xj+1,xi+1] += 1\n",
    "            end\n",
    "        end\n",
    "    end\n",
    "    hidpdf=Array{Float64, 2}(undef, texp+1, ninf+1)\n",
    "    for i in 1:(ninf+1)\n",
    "        hidpdf[:, i] = hidden[:, i] / sum(hidden[:, i])\n",
    "    end\n",
    "    return hidpdf\n",
    "end\n"
   ]
  },
  {
   "cell_type": "markdown",
   "metadata": {},
   "source": [
    "Finally, we arrive at the distribution of expected number of undiscloses exposed individuals on a day with a given number of new infections. I suspect the model fit for Sydney and Brisbane may not be great as those numbers look a little high."
   ]
  },
  {
   "cell_type": "code",
   "execution_count": null,
   "metadata": {},
   "outputs": [],
   "source": [
    "hidpdf=Array{Any,1}(undef,8)\n",
    "ylims=[NaN 600 NaN 600 NaN NaN 300 300]\n",
    "for i in [2 4 7 8]\n",
    "    hidpdf[i]=makeheatmappdf(cld[i][\"II\"],cld[i][\"ET\"])\n",
    "    plts[i]=heatmap(0:40,0:1000, hidpdf[i], title=allcities[i], xlabel=\"number of new infected\", ylabel=\"number of hidden exposed\",ylim=(0,ylims[i]), xlim=(0,20), color=cgrad([:white,:orange, :red], [0, 0.5, 0.8]) )\n",
    "end\n",
    "plot(plts[2], plts[4], plts[7], plts[8])"
   ]
  },
  {
   "cell_type": "code",
   "execution_count": null,
   "metadata": {},
   "outputs": [],
   "source": [
    "i=8\n",
    "plot(hidpdf[i][:,1:5],xlim=(0,100),linetype=:bar,xlabel=\"Number of undiagnosed exposed individuals (given N infections)\",ylabel=\"pdf\",title=\"Perth\",label=[\"N=0\" \"N=1\" \"N=2\" \"N=3\" \"N=4\"])"
   ]
  },
  {
   "cell_type": "code",
   "execution_count": null,
   "metadata": {},
   "outputs": [],
   "source": [
    "using Random, StatsBase, Distributions, Statistics"
   ]
  },
  {
   "cell_type": "code",
   "execution_count": null,
   "metadata": {},
   "outputs": [],
   "source": [
    "i=8\n",
    "nedg,~=size(hidpdf[i])\n",
    "randi=sample(0:(nedg-1), Weights(hidpdf[i][:,1]),10);"
   ]
  },
  {
   "cell_type": "code",
   "execution_count": null,
   "metadata": {},
   "outputs": [],
   "source": [
    "ppop=[NaN 20 NaN 30 NaN NaN 10 5].*1000\n"
   ]
  },
  {
   "cell_type": "code",
   "execution_count": null,
   "metadata": {},
   "outputs": [],
   "source": [
    "i=8\n",
    "nsim=30\n",
    "#'reasonable' parameters\n",
    "epiparam=Dict()\n",
    "epiparam[\"p0\"]=1/10 #a guess - tuned to match observed data \n",
    "epiparam[\"q\"]=1/7 #\"up to\" two weeks\n",
    "epiparam[\"r0\"]=1/4 #about two weeks for mild, 3-6 for severe\n",
    "randi=sample(0:(nedg-1), Weights(hidpdf[i][:,1]),nsim);\n",
    "epiparam[\"nseeds\"]=randi; #probably too many, consider dropping.\n",
    "epiparam[\"pop\"]=cpop[i]\n",
    "\n"
   ]
  },
  {
   "cell_type": "code",
   "execution_count": null,
   "metadata": {},
   "outputs": [],
   "source": [
    "include(\"EpiSim.jl\")\n",
    "include(\"ContactModels.jl\")"
   ]
  },
  {
   "cell_type": "code",
   "execution_count": null,
   "metadata": {},
   "outputs": [],
   "source": [
    "net1=covidsafe(limitmix(cpop[i],ppop[i]),0.5) #covidsafe at 50% and mass gathering of size popp[i]\n",
    "net2=covidsafe(limitmix(cpop[i],50),0.5) #covidsafe at 50% and more modest 50 ppl gatherings\n",
    "net3=covidsafe(nomassmix(cpop[i]),0.5) #covidsafe at 50% and no mass gatherings gatherings"
   ]
  },
  {
   "cell_type": "code",
   "execution_count": null,
   "metadata": {},
   "outputs": [],
   "source": [
    " st1, ex1, fe1, rm1 = EpiSim.episimprotest(net1,net3,epiparam,3,147,nsim) \n",
    " st2, ex2, fe2, rm2 = EpiSim.episimprotest(net3,net3,epiparam,3,147,nsim) "
   ]
  },
  {
   "cell_type": "code",
   "execution_count": null,
   "metadata": {},
   "outputs": [],
   "source": [
    "plot(title=[allcities[i] \" \" ppop[i] \" person protests over one weekend\"])\n",
    "EpiSim.plotquantiles(fe1+rm1,:red,\"Protests\",0.25)\n",
    "EpiSim.plotquantiles(fe2+rm2,:blue,\"No Protests\",0.25)"
   ]
  },
  {
   "cell_type": "code",
   "execution_count": null,
   "metadata": {},
   "outputs": [],
   "source": [
    "plotly()"
   ]
  },
  {
   "cell_type": "code",
   "execution_count": null,
   "metadata": {},
   "outputs": [],
   "source": [
    "nppl=Array{Int,1}(undef, 8)\n",
    "nppl[2]=20\n",
    "nppl[4]=20\n",
    "nppl[7]=20\n",
    "nppl[8]=100\n",
    "for i in [2] #[2 4 7 8]\n",
    "    nsim=100\n",
    "    randi=sample(0:(nedg-1), Weights(hidpdf[i][:,1]),nsim);\n",
    "    epiparam[\"nseeds\"]=randi; \n",
    "    epiparam[\"pop\"]=cpop[i]\n",
    "    net1=covidsafe(limitmix(cpop[i],ppop[i]),0.5) #covidsafe at 50% and mass gathering of size popp[i]\n",
    "    net2=covidsafe(limitmix(cpop[i],nppl[i]),0.5) #covidsafe at 50% and more modest 50 ppl gatherings\n",
    "    st1, ex1, fe1, rm1 = EpiSim.episimprotest(net1,net2,epiparam,3,147,nsim) \n",
    "    st2, ex2, fe2, rm2 = EpiSim.episimprotest(net2,net2,epiparam,3,147,nsim)\n",
    "    \n",
    "    filename=\"pro_\"*allcities[i]\n",
    "    @save filename st1 ex1 fe1 rm1 st2 ex2 fe2 rm2 net1 net2 epiparam randi nsim\n",
    "end\n"
   ]
  },
  {
   "cell_type": "code",
   "execution_count": null,
   "metadata": {},
   "outputs": [],
   "source": [
    "plotly()"
   ]
  },
  {
   "cell_type": "code",
   "execution_count": null,
   "metadata": {},
   "outputs": [],
   "source": [
    "i=2\n",
    "    filename=\"pro_\"*allcities[i]\n",
    "    ld=load(filename)\n",
    "\n",
    "    plts[i]=plot(title=[allcities[i] \" \" ppop[i] \" person protests over one weekend\"])\n",
    "    EpiSim.plotquantiles(ld[\"fe1\"]+ld[\"rm1\"],:red,\"Protests\",0.25)\n",
    "    EpiSim.plotquantiles(ld[\"fe2\"]+ld[\"rm2\"],:blue,\"No Protests\",0.25)\n",
    "for i in [4 7 8]\n",
    "    filename=\"pro_\"*allcities[i]\n",
    "    ld=load(filename)\n",
    "\n",
    "    plts[i]=plot(title=[allcities[i] \" \" ppop[i] \" person protests over one weekend\"])\n",
    "    EpiSim.plotquantiles(ld[\"fe1\"]+ld[\"rm1\"],:red,0.25)\n",
    "    EpiSim.plotquantiles(ld[\"fe2\"]+ld[\"rm2\"],:blue,0.25)\n",
    "end"
   ]
  },
  {
   "cell_type": "code",
   "execution_count": null,
   "metadata": {},
   "outputs": [],
   "source": [
    "plot(plts[2], plts[4], plts[7], plts[8],size=(800,700))"
   ]
  },
  {
   "cell_type": "code",
   "execution_count": null,
   "metadata": {},
   "outputs": [],
   "source": [
    "i=2\n",
    "    filename=\"pro_\"*allcities[i]\n",
    "    ld=load(filename)\n",
    "    nd=60\n",
    "    plot()\n",
    "    plts[i]=histogram([ld[\"fe1\"][nd,:]+ld[\"rm1\"][nd,:], ld[\"fe2\"][nd,:]+ld[\"rm2\"][nd,:]], xlabel=\"New infections $(nd) days later\",labels=false,bins=20, opacity=0.5,title=allcities[i])\n",
    "for i in [4 7 8]\n",
    "    filename=\"pro_\"*allcities[i]\n",
    "    ld=load(filename)\n",
    "    nd=60\n",
    "    plot()\n",
    "    plts[i]=histogram([ld[\"fe1\"][nd,:]+ld[\"rm1\"][nd,:], ld[\"fe2\"][nd,:]+ld[\"rm2\"][nd,:]], xlabel=\"New infections $(nd) days later\",labels=false,bins=20, opacity=0.5,title=allcities[i])\n",
    "end"
   ]
  },
  {
   "cell_type": "code",
   "execution_count": null,
   "metadata": {},
   "outputs": [],
   "source": [
    "plot(plts[2], plts[4], plts[7], plts[8],size=(800, 800))"
   ]
  },
  {
   "cell_type": "code",
   "execution_count": null,
   "metadata": {
    "scrolled": false
   },
   "outputs": [],
   "source": [
    "histogram([ld[\"fe1\"][nd,:]+ld[\"rm1\"][nd,:], ld[\"fe2\"][nd,:]+ld[\"rm2\"][nd,:]], xlabel=\"New infections $(nd) days later\",labels=false,bins=20, opacity=0.5,title=allcities[i])"
   ]
  },
  {
   "cell_type": "code",
   "execution_count": null,
   "metadata": {},
   "outputs": [],
   "source": [
    "st=Array{Any,1}(undef,42)\n",
    "ex=Array{Any,1}(undef,42)\n",
    "fe=Array{Any,1}(undef,42)\n",
    "rm=Array{Any,1}(undef,42)\n",
    "i=8\n",
    "    nsim=100\n",
    " #   st0, ex0, fe0, rm0 = EpiSim.episimprotest(net2,net2,epiparam,3,147,nsim)\n",
    "for j=1:42\n",
    "    randi=sample(0:(nedg-1), Weights(hidpdf[i][:,1]),nsim);\n",
    "    epiparam[\"nseeds\"]=randi; \n",
    "    epiparam[\"pop\"]=cpop[i]\n",
    "    net1=covidsafe(limitmix(cpop[i],ppop[i]),0.5) #covidsafe at 50% and mass gathering of size popp[i]\n",
    "    net2=covidsafe(limitmix(cpop[i],nppl[i]),0.5) #covidsafe at 50% and more modest 50 ppl gatherings\n",
    "    st1, ex1, fe1, rm1 = EpiSim.episimprotest(net1,net2,epiparam,j,150-j,nsim) \n",
    "    st[j]=deepcopy(st1)\n",
    "    ex[j]=deepcopy(ex1)\n",
    "    fe[j]=deepcopy(fe1)\n",
    "    rm[j]=deepcopy(rm1)\n",
    "    @save \"progress-ndays\" st ex fe rm\n",
    "end\n"
   ]
  },
  {
   "cell_type": "code",
   "execution_count": null,
   "metadata": {},
   "outputs": [],
   "source": [
    "np=20\n",
    "nd=30\n",
    "i=8\n",
    "histogram([fe[np][nd,:]+rm[np][nd,:], fe0[nd,:]+rm0[nd,:]], xlabel=\"New infections $(nd) days after $(np) days of proterst\",labels=false,bins=20, opacity=0.5,title=allcities[i])\n",
    "\n"
   ]
  },
  {
   "cell_type": "code",
   "execution_count": null,
   "metadata": {},
   "outputs": [],
   "source": [
    "@save(\"protest-ndays\")"
   ]
  },
  {
   "cell_type": "code",
   "execution_count": null,
   "metadata": {},
   "outputs": [],
   "source": [
    "fe[1]"
   ]
  },
  {
   "cell_type": "code",
   "execution_count": null,
   "metadata": {},
   "outputs": [],
   "source": []
  }
 ],
 "metadata": {
  "@webio": {
   "lastCommId": null,
   "lastKernelId": null
  },
  "kernelspec": {
   "display_name": "Julia 1.4.0",
   "language": "julia",
   "name": "julia-1.4"
  },
  "language_info": {
   "file_extension": ".jl",
   "mimetype": "application/julia",
   "name": "julia",
   "version": "1.4.0"
  }
 },
 "nbformat": 4,
 "nbformat_minor": 4
}
