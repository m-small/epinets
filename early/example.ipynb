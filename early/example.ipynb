{
 "cells": [
  {
   "cell_type": "markdown",
   "metadata": {},
   "source": [
    "# Episim.jl\n",
    "\n",
    "Example of use and application for disease modelling via complex network contagion models."
   ]
  },
  {
   "cell_type": "code",
   "execution_count": 1,
   "metadata": {},
   "outputs": [
    {
     "data": {
      "text/plain": [
       "Main.EpiSim"
      ]
     },
     "execution_count": 1,
     "metadata": {},
     "output_type": "execute_result"
    }
   ],
   "source": [
    "include(\"EpiSim.jl\")"
   ]
  },
  {
   "cell_type": "code",
   "execution_count": 2,
   "metadata": {},
   "outputs": [],
   "source": [
    "using CSV\n",
    "using Plots\n",
    "using LightGraphs\n",
    "using JLD2, FileIO"
   ]
  },
  {
   "cell_type": "markdown",
   "metadata": {},
   "source": [
    "First, we will get some data (always useful). In this case Australian infection numbers from the John Hopkins github repository"
   ]
  },
  {
   "cell_type": "code",
   "execution_count": 5,
   "metadata": {},
   "outputs": [],
   "source": [
    "cd(\"/Users/michael/work/GitHub/COVID-19/csse_covid_19_data/csse_covid_19_time_series\")\n",
    "file=\"time_series_covid19_confirmed_global.csv\"\n",
    "allstates=[\"Australian Capital Territory\" \"New South Wales\"  \"Northern Territory\" \"Queensland\" \"South Australia\" \"Tasmania\" \"Victoria\" \"Western Australia\"]\n",
    "z=[]\n",
    "for state in allstates\n",
    "    z=push!(z,EpiSim.getdata(\"Australia\",state))\n",
    "end"
   ]
  },
  {
   "cell_type": "code",
   "execution_count": 6,
   "metadata": {},
   "outputs": [
    {
     "data": {
      "text/plain": [
       "99"
      ]
     },
     "execution_count": 6,
     "metadata": {},
     "output_type": "execute_result"
    }
   ],
   "source": [
    "pops=[426709 8089526 245869 5095100 1751693 534281 6594804 2621680]\n",
    "ddays=CSV.File(file)[1]\n",
    "ddays=propertynames(ddays,4)[5:end]\n",
    "ddays=String.(ddays)\n",
    "ndays=length(ddays)"
   ]
  },
  {
   "cell_type": "code",
   "execution_count": 7,
   "metadata": {},
   "outputs": [],
   "source": [
    "cd(\"/Users/michael/work/GitHub/epinets\")"
   ]
  },
  {
   "cell_type": "code",
   "execution_count": null,
   "metadata": {},
   "outputs": [],
   "source": [
    "We need to prepare our model parameters. In this case, p0 and p2 and r0 and r2 indicate values before "
   ]
  },
  {
   "cell_type": "code",
   "execution_count": null,
   "metadata": {},
   "outputs": [],
   "source": [
    "nsim=50 #50 simulations\n",
    "predays=50 #50 days bfore changepoint\n",
    "postdays=150 #50 days after\n",
    "\n",
    "#initialise and get set to track the various tallies\n",
    "ndays=predays+postdays\n",
    "st=Array{UInt64,2}(undef,ndays,nsim)\n",
    "ex=Array{UInt64,2}(undef,ndays,nsim)\n",
    "fe=Array{UInt64,2}(undef,ndays,nsim)\n",
    "rm=Array{UInt64,2}(undef,ndays,nsim)\n",
    "\n",
    "net1=\n",
    "net2=\n",
    "\n",
    "p0=\n",
    "p2=\n",
    "q=\n",
    "r0=\n",
    "r2="
   ]
  },
  {
   "cell_type": "code",
   "execution_count": null,
   "metadata": {},
   "outputs": [],
   "source": [
    "for j in 1:nsim  #perform nsim simualtions\n",
    "    \n",
    "    net=net1     #active contact network is net1 to start\n",
    "    #initilise the rate parameters\n",
    "    r=r0\n",
    "    p=p0\n",
    "\n",
    "    #reinitialise the state vector\n",
    "    state=Array{Int8,2}(undef,1,pop) #this is a bit wasteful, there must be a better categorical way to do this...\n",
    "    state[1:pop].=1;\n",
    "    state[rand((1:pop),(1,nseeds))].=2; #seeds should be exposed cases\n",
    "\n",
    "    notdoneyet=true\n",
    "    while i<=(predays+postdays) #for each simulation, do the following\n",
    "\n",
    "        #updating the infection states\n",
    "        epistep!(state, net, p, q, r)  #this calls the function EpiSim.epistep! to update the state of all nodes\n",
    "\n",
    "        #count the respective totals\n",
    "        st[i,j] = count(x->x==1, state)\n",
    "        ex[i,j] = count(x->x==2, state)\n",
    "        fe[i,j] = count(x->x==3, state)\n",
    "        rm[i,j] = count(x->x==4, state)\n",
    "        \n",
    "    \n",
    "        inftot = pop-(st[i,j]+ex[i,j])   #if some condition is met, switch parameters, realign everything and continue\n",
    "        if notdoneyet && inftot>feth   #notdoneyet - we only want to do this ONCE\n",
    "            net=net2 #change network structure\n",
    "            r=r2     #change the removal rate\n",
    "            p=p2     #and the infection rate\n",
    "            #realign everything - this is clunky, should be a nicer way to achieve the same thing...\n",
    "            epirealign!(st, ex, fe, rm, i, j, predays, pop)\n",
    "            i=predays           #counter set to done predays.\n",
    "            notdoneyet=false    #we don't want to come back here again\n",
    "        end\n",
    "        \n",
    "        i =+1\n",
    "        \n",
    "    end\n",
    "\n",
    "end\n",
    "    "
   ]
  }
 ],
 "metadata": {
  "kernelspec": {
   "display_name": "Julia 1.4.0",
   "language": "julia",
   "name": "julia-1.4"
  },
  "language_info": {
   "file_extension": ".jl",
   "mimetype": "application/julia",
   "name": "julia",
   "version": "1.4.0"
  }
 },
 "nbformat": 4,
 "nbformat_minor": 4
}
